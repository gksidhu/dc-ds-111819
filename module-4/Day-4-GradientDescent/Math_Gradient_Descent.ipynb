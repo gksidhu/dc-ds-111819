{
 "cells": [
  {
   "cell_type": "markdown",
   "metadata": {},
   "source": [
    "# Linear Algebra, Calculus, and Gradient Descent\n",
    "\n",
    "__Objectives__\n",
    "* Use operations with vectors and matrices to solve systems of linear equations\n",
    "* Identify and describe of scalars, vectors,  matrices, using appropriate mathematical jargon\n",
    "* Set up and solve systems of linear equations with real life examples\n",
    "* Describe gradient descent in relation to slope, derivatives, and step size\n",
    "\n",
    "\n",
    "## Why Linear Algebra?\n",
    "\n",
    "Linear Algebra is the basis of many machine learning models.\n",
    "\n",
    "Data is usually already set up into a matrix by default!\n",
    "\n",
    "<img src= \"./resources/dataset.jpeg\">\n"
   ]
  },
  {
   "cell_type": "markdown",
   "metadata": {},
   "source": [
    "\n",
    "It can be used to model complicated things like language\n",
    "\n",
    "<img src = \"./resources/Word-Vectors.png\">"
   ]
  },
  {
   "cell_type": "markdown",
   "metadata": {},
   "source": [
    "Important for image compression and recognition\n",
    "\n",
    "<img src = \"./resources/images.gif\">"
   ]
  },
  {
   "cell_type": "markdown",
   "metadata": {},
   "source": [
    "Also matrices are the common notation used in the popular libraries like numpy, scipy and sklearn.\n",
    "\n",
    "<img src = \"./resources/matrix_multiplication.png\">\n"
   ]
  },
  {
   "cell_type": "markdown",
   "metadata": {},
   "source": [
    "This is an image from Andrew Ng's Neural Networks and Deep Learning course.\n",
    "\n",
    "<img src = \"./resources/gradient_descent.png\" width  = 500>"
   ]
  },
  {
   "cell_type": "markdown",
   "metadata": {},
   "source": [
    "This is an image from Andrew Ng's Sequence Model's Course. \n",
    "\n",
    "<img src = \"./resources/lstm.png\" width  = 500>"
   ]
  },
  {
   "cell_type": "markdown",
   "metadata": {},
   "source": [
    "## Linear algebra and Linear Regression\n",
    "\n",
    "- Let's move to the notebook matrix algebra with numpy :)"
   ]
  },
  {
   "cell_type": "markdown",
   "metadata": {},
   "source": [
    "## Gradient Descent"
   ]
  },
  {
   "cell_type": "markdown",
   "metadata": {},
   "source": [
    "[Gradient slide](https://www.youtube.com/watch?v=vWFjqgb-ylQ)"
   ]
  },
  {
   "cell_type": "markdown",
   "metadata": {},
   "source": [
    "## Gradient in Action"
   ]
  },
  {
   "cell_type": "code",
   "execution_count": 11,
   "metadata": {},
   "outputs": [],
   "source": [
    "import pandas as pd\n",
    "import numpy as np\n",
    "from matplotlib import pyplot as plt\n",
    "import random\n",
    "import seaborn as sns"
   ]
  },
  {
   "cell_type": "code",
   "execution_count": 12,
   "metadata": {},
   "outputs": [
    {
     "data": {
      "text/plain": [
       "array([0., 0., 0., 0., 0., 0., 0., 0., 0., 0.])"
      ]
     },
     "execution_count": 12,
     "metadata": {},
     "output_type": "execute_result"
    }
   ],
   "source": [
    "numPoints=10\n",
    "np.zeros(shape=numPoints)"
   ]
  },
  {
   "cell_type": "code",
   "execution_count": 13,
   "metadata": {},
   "outputs": [],
   "source": [
    "def genData(numPoints, bias, variance):\n",
    "    x = np.zeros(shape=(numPoints, 2))\n",
    "    y = np.zeros(shape=numPoints)\n",
    "    # basically a straight line\n",
    "    for i in range(0, numPoints):\n",
    "        # bias feature\n",
    "        x[i][0] = 1\n",
    "        x[i][1] = i\n",
    "        # our target variable\n",
    "        y[i] = (i + bias) + np.random.uniform(0, 1) * variance\n",
    "    return x, y"
   ]
  },
  {
   "cell_type": "code",
   "execution_count": 14,
   "metadata": {},
   "outputs": [],
   "source": [
    "x = np.random.uniform(low =0, high=1, size = 1000)\n",
    "\n",
    "y = 10*x + 25 + np.random.normal(loc = 0, scale = 1, size = 1000)"
   ]
  },
  {
   "cell_type": "code",
   "execution_count": 15,
   "metadata": {},
   "outputs": [],
   "source": [
    "# gen 100 points with a bias of 25 and 10 variance as a bit of noise\n",
    "x, y = genData(100, 25, 25)\n",
    "m, n = np.shape(x)"
   ]
  },
  {
   "cell_type": "code",
   "execution_count": 16,
   "metadata": {},
   "outputs": [
    {
     "data": {
<<<<<<< HEAD
      "image/png": "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\n",
=======
      "image/png": "iVBORw0KGgoAAAANSUhEUgAAAXcAAAD4CAYAAAAXUaZHAAAABHNCSVQICAgIfAhkiAAAAAlwSFlzAAALEgAACxIB0t1+/AAAADh0RVh0U29mdHdhcmUAbWF0cGxvdGxpYiB2ZXJzaW9uMy4xLjAsIGh0dHA6Ly9tYXRwbG90bGliLm9yZy+17YcXAAAeg0lEQVR4nO3dfZBc5XXn8e/RSCMaSWZkGAHRSBGmVIq1FLFg1sZoywsmxsJmLWOTtUMWFBajUNiLN7U2stfLZrfIHxGwsZNKBAhsA0l4cYQJFJvCdhGpvCUbhZFlEyxQeLGDRuhlDDPyIA0ajebsH317uBr17b7d995+uf37VKlm+nZP93Pd+PTT557nPObuiIhIvsxo9gBERCR9Cu4iIjmk4C4ikkMK7iIiOaTgLiKSQzObPQCA0047zZcsWdLsYYiItJXt27f/yt17y93XEsF9yZIlDAwMNHsYIiJtxcz+Neo+pWVERHJIwV1EJIcU3EVEckjBXUQkhxTcRURyqCWqZURE2s3kpPPGoXHGJ47RPbOLU+d0M2OGNXtYUxTcRURqNDnp7No/yvUPDDA4PEbf/AL3XNPPstPntUyAr5qWMbNvmdkBM3u+zH1fMjM3s9OC22Zmf2FmL5vZc2Z2XhaDFhFppjcOjU8FdoDB4TGuf2CANw6NN3lk74iTc78PWDX9oJktAj4CvBY6fBmwNPi3Frgz+RBFRFrL+MSxqcBeMjg8xvjEsSaN6ERVg7u7/xB4s8xdXwduBsK7fawGHvCiZ4AeMzszlZGKiDTB5KQzNHqEPcOHGRo9wuSk0z2zi775hanHrFjUw7f/4N9yzH3qMXGfKyt15dzN7BPAHnf/mdlx+aWFwO7Q7cHg2N4yz7GW4uyexYsX1zMMEZFMReXWl/bO5Z5r+rn+gQF6587m5lXL+PKm5yrm3xudp6+5FNLMTga+BvzPcneXOVb2o8ndN7p7v7v39/aW7XsjItJUUbn14bGjLDt9Ho/duJK/vGrFVGAPP2Z6/r3Refp66tzPBs4CfmZmvwT6gJ+Y2RkUZ+qLQo/tA15POkgRkWaolFufMcPonTd76li5x8R9rizUHNzd/Z/dfYG7L3H3JRQD+nnuvg94ArgmqJq5ADjo7iekZERE2sH03DpA3/wC3TO7anpMLY9LS5xSyIeAHwPLzGzQzK6r8PB/AF4FXgbuAW5MZZQiIk1w6pxu7rmmfyool/Lkp87prukxtTwuLeae3dXauPr7+1393EWkFcVZiRp3tWraq1rNbLu795e7TytURUQqCOfWkzymlselQcFdRITW7xVTKwV3Eel47dArplZq+SsiHa8desXUSsFdRDpeO/SKqZWCu4h0vEbXoDeCgruIdLxG16A3gi6oikhHiaqKKfWKUbWMiEibqVYV06ga9NJYsiy9VFpGRDpGq1TFlD5krtiwlZXrN3PFhq3s2j+aan93BXcR6RjNqIopt0FHIz5klJYRkY5RqooJB/gsq2Ki0kDvOmlm5h8ymrmLSMdodFVM1AzdzDIvvdTMXUQ6RqOrYqLSQF3G1DZ94Rl9mh8yCu4i0lEaWRUTlQaaMWNG5h8ySsuIiGSkUhqo9CGzcP7J9M6bnfq3B83cRUQy0szFUQruIiIZavTiqKnXbfgriohI5hTcRURySGkZEUksb1vURWmn81RwF5FE8rhFXTntdp5Ky4hIIq3SjCtr7XaemrmLSCJ53KKunFrOsxXSNwruIpJIo5txNUvc82yV9I3SMiKSSDtsUVeu7W6t4p5nq6Rvqs7czexbwOXAAXc/Jzh2O/AfgHHgFeBadx8J7vsqcB1wDLjJ3b+X0dhFpAXUswqzkWmLtGbScc+zVdJUcWbu9wGrph37AXCOu58L/AvwVQAzWw58Fvg3wd9sMLN8fTcTkRPU0ielEbsQhaU5k45znqX0TVgz0lRVg7u7/xB4c9qx77v7RHDzGaAv+H018LC7H3H3XwAvA+9Pcbwi0kaS7EKURioFGj+TbpU0VRoXVP8z8Ejw+0KKwb5kMDh2AjNbC6wFWLx4cQrDEJFWkmQXojQvSjb6gm8zm4UdN44kf2xmXwMmgL8tHSrzsLIft+6+0d373b2/t7c3yTBEJGVRs+ZaZtNJdiFKM5XSjJl01u1846h75m5mayheaL3E3Uvv8CCwKPSwPuD1+ocnIo0WNWte2juXl4beij2bTrILUZqplFaZSTdaXcHdzFYB64B/7+6HQ3c9ATxoZn8G/AawFPinxKMUkYaZPmvunTubfQffZt5JM8vOph+7cWXZlrZJdiGa/rcrFvVw0yVLOebFbw61BueotrutsNgoK1XTMmb2EPBjYJmZDZrZdcBfAvOAH5jZT83sLgB3/znwHWAn8BTweXfP1zI1kZwLz5pXLOrhSx9dxi2PP8+e4bGaZtNJdiEK/+2KRT3cvKo4hg/dtiW16ppKVTtpXcxtJnsno9I8/f39PjAw0OxhiAgwNHqEKzZsZXB4jLuvPp9bn9x5wu8lffMLkTN3SDYzDv/tZzY+U9Pr1nqe4ed94gsr2f/rI01fYRqHmW139/5y92mFqkgOJZl5hmfNPYVZU8Hvri2vsP7T59Z0YTLJhcVwKiWLUsaovP7Y+LGWWGGalHrLiORM0jLC6RcgS7nvHbtHuON7u7h19TmcvWAuhVmNyVFXK2Ws99tB1PMec2+JFaZJaeYukjNplBGWZs1nnlI4Lm8+9NYRzjjlJPp6Cg0r8auUu0+y2jXqeU+a1RorTJNSzl0kZ/YMH2bl+s0nHN+67mIWzj+55udrhYqS6WOYX5jF8NjRxPn4cucGtERXxzgq5dyVlhHJmbRXZEaVETZSeAzhtNP/+d3fjkyhxPlQijq3PNTFKy0jkjOt0tskK+G008jY0bIplEJ3V6LmZK2wwjQpzdxFcqZVV2Smld4JV7mUKnjWPfrccSmUiUmvacFVHim4i+RQK6RSwrJqBBZVwbP3YG0LrvJIaRkRyVyWjcDCFTynzumees48VLwkoZm7iGQubiOwuBdBy6Wd4J0ql965s7n9ynP58qbj0zV5ue4Qh4K7iKSqXICOU8FTS+qmXNppaPSdlgGDw2Pc9lTjF1y1EqVlRCQ1UYuK5hdmVa3gSZq6mf7tYMfuEa6971m6jLateElCM3cRSU1UgH7sxpVVK3iS9nBv9I5LrU4zdxFJTaUAXa12POnG0nmv76+VZu4ikpoks+dScK60Q1MlrVrf3yzqLSMiQDqLjJLWs7dCH5t2ot4yIlJRWouMks6eW23xVTtTzl2kzWSxBVyai4zy0JclDzRzF2kjaS7jD0taqSKtRzN3kQylPctOc4YdHpuZNW25fh42o25FmrmLZCSLWXY9M+w4G1JcunwBd/2n87nhb7bHrlRphQuwEk3BXSQjlRb01HvRsNZSw6jgeerc7uPG9v2dBwD4zh9+EHevGqzTCspZ/G8kRUrLiGQkzTx2KXUxOTnJ3VefH3uhTlTwfPvoiWP7/s4DuHusC6FppYeU68+OZu4iGUlrOfz0WfKlyxfw4Oc+QNcMo9DdxcSks/fgWE1L+ruCHHu9Y0srKKtlQHY0cxfJSFrL4afPkr+/8wBX3buNQncX+399hE9t+FHkVnJRS/oL3V2Jxpa0VUCJWgZkRytURTKUxkXHPcOHWbl+8wnHt667mM9sfOaEWW84X10pNw7UPbY0L4RqVWr9Eq1QNbNvAZcDB9z9nODYu4FHgCXAL4H/6O7DZmbAnwMfAw4Df+DuP0njJETaURorLqNSF8fcq6ZGqq0YrXdsafZx0arUbMRJy9wHrJp27CvA0+6+FHg6uA1wGbA0+LcWuDOdYYp0rqjUxUmz4qVGsloxqpWora3qzN3df2hmS6YdXg1cFPx+P7AFWBccf8CLuZ5nzKzHzM50971pDVik01TaVi5JF0XJt3qrZU4vBWx332tmC4LjC4HdoccNBscU3EUSiEpdqMWtREm7FLLcf1Vlr9ia2VqKqRsWL16c8jBEOoPy1RKl3lLI/WZ2JkDw80BwfBBYFHpcH/B6uSdw943u3u/u/b29vXUOQyS/1HNFkqg3uD8BrAl+XwM8Hjp+jRVdABxUvl2kdlEbTSvAS1xVg7uZPQT8GFhmZoNmdh3wp8BHzOwl4CPBbYB/AF4FXgbuAW7MZNQiba7arDzN7o/SmeJUy/xexF2XlHmsA59POiiRPIuzsOjw+IR6rkgiaj8g0mBRs/KRsfGpVMyL+0ab1l9d8kHBXaTBoppujY0fmwr6d215hfWfPlc9V6Ru6gop0mBx2gns2D3CHd/bxS2XL+e9Z8yj0D1TNexSE83cRSrIohwxbjuBHbtHuPXJnRS6Z6a2vF/llZ1DM3eRCFltAdesdgLa0q6zqOWvSISh0SNcsWFrxZa6acuy/W0zzkeylajlr0g7SiNINmMLuCzbCWhLu86i4C65kzT9UPpgAGreAq6VN57QlnadRRdUJXeSrO4ML/v/woM7uP3K+OWI9bYMSOsiZ7Xn0ZZ2nUUzd8mduOmHcrPs8AfD4PAYtz21i1tXn8PZC+ZSmFV5Jh71oVIpp53WRc44z5Pm7knS+jRzl9yJs3lz1Cx7+gfDjt0jXHvfs3QZkeWIpRlzPS0D0uohE/d5tHtS51Bwl9yJk36ICoZmVtOy//CHRD0tA9K6yKmLpTKdgrvkTjj9sHXdxTx248oT0hxRwbDLqCkvHf6QqKdlQJxvGXGk9TySH8q5Sy5VKymMqhyZMWNGrLx0KV8fTsXU0zKg9C0j6cKltJ5H8kOLmKQjJbmQGf7bWy5fzq1P7ky0MCit8slWLsOUbFRaxKTgLh2r3mAYXum5YlEPX/roMtY9+pyW9EvDaYWqSBn1rgYN5+vVvVFalS6oitRo+sXLLLo3iiSl4C5SI630lHagtIxIjepd6akLntJICu4idag1X69e6tJoSsuINEBabQZE4tLMXTpKVGok65SJ2gNIoym4S8M1K/cclRpZ2juXl4beyjRlol7q0mhKy0hD1dvzPA1RqZEDbx3JPGWiChtpNM3cpaHq6XmelqjUyNFjk3X3f487s1cvdWk0BXdpqGbmnqNSI7O6ZlRNmaRR7ZLl/qgi0yVKy5jZH5nZz83seTN7yMxOMrOzzGybmb1kZo+Ymb53ypRmtqaNSo0smDu77v7vqnaRVlX3zN3MFgI3AcvdfczMvgN8FvgY8HV3f9jM7gKuA+5MZbTS9prZmrZSaqRaykTVLtJukqZlZgIFMzsKnAzsBT4MXBXcfz/wv1Bwl0Czc89RqZF6+7+r2kVaVd1pGXffA9wBvEYxqB8EtgMj7j4RPGwQWFju781srZkNmNnA0NBQvcOQNtSO+3iq2kXaTZK0zHxgNXAWMAL8HXBZmYeWrXFz943ARij2c693HCKN0OxvHCK1SpKW+R3gF+4+BGBm3wUuBHrMbGYwe+8DXk8+TJHyGrkgStUu0k6SBPfXgAvM7GRgDLgEGAA2A1cCDwNrgMeTDlKkHDXjEolWd3B3921mtgn4CTAB7KCYZvm/wMNm9ifBsW+mMVBpP1nPqqeXJ/bOnc2+g28zZ3YXhVnaEUk6W6JqGXf/Y+CPpx1+FXh/kueV9lfPrDr8YVDo7mJi0jk6MRn5wRAuT9RepiLHU28ZiW1y0hkaPcKe4cMMjR6Z6gdT7niti37CPWe+8OAOdu0b5VMbflSx/0x4QdQNF509FdjjvJ5I3im4ywnKBeuohl8TE5Nlj9e66Cf8YXDDRWfz5U3VA3W4PLGnMEuLjERCFNw7VKVZeLlg/atD5TsnTu+oWMp7O9TUZiD8YRA3UIfLE/vmF5rW1kCkFSm4d6BKbXej0ilvH63eUbGU977l8ef5Lw/u4PYrz4296CecYhkZOxo7UJfKE888paBFRiIh6grZgSq13Y1Kp3SZVe2oGM57Dw6PcdtTu7h19TmcvWAuhVmVq2XCPWfu2vIKt1957lRqJk6g1iIjkeMpuHegSvnwqB4qhe6usg2/Sh0Vr39g4IR0yo7dI1x737NsXXdx1cU/04NzobuL7954YcVqmXLPUe51mrXzk0gzKbh3oEpNsKK6NvYUuukpdFftqJikuVYWK0C10Ek6lbk3v61Lf3+/DwwMNHsYHaNawKt3ptuKgXRo9AhXbNh6wgdOI3Z+EsmamW139/5y92nm3oGq5afrnUFnlfeudXFTmPqwS6dScO9QWTXBSvt5w98GeufO5uZVy0640Frpm4H6sEunUimktLR6FjeFqQ+7dCrN3KWl1bO4KUwlktKpNHOXllbv4qawdtz5SSQpBXdpaeG0Smlxk1IsItWpFFJaXpJqGZE8UymktDVtbydSO6VlRERySMFdRCSHlJaRhlDzLpHGUnCXzLVizxmRvFNaRjJX636qIpKcZu5SURrplErNu5SuEcmGgrtESiudUmkDEKVrRLKhtIxESiudEtW8a2LSla4RyYhm7hIprV7oUc279h4cU691kYxo5i6Rwk27SurthV6ueVeazy8ix0sU3M2sx8w2mdmLZvaCmX3QzN5tZj8ws5eCn/PTGmynmpx0hkaPsGf4MEOjR5icbEw/oKx7oavXukh2EjUOM7P7gf/n7veaWTdwMvDfgTfd/U/N7CvAfHdfV+l5OrlxWLVqkUbUiFcaQ9bVLKqWEalfpcZhdQd3M3sX8DPgPR56EjPbBVzk7nvN7Exgi7svq/RcnRrc4wTuShs8nzqnO3Fg1AIjkfZVKbgnScu8BxgCvm1mO8zsXjObA5zu7nsBgp8LIga11swGzGxgaGgowTDaTynNsvfgWNVqkaiLmpOTk+zaP8oVG7aycv1mvvbYcwwOH645daMFRiL5lCS4zwTOA+509xXAIeArcf/Y3Te6e7+79/f29iYYRnspzZRLs/Fq1SJRFx2POVNBecWiHtZceBZX3buNles3c8WGrezaPxorwKdVESMirSVJcB8EBt19W3B7E8Vgvz9IxxD8PJBsiPkSninH2TYu6qKju08F5RsuOpt1j76zcXTv3NnsO/g2gyOHefPQEQ6Mvh05o1fFikg+1R3c3X0fsNvMSvn0S4CdwBPAmuDYGuDxRCPMmfBM+a4tr7D+0+9sG3fp8gU8+LkPMD5xbCoQh2vEt667mMduXMmy0+cdF5TDG0evWNTDlz66jFsef54vPvRTdu0b5VMbfhQ5o6+3YqVZFTwiEk/Sapn3AfcC3cCrwLUUPzC+AywGXgN+193frPQ8nXRBdfoF0hWLerjpkqX81pnzePPQOH/419tjXdgMXwi95fLl3PrkTgaHx7j76vPL/l5Suhgb3tmo1ooVXYQVaQ1ZXVDF3X8a5M3PdfdPuvuwu7/h7pe4+9LgZ8XA3mmmz5SH3jrCGaecRNcMmwrsUP3CZnhG/76+U7j76vPpm184bhYf/r2kXD693AKjSnQRVqT1qf1Ag6W5FD+8t2jvvJOmnrPUpKuU05/+LeGYF1Mq9daU6yKsSOtT+4EmyGIpfuk5zzylMPXN4K4tr3D7lcWc/opFPdy8qpiL/9BtW2qqqJlOF2FFWl+inHtaOinnHmV6HvvS5Qv4Hx9fTlcQ+GuZZYdz6IXuLiYmnaMTk3xm4zNV8+/1jFU5d5HmqJRzV1qmRYTTNZOTk/zq0DhX3butruAZTteU7Bk+nFoqJSq1pMAu0jqUlslIPaWCpaA8Y8aMmi6uxpF2KqXWi7Ai0lgK7hkIr0KtdcUoZHPBUh0YRTqL0jIZiCoVjJvfjtqWrntmV91dFJVKEeksmrlnIOnMO2qWPb8wK9E3AqVSRDqHZu4ZqDTzjiNqlp30G4GIdA7N3DOQRn673Cxbi4dEJC7N3DOQVX476TcCEekcmrmnKFz++MahcU6d051qflsVLyISl2buKWnEqk1VvIhIXJq5p6RRnRJV8SIicSi4p0QXO0WklSi4p0SdEkWklXRUcM9yazhd7BSRVtIxF1STXvCstuxfFztFpJXkJrhXC75JVnfG7bVertWuiEgz5CK4x5mVJ7ngGf5gWLGohzUXnlV3r3URkUbIRc49Thlikgue4Q+GGy46m3WPPqfNoUWkpeUiuMeZlSe54Bn+YOgpzFLJo4i0vFykZeL0XElywbP0wXD9AwOMjB1VfxcRaXm5mLnHnZXXu7oz/MHwvr5TuPvq86de69LlC3jwcx9gfOJY6uWVIiL1MvfmB6P+/n4fGBhI9Bz17lCU5LVKG1mX9jvVxVURaSQz2+7u/eXuy8XMHbLpuRK16KnWjayzXDwlIlJOLnLuWUirvLIR3SJFRKZLPHM3sy4z22FmTwa3zzKzbWb2kpk9YmZtuf4+rfLKRnWLFBEJSyMt80XghdDt9cDX3X0pMAxcl8JrNEwphXJ4fCKV8kp1ixSRZkgU3M2sD/g4cG9w24APA5uCh9wPfDLJazRSKYVyxYatvLhvtOqsPFxFs3XdxTx248oT0i3qFikizZB05v4N4GZgMrh9KjDi7hPB7UFgYbk/NLO1ZjZgZgNDQ0MJh5GOcArlri2vsP7T5yYur1S3SBFphrovqJrZ5cABd99uZheVDpd5aNnSEHffCGyEYilkveNIUziFsmP3CHd8bxe3XL6c954xj0L3zLrKK9UtUkSaIcnMfSXwCTP7JfAwxXTMN4AeMyt9aPQBrycaYQNNT6Hs2D3CrU/upNA9M1F5pbbGE5FGqzu4u/tX3b3P3ZcAnwX+0d1/H9gMXBk8bA3weOJRNohSKCKSF1nUua8DHjazPwF2AN/M4DUyoRSKiORFKsHd3bcAW4LfXwXen8bzVpJVuwFtuCEiedCWK1S16lNEpLK27C2T9qpP9X4Rkbxpy5l7Las+q6Vv9C1ARPKoLWfucVd9hlecrly/mSs2bGXX/tHjZubq/SIiedSWwT1uyWKcwK3eLyKSR22ZlolbslgpcJfSNYC2zROR3GnL4A7xShaj9lYtdHdN5dl7587m9ivP5cubnjsu566FSyLSzto2uMcR3tg6HLgnJn3q2ODwGLc9tYtbV5/D2QvmUpilhUsi0v5yHdyj0jd7D44dN5vfsXuEa+97lq3rLtYCJhHJhVwHdyifvolK1yjPLiJ50ZbVMtVUW5SkBmEikne5m7nHWZSkBmEikne5m7nHXZSkHusikme5C+5alCQiksPgrg2pRURyGNx1sVREJIcXVHWxVEQkh8EdtJuSiEju0jIiIqLgLiKSSwruIiI5pOAuIpJDCu4iIjlk7l79UVkPwmwI+Nc6//w04FcpDqdddOJ5d+I5Q2eedyeeM9R+3r/p7r3l7miJ4J6EmQ24e3+zx9FonXjenXjO0Jnn3YnnDOmet9IyIiI5pOAuIpJDeQjuG5s9gCbpxPPuxHOGzjzvTjxnSPG82z7nLiIiJ8rDzF1ERKZRcBcRyaG2Du5mtsrMdpnZy2b2lWaPJwtmtsjMNpvZC2b2czP7YnD83Wb2AzN7Kfg5v9ljzYKZdZnZDjN7Mrh9lpltC877ETPLVaN+M+sxs01m9mLwnn+wE95rM/uj4L/v583sITM7KY/vtZl9y8wOmNnzoWNl318r+osgvj1nZufV8lptG9zNrAv4K+AyYDnwe2a2vLmjysQE8N/c/b3ABcDng/P8CvC0uy8Fng5u59EXgRdCt9cDXw/Oexi4rimjys6fA0+5+28Bv03x3HP9XpvZQuAmoN/dzwG6gM+Sz/f6PmDVtGNR7+9lwNLg31rgzlpeqG2DO/B+4GV3f9Xdx4GHgdVNHlPq3H2vu/8k+H2U4v/ZF1I81/uDh90PfLI5I8yOmfUBHwfuDW4b8GFgU/CQXJ23mb0L+BDwTQB3H3f3ETrgvaa4t0TBzGYCJwN7yeF77e4/BN6cdjjq/V0NPOBFzwA9ZnZm3Ndq5+C+ENgduj0YHMstM1sCrAC2Aae7+14ofgAAC5o3ssx8A7gZmAxunwqMuPtEcDtv7/l7gCHg20Eq6l4zm0PO32t33wPcAbxGMagfBLaT7/c6LOr9TRTj2jm4l9s3L7d1nWY2F3gU+K/u/utmjydrZnY5cMDdt4cPl3lont7zmcB5wJ3uvgI4RM5SMOUEOebVwFnAbwBzKKYkpsvTex1Hov/e2zm4DwKLQrf7gNebNJZMmdksioH9b939u8Hh/aWvaMHPA80aX0ZWAp8ws19STLl9mOJMvif46g75e88HgUF33xbc3kQx2Of9vf4d4BfuPuTuR4HvAheS7/c6LOr9TRTj2jm4PwssDa6od1O8APNEk8eUuiDP/E3gBXf/s9BdTwBrgt/XAI83emxZcvevunufuy+h+N7+o7v/PrAZuDJ4WK7O2933AbvNbFlw6BJgJzl/rymmYy4ws5OD/95L553b93qaqPf3CeCaoGrmAuBgKX0Ti7u37T/gY8C/AK8AX2v2eDI6x39H8avYc8BPg38fo5h/fhp4Kfj57maPNcP/DS4Cngx+fw/wT8DLwN8Bs5s9vpTP9X3AQPB+/z0wvxPea+B/Ay8CzwN/DczO43sNPETxusJRijPz66LeX4ppmb8K4ts/U6wmiv1aaj8gIpJD7ZyWERGRCAruIiI5pOAuIpJDCu4iIjmk4C4ikkMK7iIiOaTgLiKSQ/8fLrL0GK+xrggAAAAASUVORK5CYII=\n",
>>>>>>> 7f7ff62ef244b44ab963f7423790672f3ae0f52b
      "text/plain": [
       "<Figure size 432x288 with 1 Axes>"
      ]
     },
     "metadata": {
      "needs_background": "light"
     },
     "output_type": "display_data"
    }
   ],
   "source": [
    "sns.scatterplot(x=x[:, 1], y=y)\n",
    "\n",
    "plt.show()"
   ]
  },
  {
   "cell_type": "code",
   "execution_count": 17,
   "metadata": {},
   "outputs": [
    {
     "data": {
      "text/plain": [
       "(100,)"
      ]
     },
     "execution_count": 17,
     "metadata": {},
     "output_type": "execute_result"
    }
   ],
   "source": [
    "x\n",
    "theta = np.array([1.90595185,1.5342646])\n",
    "np.dot(x, theta).shape"
   ]
  },
  {
   "cell_type": "markdown",
   "metadata": {},
   "source": [
    "__Your Turn__\n",
    "\n",
    "Write a gradient descent function for this linear problem\n",
    "\n",
    "- Inputs:\n",
    "x, y, theta: initialized with some random values, alpha: learning rate, m: length of data, numiterations: number of iterations\n",
    "\n",
    "- return: plot the errors for each iterations\n",
    "- return the final theta values"
   ]
  },
  {
   "cell_type": "code",
<<<<<<< HEAD
   "execution_count": 18,
=======
   "execution_count": 10,
>>>>>>> 7f7ff62ef244b44ab963f7423790672f3ae0f52b
   "metadata": {},
   "outputs": [],
   "source": [
    "# %load -r 1-20 supplement.py\n",
    "def gradientDescent(x, y, theta, alpha, m, numIterations):\n",
    "    xTrans = x.transpose()\n",
    "    costs = []\n",
    "    for i in range(0, numIterations):\n",
    "        hypothesis = np.dot(x, theta)\n",
    "        loss = hypothesis - y\n",
    "        # avg cost per example (the 2 in 2*m doesn't really matter here.\n",
    "        # But to be consistent with the gradient, I include it)\n",
    "        cost = np.sum(loss ** 2) / (2 * m)\n",
    "        if i % (numIterations // 40) == 0:\n",
    "            print(\"Iteration %d | Cost: %f\" % (i, cost))\n",
    "            print(theta)\n",
    "        costs.append(cost)\n",
    "        # avg gradient per example\n",
    "        gradient = np.dot(xTrans, loss) / m\n",
    "        # update\n",
    "        theta = theta - alpha * gradient\n",
    "    sns.scatterplot(y=costs, x=[i for i in range(len(costs))])\n",
    "\n",
    "    return theta"
   ]
  },
  {
   "cell_type": "code",
<<<<<<< HEAD
   "execution_count": 19,
=======
   "execution_count": 11,
>>>>>>> 7f7ff62ef244b44ab963f7423790672f3ae0f52b
   "metadata": {},
   "outputs": [
    {
     "name": "stdout",
     "output_type": "stream",
     "text": [
<<<<<<< HEAD
      "Iteration 0 | Cost: 495.441030\n",
      "[37.0595185  1.5342646]\n",
      "Iteration 2500 | Cost: 20.069887\n",
      "[37.02726297  0.99665234]\n",
      "Iteration 5000 | Cost: 20.067832\n",
      "[37.00460217  0.99699398]\n",
      "Iteration 7500 | Cost: 20.066022\n",
      "[36.98333408  0.99731463]\n",
      "Iteration 10000 | Cost: 20.064427\n",
      "[36.96337309  0.99761558]\n",
      "Iteration 12500 | Cost: 20.063023\n",
      "[36.94463889  0.99789802]\n",
      "Iteration 15000 | Cost: 20.061785\n",
      "[36.92705607  0.99816311]\n",
      "Iteration 17500 | Cost: 20.060695\n",
      "[36.91055388  0.99841191]\n",
      "Iteration 20000 | Cost: 20.059735\n",
      "[36.89506588  0.99864541]\n",
      "Iteration 22500 | Cost: 20.058890\n",
      "[36.88052977  0.99886457]\n",
      "Iteration 25000 | Cost: 20.058145\n",
      "[36.86688702  0.99907025]\n",
      "Iteration 27500 | Cost: 20.057489\n",
      "[36.85408275  0.9992633 ]\n",
      "Iteration 30000 | Cost: 20.056911\n",
      "[36.84206541  0.99944448]\n",
      "Iteration 32500 | Cost: 20.056401\n",
      "[36.83078664  0.99961452]\n",
      "Iteration 35000 | Cost: 20.055953\n",
      "[36.82020105  0.99977412]\n",
      "Iteration 37500 | Cost: 20.055558\n",
      "[36.81026604  0.9999239 ]\n",
      "Iteration 40000 | Cost: 20.055210\n",
      "[36.80094163  1.00006448]\n",
      "Iteration 42500 | Cost: 20.054903\n",
      "[36.79219028  1.00019642]\n",
      "Iteration 45000 | Cost: 20.054634\n",
      "[36.78397678  1.00032025]\n",
      "Iteration 47500 | Cost: 20.054396\n",
      "[36.77626807  1.00043647]\n",
      "Iteration 50000 | Cost: 20.054186\n",
      "[36.76903314  1.00054555]\n",
      "Iteration 52500 | Cost: 20.054002\n",
      "[36.76224285  1.00064793]\n",
      "Iteration 55000 | Cost: 20.053839\n",
      "[36.75586989  1.00074401]\n",
      "Iteration 57500 | Cost: 20.053696\n",
      "[36.7498886   1.00083418]\n",
      "Iteration 60000 | Cost: 20.053570\n",
      "[36.74427491  1.00091882]\n",
      "Iteration 62500 | Cost: 20.053459\n",
      "[36.73900624  1.00099825]\n",
      "Iteration 65000 | Cost: 20.053361\n",
      "[36.73406137  1.0010728 ]\n",
      "Iteration 67500 | Cost: 20.053275\n",
      "[36.72942041  1.00114277]\n",
      "Iteration 70000 | Cost: 20.053199\n",
      "[36.72506467  1.00120844]\n",
      "Iteration 72500 | Cost: 20.053132\n",
      "[36.72097664  1.00127008]\n",
      "Iteration 75000 | Cost: 20.053073\n",
      "[36.71713985  1.00132792]\n",
      "Iteration 77500 | Cost: 20.053021\n",
      "[36.71353887  1.00138221]\n",
      "Iteration 80000 | Cost: 20.052975\n",
      "[36.71015919  1.00143317]\n",
      "Iteration 82500 | Cost: 20.052935\n",
      "[36.70698723  1.00148099]\n",
      "Iteration 85000 | Cost: 20.052900\n",
      "[36.70401022  1.00152587]\n",
      "Iteration 87500 | Cost: 20.052868\n",
      "[36.70121617  1.001568  ]\n",
      "Iteration 90000 | Cost: 20.052841\n",
      "[36.69859383  1.00160753]\n",
      "Iteration 92500 | Cost: 20.052817\n",
      "[36.69613267  1.00164464]\n",
      "Iteration 95000 | Cost: 20.052795\n",
      "[36.69382276  1.00167946]\n",
      "Iteration 97500 | Cost: 20.052776\n",
      "[36.69165482  1.00171215]\n"
=======
      "Iteration 0 | Cost: 507.717060\n",
      "[37.0595185  1.5342646]\n",
      "Iteration 2500 | Cost: 22.877510\n",
      "[37.00114332  0.99171797]\n",
      "Iteration 5000 | Cost: 22.868631\n",
      "[36.95404353  0.99242807]\n",
      "Iteration 7500 | Cost: 22.860811\n",
      "[36.90983844  0.99309453]\n",
      "Iteration 10000 | Cost: 22.853922\n",
      "[36.86835014  0.99372003]\n",
      "Iteration 12500 | Cost: 22.847853\n",
      "[36.82941167  0.99430708]\n",
      "Iteration 15000 | Cost: 22.842508\n",
      "[36.79286631  0.99485806]\n",
      "Iteration 17500 | Cost: 22.837800\n",
      "[36.75856699  0.99537518]\n",
      "Iteration 20000 | Cost: 22.833653\n",
      "[36.72637567  0.99586051]\n",
      "Iteration 22500 | Cost: 22.829999\n",
      "[36.69616278  0.99631602]\n",
      "Iteration 25000 | Cost: 22.826781\n",
      "[36.66780675  0.99674353]\n",
      "Iteration 27500 | Cost: 22.823947\n",
      "[36.64119345  0.99714476]\n",
      "Iteration 30000 | Cost: 22.821450\n",
      "[36.61621577  0.99752134]\n",
      "Iteration 32500 | Cost: 22.819250\n",
      "[36.59277319  0.99787477]\n",
      "Iteration 35000 | Cost: 22.817313\n",
      "[36.57077137  0.99820649]\n",
      "Iteration 37500 | Cost: 22.815606\n",
      "[36.55012175  0.99851781]\n",
      "Iteration 40000 | Cost: 22.814103\n",
      "[36.53074124  0.99881   ]\n",
      "Iteration 42500 | Cost: 22.812779\n",
      "[36.51255183  0.99908424]\n",
      "Iteration 45000 | Cost: 22.811613\n",
      "[36.49548032  0.99934161]\n",
      "Iteration 47500 | Cost: 22.810585\n",
      "[36.479458    0.99958318]\n",
      "Iteration 50000 | Cost: 22.809680\n",
      "[36.4644204   0.99980989]\n",
      "Iteration 52500 | Cost: 22.808883\n",
      "[36.45030699  1.00002267]\n",
      "Iteration 55000 | Cost: 22.808181\n",
      "[36.43706098  1.00022238]\n",
      "Iteration 57500 | Cost: 22.807562\n",
      "[36.42462905  1.00040981]\n",
      "Iteration 60000 | Cost: 22.807017\n",
      "[36.41296118  1.00058572]\n",
      "Iteration 62500 | Cost: 22.806537\n",
      "[36.4020104   1.00075082]\n",
      "Iteration 65000 | Cost: 22.806115\n",
      "[36.39173264  1.00090577]\n",
      "Iteration 67500 | Cost: 22.805742\n",
      "[36.38208654  1.0010512 ]\n",
      "Iteration 70000 | Cost: 22.805414\n",
      "[36.37303328  1.00118769]\n",
      "Iteration 72500 | Cost: 22.805125\n",
      "[36.36453642  1.0013158 ]\n",
      "Iteration 75000 | Cost: 22.804871\n",
      "[36.35656177  1.00143603]\n",
      "Iteration 77500 | Cost: 22.804647\n",
      "[36.34907723  1.00154887]\n",
      "Iteration 80000 | Cost: 22.804449\n",
      "[36.34205269  1.00165477]\n",
      "Iteration 82500 | Cost: 22.804275\n",
      "[36.33545986  1.00175417]\n",
      "Iteration 85000 | Cost: 22.804122\n",
      "[36.32927222  1.00184746]\n",
      "Iteration 87500 | Cost: 22.803987\n",
      "[36.32346487  1.00193501]\n",
      "Iteration 90000 | Cost: 22.803868\n",
      "[36.31801443  1.00201719]\n",
      "Iteration 92500 | Cost: 22.803763\n",
      "[36.31289897  1.00209431]\n",
      "Iteration 95000 | Cost: 22.803671\n",
      "[36.3080979   1.00216669]\n",
      "Iteration 97500 | Cost: 22.803590\n",
      "[36.3035919   1.00223463]\n"
>>>>>>> 7f7ff62ef244b44ab963f7423790672f3ae0f52b
     ]
    },
    {
     "data": {
      "text/plain": [
<<<<<<< HEAD
       "array([36.68962011,  1.00174282])"
      ]
     },
     "execution_count": 19,
=======
       "array([36.29936283,  1.00229839])"
      ]
     },
     "execution_count": 11,
>>>>>>> 7f7ff62ef244b44ab963f7423790672f3ae0f52b
     "metadata": {},
     "output_type": "execute_result"
    },
    {
     "data": {
<<<<<<< HEAD
      "image/png": "iVBORw0KGgoAAAANSUhEUgAAAXoAAAD4CAYAAADiry33AAAABHNCSVQICAgIfAhkiAAAAAlwSFlzAAALEgAACxIB0t1+/AAAADh0RVh0U29mdHdhcmUAbWF0cGxvdGxpYiB2ZXJzaW9uMy4xLjEsIGh0dHA6Ly9tYXRwbG90bGliLm9yZy8QZhcZAAATaUlEQVR4nO3df2xdZ33H8ffXdm9iQkZc142yOCytyCr6xwathcI6IWj51Q7RTmulMlgy1jUaZRqMSawdmiakTYJpAlRtKrSULQEGZfxYq66MVaFo4g8KzoBSKCGh/Khp1piQli6kGMff/XEfm5vUjq8TO/fep++XdHXPec5z7/keH+eT4+ece25kJpKkevV1ugBJ0soy6CWpcga9JFXOoJekyhn0klS5gU4XAHDOOefk5s2bO12GJPWUPXv2/DgzRxbr1xVBv3nzZsbHxztdhiT1lIj4QTv9HLqRpMoZ9JJUOYNekirXVtBHxPcj4hsR8bWIGC9tZ0fEvRGxrzwPlfaIiJsjYn9EPBARF63kBkiSTm4pR/Qvy8wXZOZYmb8R2J2ZW4DdZR7gcmBLeewAblmuYiVJS3c6QzdXAjvL9E7gqpb2Xdn0JWBdRGw4jfXMa2YmmXzy5/zo8M+YfPLnzMx4czZJmk+7l1cm8F8RkcAHMvNWYH1mHgDIzAMRcW7puxF4pOW1E6XtQOsbRsQOmkf8PPe5z11S0TMzyd7HnuT6XeNMHD7K6NAgt20b44L1a+nriyW9lyTVrt0j+ksy8yKawzJvjoiXnKTvfEn7tMPtzLw1M8cyc2xkZNHr/Y9z6MjUXMgDTBw+yvW7xjl0ZGpJ7yNJzwRtBX1mPlqeDwKfAV4EPDY7JFOeD5buE8CmlpePAo8uV8EAU9PH5kJ+1sTho0xNH1vO1UhSFRYN+ohYExFrZ6eBVwIPAncB20u37cCdZfouYFu5+mYr8MTsEM9yaQz0Mzo0eFzb6NAgjYH+5VyNJFWhnSP69cAXI+LrwJeB/8jM/wTeBbwiIvYBryjzAPcADwP7gduAG5a76OE1DW7bNjYX9rNj9MNrGsu9KknqedENXyU4NjaWS73XzcxMcujIFFPTx2gM9DO8puGJWEnPKBGxp+WS9wV1xU3NTkVfXzCydlWny5CkructECSpcga9JFXOoJekyhn0klQ5g16SKmfQS1LlDHpJqpxBL0mVM+glqXIGvSRVzqCXpMoZ9JJUOYNekipn0EtS5Qx6SaqcQS9JlTPoJalyBr0kVc6gl6TKGfSSVDmDXpIqZ9BLUuUMekmqnEEvSZUz6CWpcga9JFXOoJekyhn0klQ5g16SKmfQS1LlDHpJqpxBL0mVazvoI6I/Ir4aEXeX+fMi4v6I2BcRd0REo7SvKvP7y/LNK1O6JKkdSzmifwvwUMv8u4H3ZuYW4DBwXWm/Djicmc8D3lv6SZI6pK2gj4hR4HeAD5b5AC4FPlm67ASuKtNXlnnK8stKf0lSB7R7RP8+4O3ATJkfBh7PzOkyPwFsLNMbgUcAyvInSv/jRMSOiBiPiPHJyclTLF+StJhFgz4iXgMczMw9rc3zdM02lv2yIfPWzBzLzLGRkZG2ipUkLd1AG30uAV4bEVcAq4FfoXmEvy4iBspR+yjwaOk/AWwCJiJiAHgO8JNlr1yS1JZFj+gz86bMHM3MzcC1wOcz8/XAfcDVpdt24M4yfVeZpyz/fGY+7YheknRmnM519H8JvC0i9tMcg7+9tN8ODJf2twE3nl6JkqTT0c7QzZzM/ALwhTL9MPCiefo8BVyzDLVJkpaBn4yVpMoZ9JJUOYNekipn0EtS5Qx6SaqcQS9JlTPoJalyBr0kVc6gl6TKGfSSVDmDXpIqZ9BLUuUMekmqnEEvSZUz6CWpcga9JFXOoJekyhn0klQ5g16SKmfQS1LlDHpJqpxBL0mVM+glqXIGvSRVzqCXpMoZ9JJUOYNekipn0EtS5Qx6SaqcQS9JlTPoJalyBr0kVW7RoI+I1RHx5Yj4ekR8MyLeWdrPi4j7I2JfRNwREY3SvqrM7y/LN6/sJkiSTqadI/qfA5dm5m8CLwBeHRFbgXcD783MLcBh4LrS/zrgcGY+D3hv6SdJ6pBFgz6b/q/MnlUeCVwKfLK07wSuKtNXlnnK8ssiIpatYknSkrQ1Rh8R/RHxNeAgcC/wXeDxzJwuXSaAjWV6I/AIQFn+BDC8nEVLktrXVtBn5rHMfAEwCrwIeP583crzfEfveWJDROyIiPGIGJ+cnGy3XknSEi3pqpvMfBz4ArAVWBcRA2XRKPBomZ4ANgGU5c8BfjLPe92amWOZOTYyMnJq1UuSFtXOVTcjEbGuTA8CLwceAu4Dri7dtgN3lum7yjxl+ecz82lH9JKkM2Ng8S5sAHZGRD/N/xg+kZl3R8S3gI9HxN8CXwVuL/1vBz4cEftpHslfuwJ1S5LatGjQZ+YDwAvnaX+Y5nj9ie1PAdcsS3WSpNPmJ2MlqXIGvSRVzqCXpMoZ9JJUOYNekipn0EtS5Qx6SaqcQS9JlTPoJalyBr0kVc6gl6TKGfSSVDmDXpIqZ9BLUuUMekmqnEEvSZUz6CWpcga9JFXOoJekyrXz5eBdaWYmOXRkiqnpYzQG+hle06CvLzpdliR1nZ4M+pmZZO9jT3L9rnEmDh9ldGiQ27aNccH6tYa9JJ2gJ4duDh2Zmgt5gInDR7l+1ziHjkx1uDJJ6j49GfRT08fmQn7WxOGjTE0f61BFktS9ejLoGwP9jA4NHtc2OjRIY6C/QxVJUvfqyaAfXtPgtm1jc2E/O0Y/vKbR4cokqfv05MnYvr7ggvVr+cwNl3jVjSQtoieDHpphP7J2VafLkKSu15NDN5Kk9hn0klQ5g16SKmfQS1LlDHpJqpxBL0mVWzToI2JTRNwXEQ9FxDcj4i2l/eyIuDci9pXnodIeEXFzROyPiAci4qKV3ghJ0sLaOaKfBv4iM58PbAXeHBEXAjcCuzNzC7C7zANcDmwpjx3ALctetSSpbYsGfWYeyMz/KdNPAg8BG4ErgZ2l207gqjJ9JbArm74ErIuIDcteuSSpLUsao4+IzcALgfuB9Zl5AJr/GQDnlm4bgUdaXjZR2k58rx0RMR4R45OTk0uvXJLUlraDPiKeDXwKeGtm/vRkXedpy6c1ZN6amWOZOTYyMtJuGZKkJWor6CPiLJoh/9HM/HRpfmx2SKY8HyztE8CmlpePAo8uT7mSpKVq56qbAG4HHsrM97QsugvYXqa3A3e2tG8rV99sBZ6YHeKRJJ157dy98hLgD4BvRMTXSttfAe8CPhER1wE/BK4py+4BrgD2Az8D3risFUuSlmTRoM/MLzL/uDvAZfP0T+DNp1mXJGmZ+MlYSaqcQS9JlTPoJalyBr0kVc6gl6TKGfSSVDmDXpIqZ9BLUuUMekmqnEEvSZUz6CWpcga9JFXOoJekyhn0klQ5g16SKmfQS1LlDHpJqpxBL0mVM+glqXIGvSRVzqCXpMoZ9JJUOYNekipn0EtS5Qx6SaqcQS9JlRvodAGnamYmOXRkiqnpYzQG+hle06CvLzpdliR1nZ4M+pmZZO9jT3L9rnEmDh9ldGiQ27aNccH6tYa9JJ2gJ4duDh2Zmgt5gInDR7l+1ziHjkx1uDJJ6j49GfRT08fmQn7WxOGjTE0f61BFktS9ejLoGwP9jA4NHtc2OjRIY6C/QxVJUvfqyaAfXtPgtm1jc2E/O0Y/vKbR4cokqfv05MnYvr7ggvVr+cwNl3jVjSQtYtEj+oj4UEQcjIgHW9rOjoh7I2JfeR4q7RERN0fE/oh4ICIuWrHC+4KRtavYOPQsRtauMuQlaQHtDN38C/DqE9puBHZn5hZgd5kHuBzYUh47gFuWp0xJ0qlaNOgz87+Bn5zQfCWws0zvBK5qad+VTV8C1kXEhuUqVpK0dKd6MnZ9Zh4AKM/nlvaNwCMt/SZK29NExI6IGI+I8cnJyVMsQ5K0mOW+6ma+gfKcr2Nm3pqZY5k5NjIyssxlSJJmnWrQPzY7JFOeD5b2CWBTS79R4NFTL0+SdLpONejvAraX6e3AnS3t28rVN1uBJ2aHeCRJnbHodfQR8THgpcA5ETEB/A3wLuATEXEd8EPgmtL9HuAKYD/wM+CNK1CzJGkJFg36zHzdAosum6dvAm8+3aIkScunJ2+BIElqn0EvSZUz6CWpcga9JFXOoJekyhn0klS5nrwfPTS/IPzQkSnvRy9Ji+jJoJ+ZSfY+9uTcF4TPfsPUBevXGvaSdIKeHLo5dGRqLuSh+cXg1+8a59CRqQ5XJkndpyeDfmr62FzIz5o4fJSp6WMdqkiSuldPBn1joH/ui8FnjQ4N0hjo71BFktS9ejLoh9c0uG3b2FzYz47RD69pdLgySeo+PXkytq8vuGD9Wj5zwyVedSNJi+jJoIdm2I+sXdXpMiSp6/Xk0I0kqX0GvSRVrmeHbvxkrCS1pyeD3k/GSlL7enLoxk/GSlL7ejLo/WSsJLWvJ4duGgP9vPLCc/m9izexbvAsHj/6Cz615xE/GStJ8+jJoB8aPIs/u+zX+ZOP7Jkbo3//Gy5maPCsTpcmSV2nJ4P+8NFfcPPu7/DXr7lw7oj+5t3f4e9+9zf8EJUknaAnx+hnZma44WXPo9HfLL/R38cNL3seMzMzHa5MkrpPTx7RRwRbRgZhZPBpy4489VQHKpKkpXv86AzTM8lAXzA82GD16pWJ5J4Mem9SKanXPXzo57yp5TzjLW+4mC3Da1Yk7Hsy6B8/6hCNpN42G/LQvDz8TR/Zwx07trLRoG+anslOlyBJp2W+zwKtVLb1ZNAPeJsDST1udGjwuLAfHRpcsWzryaAfHmxwjOlOlyFJp+yWN1z8tDH64cGVOQHZk0G/evUATz2FYS+pZ50/vIo7dmz1qpuTaf5AerZ8SWLN6jOznhX5wFREvDoi9kbE/oi4cSXWIUlqz7IHfUT0A/8EXA5cCLwuIi5c7vVIktqzEkf0LwL2Z+bDmTkFfBy4cgXWI0lqw0oE/UbgkZb5idJ2nIjYERHjETE+OTm5AmVIkmBlgn6+C0Gf9imAzLw1M8cyc2xkZGQFypAkwcpctjIBbGqZHwUePdkL9uzZ8+OI+MEpru8c4Men+Npe5TY/M7jNzwyns82/1k6nyFzej9xGxADwHeAy4EfAV4Dfz8xvLuuKfrm+8cwcW4n37lZu8zOD2/zMcCa2edmP6DNzOiL+FPgc0A98aKVCXpK0uBX5xFFm3gPcsxLvLUlamp78hqkT3NrpAjrAbX5mcJufGVZ8m5d9jF6S1F1qOKKXJJ2EQS9JlevpoO/lm6dFxKaIuC8iHoqIb0bEW0r72RFxb0TsK89DpT0i4uayrQ9ExEUt77W99N8XEdtb2i+OiG+U19wcEV3xjS0R0R8RX42Iu8v8eRFxf6n/joholPZVZX5/Wb655T1uKu17I+JVLe1d9zsREesi4pMR8e2yv19c+36OiD8vv9cPRsTHImJ1bfs5Ij4UEQcj4sGWthXfrwut46QysycfNC/d/C5wPtAAvg5c2Om6llD/BuCiMr2W5mcPLgT+HrixtN8IvLtMXwF8luYnj7cC95f2s4GHy/NQmR4qy74MvLi85rPA5Z3e7lLX24B/Be4u858Ari3T7wfeVKZvAN5fpq8F7ijTF5b9vQo4r/we9Hfr7wSwE/jjMt0A1tW8n2ne8uR7wGDL/v3D2vYz8BLgIuDBlrYV368LreOktXb6H8Fp/JBfDHyuZf4m4KZO13Ua23Mn8ApgL7ChtG0A9pbpDwCva+m/tyx/HfCBlvYPlLYNwLdb2o/r18HtHAV2A5cCd5df4h8DAyfuV5qfxXhxmR4o/eLEfT3brxt/J4BfKaEXJ7RXu5/55f2uzi777W7gVTXuZ2Azxwf9iu/XhdZxskcvD920dfO0XlD+VH0hcD+wPjMPAJTnc0u3hbb3ZO0T87R32vuAtwMzZX4YeDwzZ78urLXOuW0ry58o/Zf6s+ik84FJ4J/LcNUHI2INFe/nzPwR8A/AD4EDNPfbHurez7POxH5daB0L6uWgb+vmad0uIp4NfAp4a2b+9GRd52nLU2jvmIh4DXAwM/e0Ns/TNRdZ1jPbTPMI9SLglsx8IXCE5p/bC+n5bS5jxlfSHG75VWANze+nOFFN+3kxHd3GXg76Jd88rdtExFk0Q/6jmfnp0vxYRGwoyzcAB0v7Qtt7svbRedo76RLgtRHxfZrfU3ApzSP8ddG8RxIcX+fctpXlzwF+wtJ/Fp00AUxk5v1l/pM0g7/m/fxy4HuZOZmZvwA+DfwWde/nWWdivy60jgX1ctB/BdhSzuQ3aJ7EuavDNbWtnEG/HXgoM9/TsuguYPbM+3aaY/ez7dvK2futwBPlz7bPAa+MiKFyJPVKmuOXB4AnI2JrWde2lvfqiMy8KTNHM3Mzzf31+cx8PXAfcHXpduI2z/4sri79s7RfW67WOA/YQvPEVdf9TmTm/wKPRMQFpeky4FtUvJ9pDtlsjYhnlZpmt7na/dziTOzXhdaxsE6etFmGEyFX0Lxa5bvAOzpdzxJr/22af4o9AHytPK6gOTa5G9hXns8u/YPmVzR+F/gGMNbyXn8E7C+PN7a0jwEPltf8IyecEOzw9r+UX151cz7Nf8D7gX8DVpX21WV+f1l+fsvr31G2ay8tV5l04+8E8AJgvOzrf6d5dUXV+xl4J/DtUteHaV45U9V+Bj5G8xzEL2gegV93JvbrQus42cNbIEhS5Xp56EaS1AaDXpIqZ9BLUuUMekmqnEEvSZUz6CWpcga9JFXu/wEXRTBzkJjBVgAAAABJRU5ErkJggg==\n",
=======
      "image/png": "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\n",
>>>>>>> 7f7ff62ef244b44ab963f7423790672f3ae0f52b
      "text/plain": [
       "<Figure size 432x288 with 1 Axes>"
      ]
     },
     "metadata": {
      "needs_background": "light"
     },
     "output_type": "display_data"
    }
   ],
   "source": [
    "numIterations = 100000\n",
    "alpha = 0.0001\n",
    "theta = np.array([37.0595185,1.5342646])\n",
    "a = gradientDescent(x, y, theta, alpha, m, numIterations)\n",
    "a"
   ]
  },
  {
   "cell_type": "markdown",
   "metadata": {},
   "source": [
    "Let's compare the results with the sklearn."
   ]
  },
  {
   "cell_type": "code",
<<<<<<< HEAD
   "execution_count": 20,
=======
   "execution_count": 12,
>>>>>>> 7f7ff62ef244b44ab963f7423790672f3ae0f52b
   "metadata": {},
   "outputs": [],
   "source": [
    "from sklearn.linear_model import LinearRegression\n"
   ]
  },
  {
   "cell_type": "code",
<<<<<<< HEAD
   "execution_count": 21,
=======
   "execution_count": 13,
>>>>>>> 7f7ff62ef244b44ab963f7423790672f3ae0f52b
   "metadata": {},
   "outputs": [
    {
     "name": "stdout",
     "output_type": "stream",
     "text": [
<<<<<<< HEAD
      "[36.65854808  1.00221128]\n"
=======
      "[36.23478054  1.00327207]\n"
>>>>>>> 7f7ff62ef244b44ab963f7423790672f3ae0f52b
     ]
    }
   ],
   "source": [
    "lr = LinearRegression(fit_intercept= False)\n",
    "lr.fit(x,y)\n",
    "print(lr.coef_)\n"
   ]
  },
  {
   "cell_type": "code",
   "execution_count": null,
   "metadata": {},
   "outputs": [],
   "source": []
  }
 ],
 "metadata": {
  "kernelspec": {
   "display_name": "Python 3",
   "language": "python",
   "name": "python3"
  },
  "language_info": {
   "codemirror_mode": {
    "name": "ipython",
    "version": 3
   },
   "file_extension": ".py",
   "mimetype": "text/x-python",
   "name": "python",
   "nbconvert_exporter": "python",
   "pygments_lexer": "ipython3",
   "version": "3.6.9"
  },
  "toc": {
   "base_numbering": 1,
   "nav_menu": {},
   "number_sections": true,
   "sideBar": true,
   "skip_h1_title": false,
   "title_cell": "Table of Contents",
   "title_sidebar": "Contents",
   "toc_cell": false,
   "toc_position": {},
   "toc_section_display": true,
   "toc_window_display": false
  }
 },
 "nbformat": 4,
 "nbformat_minor": 2
}
