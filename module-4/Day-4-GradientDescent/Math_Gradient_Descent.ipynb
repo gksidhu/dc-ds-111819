{
 "cells": [
  {
   "cell_type": "markdown",
   "metadata": {},
   "source": [
    "# Linear Algebra, Calculus, and Gradient Descent\n",
    "\n",
    "__Objectives__\n",
    "* Use operations with vectors and matrices to solve systems of linear equations\n",
    "* Identify and describe of scalars, vectors,  matrices, using appropriate mathematical jargon\n",
    "* Set up and solve systems of linear equations with real life examples\n",
    "* Describe gradient descent in relation to slope, derivatives, and step size\n",
    "\n",
    "\n",
    "## Why Linear Algebra?\n",
    "\n",
    "Linear Algebra is the basis of many machine learning models.\n",
    "\n",
    "Data is usually already set up into a matrix by default!\n",
    "\n",
    "<img src= \"./resources/dataset.jpeg\">\n"
   ]
  },
  {
   "cell_type": "markdown",
   "metadata": {},
   "source": [
    "\n",
    "It can be used to model complicated things like language\n",
    "\n",
    "<img src = \"./resources/Word-Vectors.png\">"
   ]
  },
  {
   "cell_type": "markdown",
   "metadata": {},
   "source": [
    "Important for image compression and recognition\n",
    "\n",
    "<img src = \"./resources/images.gif\">"
   ]
  },
  {
   "cell_type": "markdown",
   "metadata": {},
   "source": [
    "Also matrices are the common notation used in the popular libraries like numpy, scipy and sklearn.\n",
    "\n",
    "<img src = \"./resources/matrix_multiplication.png\">\n"
   ]
  },
  {
   "cell_type": "markdown",
   "metadata": {},
   "source": [
    "This is an image from Andrew Ng's Neural Networks and Deep Learning course.\n",
    "\n",
    "<img src = \"./resources/gradient_descent.png\" width  = 500>"
   ]
  },
  {
   "cell_type": "markdown",
   "metadata": {},
   "source": [
    "This is an image from Andrew Ng's Sequence Model's Course. \n",
    "\n",
    "<img src = \"./resources/lstm.png\" width  = 500>"
   ]
  },
  {
   "cell_type": "markdown",
   "metadata": {},
   "source": [
    "## Linear algebra and Linear Regression\n",
    "\n",
    "- Let's move to the notebook matrix algebra with numpy :)"
   ]
  },
  {
   "cell_type": "markdown",
   "metadata": {},
   "source": [
    "## Gradient Descent"
   ]
  },
  {
   "cell_type": "markdown",
   "metadata": {},
   "source": [
    "[Gradient slide](https://www.youtube.com/watch?v=vWFjqgb-ylQ)"
   ]
  },
  {
   "cell_type": "markdown",
   "metadata": {},
   "source": [
    "## Gradient in Action"
   ]
  },
  {
   "cell_type": "code",
   "execution_count": 11,
   "metadata": {},
   "outputs": [],
   "source": [
    "import pandas as pd\n",
    "import numpy as np\n",
    "from matplotlib import pyplot as plt\n",
    "import random\n",
    "import seaborn as sns"
   ]
  },
  {
   "cell_type": "code",
   "execution_count": 12,
   "metadata": {},
   "outputs": [
    {
     "data": {
      "text/plain": [
       "array([0., 0., 0., 0., 0., 0., 0., 0., 0., 0.])"
      ]
     },
     "execution_count": 12,
     "metadata": {},
     "output_type": "execute_result"
    }
   ],
   "source": [
    "numPoints=10\n",
    "np.zeros(shape=numPoints)"
   ]
  },
  {
   "cell_type": "code",
   "execution_count": 13,
   "metadata": {},
   "outputs": [],
   "source": [
    "def genData(numPoints, bias, variance):\n",
    "    x = np.zeros(shape=(numPoints, 2))\n",
    "    y = np.zeros(shape=numPoints)\n",
    "    # basically a straight line\n",
    "    for i in range(0, numPoints):\n",
    "        # bias feature\n",
    "        x[i][0] = 1\n",
    "        x[i][1] = i\n",
    "        # our target variable\n",
    "        y[i] = (i + bias) + np.random.uniform(0, 1) * variance\n",
    "    return x, y"
   ]
  },
  {
   "cell_type": "code",
   "execution_count": 14,
   "metadata": {},
   "outputs": [],
   "source": [
    "x = np.random.uniform(low =0, high=1, size = 1000)\n",
    "\n",
    "y = 10*x + 25 + np.random.normal(loc = 0, scale = 1, size = 1000)"
   ]
  },
  {
   "cell_type": "code",
   "execution_count": 15,
   "metadata": {},
   "outputs": [],
   "source": [
    "# gen 100 points with a bias of 25 and 10 variance as a bit of noise\n",
    "x, y = genData(100, 25, 25)\n",
    "m, n = np.shape(x)"
   ]
  },
  {
   "cell_type": "code",
   "execution_count": 16,
   "metadata": {},
   "outputs": [
    {
     "data": {
      "image/png": "[encoded data removed]",
      "text/plain": [
       "<Figure size 432x288 with 1 Axes>"
      ]
     },
     "metadata": {
      "needs_background": "light"
     },
     "output_type": "display_data"
    }
   ],
   "source": [
    "sns.scatterplot(x=x[:, 1], y=y)\n",
    "\n",
    "plt.show()"
   ]
  },
  {
   "cell_type": "code",
   "execution_count": 17,
   "metadata": {},
   "outputs": [
    {
     "data": {
      "text/plain": [
       "(100,)"
      ]
     },
     "execution_count": 17,
     "metadata": {},
     "output_type": "execute_result"
    }
   ],
   "source": [
    "x\n",
    "theta = np.array([1.90595185,1.5342646])\n",
    "np.dot(x, theta).shape"
   ]
  },
  {
   "cell_type": "markdown",
   "metadata": {},
   "source": [
    "__Your Turn__\n",
    "\n",
    "Write a gradient descent function for this linear problem\n",
    "\n",
    "- Inputs:\n",
    "x, y, theta: initialized with some random values, alpha: learning rate, m: length of data, numiterations: number of iterations\n",
    "\n",
    "- return: plot the errors for each iterations\n",
    "- return the final theta values"
   ]
  },
  {
   "cell_type": "code",
   "execution_count": 18,
   "metadata": {},
   "outputs": [],
   "source": [
    "# %load -r 1-20 supplement.py\n",
    "def gradientDescent(x, y, theta, alpha, m, numIterations):\n",
    "    xTrans = x.transpose()\n",
    "    costs = []\n",
    "    for i in range(0, numIterations):\n",
    "        hypothesis = np.dot(x, theta)\n",
    "        loss = hypothesis - y\n",
    "        # avg cost per example (the 2 in 2*m doesn't really matter here.\n",
    "        # But to be consistent with the gradient, I include it)\n",
    "        cost = np.sum(loss ** 2) / (2 * m)\n",
    "        if i % (numIterations // 40) == 0:\n",
    "            print(\"Iteration %d | Cost: %f\" % (i, cost))\n",
    "            print(theta)\n",
    "        costs.append(cost)\n",
    "        # avg gradient per example\n",
    "        gradient = np.dot(xTrans, loss) / m\n",
    "        # update\n",
    "        theta = theta - alpha * gradient\n",
    "    sns.scatterplot(y=costs, x=[i for i in range(len(costs))])\n",
    "\n",
    "    return theta"
   ]
  },
  {
   "cell_type": "code",
   "execution_count": 19,
   "metadata": {},
   "outputs": [
    {
     "name": "stdout",
     "output_type": "stream",
     "text": [
      "Iteration 0 | Cost: 495.441030\n",
      "[37.0595185  1.5342646]\n",
      "Iteration 2500 | Cost: 20.069887\n",
      "[37.02726297  0.99665234]\n",
      "Iteration 5000 | Cost: 20.067832\n",
      "[37.00460217  0.99699398]\n",
      "Iteration 7500 | Cost: 20.066022\n",
      "[36.98333408  0.99731463]\n",
      "Iteration 10000 | Cost: 20.064427\n",
      "[36.96337309  0.99761558]\n",
      "Iteration 12500 | Cost: 20.063023\n",
      "[36.94463889  0.99789802]\n",
      "Iteration 15000 | Cost: 20.061785\n",
      "[36.92705607  0.99816311]\n",
      "Iteration 17500 | Cost: 20.060695\n",
      "[36.91055388  0.99841191]\n",
      "Iteration 20000 | Cost: 20.059735\n",
      "[36.89506588  0.99864541]\n",
      "Iteration 22500 | Cost: 20.058890\n",
      "[36.88052977  0.99886457]\n",
      "Iteration 25000 | Cost: 20.058145\n",
      "[36.86688702  0.99907025]\n",
      "Iteration 27500 | Cost: 20.057489\n",
      "[36.85408275  0.9992633 ]\n",
      "Iteration 30000 | Cost: 20.056911\n",
      "[36.84206541  0.99944448]\n",
      "Iteration 32500 | Cost: 20.056401\n",
      "[36.83078664  0.99961452]\n",
      "Iteration 35000 | Cost: 20.055953\n",
      "[36.82020105  0.99977412]\n",
      "Iteration 37500 | Cost: 20.055558\n",
      "[36.81026604  0.9999239 ]\n",
      "Iteration 40000 | Cost: 20.055210\n",
      "[36.80094163  1.00006448]\n",
      "Iteration 42500 | Cost: 20.054903\n",
      "[36.79219028  1.00019642]\n",
      "Iteration 45000 | Cost: 20.054634\n",
      "[36.78397678  1.00032025]\n",
      "Iteration 47500 | Cost: 20.054396\n",
      "[36.77626807  1.00043647]\n",
      "Iteration 50000 | Cost: 20.054186\n",
      "[36.76903314  1.00054555]\n",
      "Iteration 52500 | Cost: 20.054002\n",
      "[36.76224285  1.00064793]\n",
      "Iteration 55000 | Cost: 20.053839\n",
      "[36.75586989  1.00074401]\n",
      "Iteration 57500 | Cost: 20.053696\n",
      "[36.7498886   1.00083418]\n",
      "Iteration 60000 | Cost: 20.053570\n",
      "[36.74427491  1.00091882]\n",
      "Iteration 62500 | Cost: 20.053459\n",
      "[36.73900624  1.00099825]\n",
      "Iteration 65000 | Cost: 20.053361\n",
      "[36.73406137  1.0010728 ]\n",
      "Iteration 67500 | Cost: 20.053275\n",
      "[36.72942041  1.00114277]\n",
      "Iteration 70000 | Cost: 20.053199\n",
      "[36.72506467  1.00120844]\n",
      "Iteration 72500 | Cost: 20.053132\n",
      "[36.72097664  1.00127008]\n",
      "Iteration 75000 | Cost: 20.053073\n",
      "[36.71713985  1.00132792]\n",
      "Iteration 77500 | Cost: 20.053021\n",
      "[36.71353887  1.00138221]\n",
      "Iteration 80000 | Cost: 20.052975\n",
      "[36.71015919  1.00143317]\n",
      "Iteration 82500 | Cost: 20.052935\n",
      "[36.70698723  1.00148099]\n",
      "Iteration 85000 | Cost: 20.052900\n",
      "[36.70401022  1.00152587]\n",
      "Iteration 87500 | Cost: 20.052868\n",
      "[36.70121617  1.001568  ]\n",
      "Iteration 90000 | Cost: 20.052841\n",
      "[36.69859383  1.00160753]\n",
      "Iteration 92500 | Cost: 20.052817\n",
      "[36.69613267  1.00164464]\n",
      "Iteration 95000 | Cost: 20.052795\n",
      "[36.69382276  1.00167946]\n",
      "Iteration 97500 | Cost: 20.052776\n",
      "[36.69165482  1.00171215]\n"
     ]
    },
    {
     "data": {
      "text/plain": [
       "array([36.68962011,  1.00174282])"
      ]
     },
     "execution_count": 19,
     "metadata": {},
     "output_type": "execute_result"
    },
    {
     "data": {
      "image/png": "[encoded data removed]",
      "text/plain": [
       "<Figure size 432x288 with 1 Axes>"
      ]
     },
     "metadata": {
      "needs_background": "light"
     },
     "output_type": "display_data"
    }
   ],
   "source": [
    "numIterations = 100000\n",
    "alpha = 0.0001\n",
    "theta = np.array([37.0595185,1.5342646])\n",
    "a = gradientDescent(x, y, theta, alpha, m, numIterations)\n",
    "a"
   ]
  },
  {
   "cell_type": "markdown",
   "metadata": {},
   "source": [
    "Let's compare the results with the sklearn."
   ]
  },
  {
   "cell_type": "code",
   "execution_count": 20,
   "metadata": {},
   "outputs": [],
   "source": [
    "from sklearn.linear_model import LinearRegression\n"
   ]
  },
  {
   "cell_type": "code",
   "execution_count": 21,
   "metadata": {},
   "outputs": [
    {
     "name": "stdout",
     "output_type": "stream",
     "text": [
      "[36.65854808  1.00221128]\n"
     ]
    }
   ],
   "source": [
    "lr = LinearRegression(fit_intercept= False)\n",
    "lr.fit(x,y)\n",
    "print(lr.coef_)\n"
   ]
  },
  {
   "cell_type": "code",
   "execution_count": null,
   "metadata": {},
   "outputs": [],
   "source": []
  }
 ],
 "metadata": {
  "kernelspec": {
   "display_name": "Python 3",
   "language": "python",
   "name": "python3"
  },
  "language_info": {
   "codemirror_mode": {
    "name": "ipython",
    "version": 3
   },
   "file_extension": ".py",
   "mimetype": "text/x-python",
   "name": "python",
   "nbconvert_exporter": "python",
   "pygments_lexer": "ipython3",
   "version": "3.6.9"
  },
  "toc": {
   "base_numbering": 1,
   "nav_menu": {},
   "number_sections": true,
   "sideBar": true,
   "skip_h1_title": false,
   "title_cell": "Table of Contents",
   "title_sidebar": "Contents",
   "toc_cell": false,
   "toc_position": {},
   "toc_section_display": true,
   "toc_window_display": false
  }
 },
 "nbformat": 4,
 "nbformat_minor": 2
}
