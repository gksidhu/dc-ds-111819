{
 "cells": [
  {
   "cell_type": "markdown",
   "metadata": {
    "slideshow": {
     "slide_type": "slide"
    }
   },
   "source": [
    "## Why Networks?\n",
    "\n",
    "* Great at modeling relationships\n",
    "* Social Networks\n",
    "* Transportation Networks"
   ]
  },
  {
   "cell_type": "markdown",
   "metadata": {},
   "source": [
    "<img src = \"./resources/graph.png\" style=\"width: 300px;\">"
   ]
  },
  {
   "cell_type": "markdown",
   "metadata": {
    "slideshow": {
     "slide_type": "slide"
    }
   },
   "source": [
    "## Components of Graphs\n",
    "\n",
    "* Nodes\n",
    "* Edges (weighted/unweighted and directed/undirected)\n",
    "* Degree\n",
    "\n",
    "#### Examples of Graphs\n",
    "\n",
    "* Undirected / Directed Graph\n",
    "<img src=\"./resources/Directed_graph.jpg\" width=\"600\">\n",
    "* Bipartite Graph\n",
    "<img src=\"./resources/bipartite.png\">"
   ]
  },
  {
   "cell_type": "markdown",
   "metadata": {},
   "source": [
    "### Moving through graphs\n",
    "\n",
    "* path : the route from one node to another\n",
    "* shortest path: the shortest possible route from one to another\n"
   ]
  },
  {
   "cell_type": "markdown",
   "metadata": {},
   "source": [
    "## Node Centrality\n",
    "\n",
    "* **Degree Centrality**: How many connections does a node have?\n",
    "\n",
    "\n",
    "## $$\\frac{\\#\\ of\\ neighbors\\ a\\ node\\ has}{\\#\\ of\\ neighbors\\ it\\ could\\ possibly\\ have}$$\n",
    "\n",
    "<img src=\"./resources/centrality.png\">\n",
    "\n",
    "\n",
    "---"
   ]
  },
  {
   "cell_type": "markdown",
   "metadata": {},
   "source": [
    " * **Betweenness Centrality**: How important is an individual node to a network? Captures bottlenecks\n",
    " \n",
    " \n",
    "<img  src =\"./resources/betweenness_formula.svg\">\n",
    " \n",
    "    \n",
    "where $\\sigma_{st}$ is the total number of shortest paths from node *s* to node *t* and $\\sigma_{st}(v)$ is the number of paths that pass through v\n",
    "\n",
    "\n",
    "\n",
    "## $$\\frac{\\#\\ of\\ shortest\\ paths\\ moving\\ from\\ one\\ node\\ to\\ another\\ including \\ node\\ of\\ interest}{\\#\\ all\\ possible\\ shortest\\ paths\\ from\\ one\\ node\\ to\\ another}$$\n",
    "\n",
    "<img src=\"./resources/betweenness.png\" width=\"400\">\n",
    "---"
   ]
  },
  {
   "cell_type": "markdown",
   "metadata": {},
   "source": [
    "* **Closeness Centrality**:  Calculated as the reciprocal of the sum of the length of the shortest paths between the node and all other nodes in the graph. Thus, the more central a node is, the closer it is to all other nodes.\n",
    "\n",
    "<img src =\"./resources/closeness.svg\">  \n",
    "where $\\displaystyle d(y,x)$ $\\displaystyle d(y,x)$ is the distance between vertices $\\displaystyle x$ and $\\displaystyle y$ \n",
    "\n",
    "<img src=\"./resources/closeness.png\" width=\"400\">\n",
    "https://journals.plos.org/plosone/article?id=10.1371/journal.pone.0165781"
   ]
  },
  {
   "cell_type": "code",
   "execution_count": 1,
   "metadata": {},
   "outputs": [],
   "source": [
    "# Let's try all this in code\n",
    "import pandas as pd\n",
    "import networkx as nx\n",
    "import matplotlib.pyplot as plt\n",
    "from operator import itemgetter\n",
    "%matplotlib inline"
   ]
  },
  {
   "cell_type": "code",
   "execution_count": 2,
   "metadata": {},
   "outputs": [
    {
     "data": {
      "text/plain": [
       "NodeView(('Addam-Marbrand', 'Jaime-Lannister', 'Tywin-Lannister', 'Aegon-I-Targaryen', 'Daenerys-Targaryen', 'Eddard-Stark', 'Aemon-Targaryen-(Maester-Aemon)', 'Alliser-Thorne', 'Bowen-Marsh', 'Chett', 'Clydas', 'Jeor-Mormont', 'Jon-Snow', 'Samwell-Tarly', 'Aerys-II-Targaryen', 'Brandon-Stark', 'Gerold-Hightower', 'Jon-Arryn', 'Robert-Baratheon', 'Aggo', 'Drogo', 'Jhogo', 'Jorah-Mormont', 'Quaro', 'Rakharo', 'Albett', 'Halder', 'Rast', 'Grenn', 'Pypar', 'Tyrion-Lannister', 'Alyn', 'Harwin', 'Jory-Cassel', 'Tomard', 'Arthur-Dayne', 'Arya-Stark', 'Benjen-Stark', 'Bran-Stark', 'Catelyn-Stark', 'Cersei-Lannister', 'Desmond', 'Ilyn-Payne', 'Jeyne-Poole', 'Joffrey-Baratheon', 'Meryn-Trant', 'Mordane', 'Mycah', 'Myrcella-Baratheon', 'Petyr-Baelish', 'Rickon-Stark', 'Robb-Stark', 'Rodrik-Cassel', 'Sandor-Clegane', 'Sansa-Stark', 'Syrio-Forel', 'Tommen-Baratheon', 'Vayon-Poole', 'Yoren', 'Arys-Oakheart', 'Balon-Greyjoy', 'Balon-Swann', 'Renly-Baratheon', 'Barristan-Selmy', 'Boros-Blount', 'Pycelle', 'Varys', 'Jaremy-Rykker', 'Luwin', 'Mance-Rayder', 'Theon-Greyjoy', 'Waymar-Royce', 'Beric-Dondarrion', 'Gregor-Clegane', 'Loras-Tyrell', 'Thoros-of-Myr', 'Hali', 'Hallis-Mollen', 'Hodor', 'Hullen', 'Joseth', 'Nan', 'Osha', 'Rickard-Karstark', 'Rickard-Stark', 'Stiv', 'Lyanna-Stark', 'Bronn', 'Chiggen', 'Marillion', 'Shae', 'Shagga', 'Vardis-Egen', 'Willis-Wode', 'Brynden-Tully', 'Edmure-Tully', 'Hoster-Tully', 'Lysa-Arryn', 'Nestor-Royce', 'Walder-Frey', 'Colemon', 'Donnel-Waynwood', 'Eon-Hunter', 'Jon-Umber-(Greatjon)', 'Masha-Heddle', 'Moreo-Tumitis', 'Mya-Stone', 'Mychel-Redfort', 'Robert-Arryn', 'Stevron-Frey', 'Tytos-Blackwood', 'Wendel-Manderly', 'Cayn', 'Janos-Slynt', 'Stannis-Baratheon', 'Chella', 'Clement-Piper', 'Karyl-Vance', 'Cohollo', 'Haggo', 'Qotho', 'Conn', 'Coratt', 'Doreah', 'Eroeh', 'Illyrio-Mopatis', 'Irri', 'Jhiqui', 'Mirri-Maz-Duur', 'Rhaegar-Targaryen', 'Viserys-Targaryen', 'Danwell-Frey', 'Hosteen-Frey', 'Jared-Frey', 'Dareon', 'Daryn-Hornwood', 'Torrhen-Karstark', 'Dolf', 'Donal-Noye', 'Jommo', 'Ogo', 'Rhaego', 'Dywen', 'Galbart-Glover', 'Gendry', 'High-Septon-(fat_one)', 'Howland-Reed', 'Jacks', 'Joss', 'Marq-Piper', 'Porther', 'Raymun-Darry', 'Tobho-Mott', 'Tregar', 'Varly', 'Wyl-(guard)', 'Wylla', 'Fogo', 'Roose-Bolton', 'Gared', 'Will-(prologue)', 'Oswell-Whent', 'Todder', 'Gunthor-son-of-Gurn', 'Harys-Swyft', 'Heward', 'Hobb', 'Hugh', 'Jafer-Flowers', 'Kevan-Lannister', 'Matthar', 'Othor', 'Maege-Mormont', 'Jonos-Bracken', 'Jyck', 'Morrec', 'Kurleket', 'Lancel-Lannister', 'Leo-Lefford', 'Mace-Tyrell', 'Lyn-Corbray', 'Paxter-Redwyne', 'Maegor-I-Targaryen', 'Mord', 'Randyll-Tarly', 'Timett', 'Ulf-son-of-Umar'))"
      ]
     },
     "execution_count": 2,
     "metadata": {},
     "output_type": "execute_result"
    }
   ],
   "source": [
    "book1_df = pd.read_csv('./resources/asiof/asoiaf-book1-edges.csv')\n",
    "g1 = nx.Graph()\n",
    "for row in book1_df.iterrows():\n",
    "    g1.add_edge(row[1]['Source'], row[1]['Target'],\n",
    "                weight=row[1]['weight'], book=row[1]['book'])\n",
    "\n",
    "# see all of the nodes\n",
    "g1.nodes()"
   ]
  },
  {
   "cell_type": "code",
   "execution_count": 3,
   "metadata": {},
   "outputs": [
    {
     "data": {
      "text/plain": [
       "EdgeView([('Addam-Marbrand', 'Jaime-Lannister'), ('Addam-Marbrand', 'Tywin-Lannister'), ('Jaime-Lannister', 'Aerys-II-Targaryen'), ('Jaime-Lannister', 'Barristan-Selmy'), ('Jaime-Lannister', 'Brynden-Tully'), ('Jaime-Lannister', 'Catelyn-Stark'), ('Jaime-Lannister', 'Cersei-Lannister'), ('Jaime-Lannister', 'Eddard-Stark'), ('Jaime-Lannister', 'Edmure-Tully'), ('Jaime-Lannister', 'Galbart-Glover'), ('Jaime-Lannister', 'Gregor-Clegane'), ('Jaime-Lannister', 'Harys-Swyft'), ('Jaime-Lannister', 'Joffrey-Baratheon'), ('Jaime-Lannister', 'Jon-Arryn'), ('Jaime-Lannister', 'Jory-Cassel'), ('Jaime-Lannister', 'Kevan-Lannister'), ('Jaime-Lannister', 'Loras-Tyrell'), ('Jaime-Lannister', 'Lysa-Arryn'), ('Jaime-Lannister', 'Petyr-Baelish'), ('Jaime-Lannister', 'Renly-Baratheon'), ('Jaime-Lannister', 'Rickard-Karstark'), ('Jaime-Lannister', 'Robb-Stark'), ('Jaime-Lannister', 'Robert-Baratheon'), ('Jaime-Lannister', 'Rodrik-Cassel'), ('Jaime-Lannister', 'Sandor-Clegane'), ('Jaime-Lannister', 'Sansa-Stark'), ('Jaime-Lannister', 'Tyrion-Lannister'), ('Jaime-Lannister', 'Tywin-Lannister'), ('Jaime-Lannister', 'Varys'), ('Jaime-Lannister', 'Wyl-(guard)'), ('Tywin-Lannister', 'Bronn'), ('Tywin-Lannister', 'Brynden-Tully'), ('Tywin-Lannister', 'Catelyn-Stark'), ('Tywin-Lannister', 'Cersei-Lannister'), ('Tywin-Lannister', 'Eddard-Stark'), ('Tywin-Lannister', 'Gregor-Clegane'), ('Tywin-Lannister', 'Joffrey-Baratheon'), ('Tywin-Lannister', 'Jon-Umber-(Greatjon)'), ('Tywin-Lannister', 'Kevan-Lannister'), ('Tywin-Lannister', 'Marq-Piper'), ('Tywin-Lannister', 'Pycelle'), ('Tywin-Lannister', 'Rhaegar-Targaryen'), ('Tywin-Lannister', 'Robb-Stark'), ('Tywin-Lannister', 'Robert-Baratheon'), ('Tywin-Lannister', 'Roose-Bolton'), ('Tywin-Lannister', 'Stannis-Baratheon'), ('Tywin-Lannister', 'Theon-Greyjoy'), ('Tywin-Lannister', 'Tyrion-Lannister'), ('Tywin-Lannister', 'Varys'), ('Tywin-Lannister', 'Walder-Frey'), ('Aegon-I-Targaryen', 'Daenerys-Targaryen'), ('Aegon-I-Targaryen', 'Eddard-Stark'), ('Daenerys-Targaryen', 'Aggo'), ('Daenerys-Targaryen', 'Cohollo'), ('Daenerys-Targaryen', 'Doreah'), ('Daenerys-Targaryen', 'Drogo'), ('Daenerys-Targaryen', 'Eddard-Stark'), ('Daenerys-Targaryen', 'Eroeh'), ('Daenerys-Targaryen', 'Haggo'), ('Daenerys-Targaryen', 'Illyrio-Mopatis'), ('Daenerys-Targaryen', 'Irri'), ('Daenerys-Targaryen', 'Jhiqui'), ('Daenerys-Targaryen', 'Jhogo'), ('Daenerys-Targaryen', 'Jorah-Mormont'), ('Daenerys-Targaryen', 'Mirri-Maz-Duur'), ('Daenerys-Targaryen', 'Qotho'), ('Daenerys-Targaryen', 'Quaro'), ('Daenerys-Targaryen', 'Rakharo'), ('Daenerys-Targaryen', 'Rhaegar-Targaryen'), ('Daenerys-Targaryen', 'Robert-Baratheon'), ('Daenerys-Targaryen', 'Varys'), ('Daenerys-Targaryen', 'Viserys-Targaryen'), ('Eddard-Stark', 'Aerys-II-Targaryen'), ('Eddard-Stark', 'Alyn'), ('Eddard-Stark', 'Arya-Stark'), ('Eddard-Stark', 'Balon-Greyjoy'), ('Eddard-Stark', 'Barristan-Selmy'), ('Eddard-Stark', 'Beric-Dondarrion'), ('Eddard-Stark', 'Bran-Stark'), ('Eddard-Stark', 'Brandon-Stark'), ('Eddard-Stark', 'Catelyn-Stark'), ('Eddard-Stark', 'Cayn'), ('Eddard-Stark', 'Cersei-Lannister'), ('Eddard-Stark', 'Daryn-Hornwood'), ('Eddard-Stark', 'Desmond'), ('Eddard-Stark', 'Edmure-Tully'), ('Eddard-Stark', 'Galbart-Glover'), ('Eddard-Stark', 'Gendry'), ('Eddard-Stark', 'Gerold-Hightower'), ('Eddard-Stark', 'Gregor-Clegane'), ('Eddard-Stark', 'Harwin'), ('Eddard-Stark', 'High-Septon-(fat_one)'), ('Eddard-Stark', 'Howland-Reed'), ('Eddard-Stark', 'Ilyn-Payne'), ('Eddard-Stark', 'Jacks'), ('Eddard-Stark', 'Janos-Slynt'), ('Eddard-Stark', 'Joffrey-Baratheon'), ('Eddard-Stark', 'Jon-Arryn'), ('Eddard-Stark', 'Jon-Snow'), ('Eddard-Stark', 'Jory-Cassel'), ('Eddard-Stark', 'Joss'), ('Eddard-Stark', 'Loras-Tyrell'), ('Eddard-Stark', 'Luwin'), ('Eddard-Stark', 'Lyanna-Stark'), ('Eddard-Stark', 'Lysa-Arryn'), ('Eddard-Stark', 'Marq-Piper'), ('Eddard-Stark', 'Mordane'), ('Eddard-Stark', 'Mycah'), ('Eddard-Stark', 'Petyr-Baelish'), ('Eddard-Stark', 'Porther'), ('Eddard-Stark', 'Pycelle'), ('Eddard-Stark', 'Raymun-Darry'), ('Eddard-Stark', 'Renly-Baratheon'), ('Eddard-Stark', 'Rhaegar-Targaryen'), ('Eddard-Stark', 'Rickard-Karstark'), ('Eddard-Stark', 'Rickon-Stark'), ('Eddard-Stark', 'Robb-Stark'), ('Eddard-Stark', 'Robert-Baratheon'), ('Eddard-Stark', 'Rodrik-Cassel'), ('Eddard-Stark', 'Sandor-Clegane'), ('Eddard-Stark', 'Sansa-Stark'), ('Eddard-Stark', 'Stannis-Baratheon'), ('Eddard-Stark', 'Syrio-Forel'), ('Eddard-Stark', 'Theon-Greyjoy'), ('Eddard-Stark', 'Tobho-Mott'), ('Eddard-Stark', 'Tomard'), ('Eddard-Stark', 'Torrhen-Karstark'), ('Eddard-Stark', 'Tregar'), ('Eddard-Stark', 'Tyrion-Lannister'), ('Eddard-Stark', 'Varly'), ('Eddard-Stark', 'Varys'), ('Eddard-Stark', 'Vayon-Poole'), ('Eddard-Stark', 'Wyl-(guard)'), ('Eddard-Stark', 'Wylla'), ('Aemon-Targaryen-(Maester-Aemon)', 'Alliser-Thorne'), ('Aemon-Targaryen-(Maester-Aemon)', 'Bowen-Marsh'), ('Aemon-Targaryen-(Maester-Aemon)', 'Chett'), ('Aemon-Targaryen-(Maester-Aemon)', 'Clydas'), ('Aemon-Targaryen-(Maester-Aemon)', 'Jeor-Mormont'), ('Aemon-Targaryen-(Maester-Aemon)', 'Jon-Snow'), ('Aemon-Targaryen-(Maester-Aemon)', 'Samwell-Tarly'), ('Alliser-Thorne', 'Bowen-Marsh'), ('Alliser-Thorne', 'Grenn'), ('Alliser-Thorne', 'Halder'), ('Alliser-Thorne', 'Jeor-Mormont'), ('Alliser-Thorne', 'Jon-Snow'), ('Alliser-Thorne', 'Pypar'), ('Alliser-Thorne', 'Rast'), ('Alliser-Thorne', 'Samwell-Tarly'), ('Alliser-Thorne', 'Tyrion-Lannister'), ('Bowen-Marsh', 'Jeor-Mormont'), ('Bowen-Marsh', 'Jon-Snow'), ('Bowen-Marsh', 'Samwell-Tarly'), ('Chett', 'Jon-Snow'), ('Chett', 'Samwell-Tarly'), ('Jeor-Mormont', 'Benjen-Stark'), ('Jeor-Mormont', 'Bran-Stark'), ('Jeor-Mormont', 'Gared'), ('Jeor-Mormont', 'Grenn'), ('Jeor-Mormont', 'Jaremy-Rykker'), ('Jeor-Mormont', 'Jon-Snow'), ('Jeor-Mormont', 'Robert-Baratheon'), ('Jeor-Mormont', 'Samwell-Tarly'), ('Jeor-Mormont', 'Tyrion-Lannister'), ('Jeor-Mormont', 'Yoren'), ('Jon-Snow', 'Albett'), ('Jon-Snow', 'Arya-Stark'), ('Jon-Snow', 'Benjen-Stark'), ('Jon-Snow', 'Bran-Stark'), ('Jon-Snow', 'Catelyn-Stark'), ('Jon-Snow', 'Cersei-Lannister'), ('Jon-Snow', 'Dareon'), ('Jon-Snow', 'Donal-Noye'), ('Jon-Snow', 'Dywen'), ('Jon-Snow', 'Grenn'), ('Jon-Snow', 'Halder'), ('Jon-Snow', 'Hobb'), ('Jon-Snow', 'Jaremy-Rykker'), ('Jon-Snow', 'Joffrey-Baratheon'), ('Jon-Snow', 'Jory-Cassel'), ('Jon-Snow', 'Luwin'), ('Jon-Snow', 'Matthar'), ('Jon-Snow', 'Mordane'), ('Jon-Snow', 'Othor'), ('Jon-Snow', 'Pypar'), ('Jon-Snow', 'Rast'), ('Jon-Snow', 'Rickon-Stark'), ('Jon-Snow', 'Robb-Stark'), ('Jon-Snow', 'Robert-Baratheon'), ('Jon-Snow', 'Rodrik-Cassel'), ('Jon-Snow', 'Samwell-Tarly'), ('Jon-Snow', 'Sansa-Stark'), ('Jon-Snow', 'Theon-Greyjoy'), ('Jon-Snow', 'Todder'), ('Jon-Snow', 'Tyrion-Lannister'), ('Jon-Snow', 'Yoren'), ('Samwell-Tarly', 'Grenn'), ('Samwell-Tarly', 'Halder'), ('Samwell-Tarly', 'Pypar'), ('Samwell-Tarly', 'Randyll-Tarly'), ('Samwell-Tarly', 'Rast'), ('Samwell-Tarly', 'Robb-Stark'), ('Aerys-II-Targaryen', 'Brandon-Stark'), ('Aerys-II-Targaryen', 'Gerold-Hightower'), ('Aerys-II-Targaryen', 'Jon-Arryn'), ('Aerys-II-Targaryen', 'Robert-Baratheon'), ('Brandon-Stark', 'Lyanna-Stark'), ('Brandon-Stark', 'Petyr-Baelish'), ('Brandon-Stark', 'Rickard-Stark'), ('Brandon-Stark', 'Robert-Baratheon'), ('Gerold-Hightower', 'Arthur-Dayne'), ('Gerold-Hightower', 'Oswell-Whent'), ('Gerold-Hightower', 'Robert-Baratheon'), ('Jon-Arryn', 'Barristan-Selmy'), ('Jon-Arryn', 'Bran-Stark'), ('Jon-Arryn', 'Catelyn-Stark'), ('Jon-Arryn', 'Cersei-Lannister'), ('Jon-Arryn', 'Hugh'), ('Jon-Arryn', 'Lysa-Arryn'), ('Jon-Arryn', 'Petyr-Baelish'), ('Jon-Arryn', 'Pycelle'), ('Jon-Arryn', 'Robert-Baratheon'), ('Jon-Arryn', 'Stannis-Baratheon'), ('Jon-Arryn', 'Tyrion-Lannister'), ('Jon-Arryn', 'Varys'), ('Robert-Baratheon', 'Alyn'), ('Robert-Baratheon', 'Arya-Stark'), ('Robert-Baratheon', 'Balon-Greyjoy'), ('Robert-Baratheon', 'Barristan-Selmy'), ('Robert-Baratheon', 'Benjen-Stark'), ('Robert-Baratheon', 'Beric-Dondarrion'), ('Robert-Baratheon', 'Bran-Stark'), ('Robert-Baratheon', 'Catelyn-Stark'), ('Robert-Baratheon', 'Cersei-Lannister'), ('Robert-Baratheon', 'Drogo'), ('Robert-Baratheon', 'Gregor-Clegane'), ('Robert-Baratheon', 'Hoster-Tully'), ('Robert-Baratheon', 'Illyrio-Mopatis'), ('Robert-Baratheon', 'Ilyn-Payne'), ('Robert-Baratheon', 'Janos-Slynt'), ('Robert-Baratheon', 'Jeyne-Poole'), ('Robert-Baratheon', 'Joffrey-Baratheon'), ('Robert-Baratheon', 'Jorah-Mormont'), ('Robert-Baratheon', 'Jory-Cassel'), ('Robert-Baratheon', 'Lancel-Lannister'), ('Robert-Baratheon', 'Loras-Tyrell'), ('Robert-Baratheon', 'Lyanna-Stark'), ('Robert-Baratheon', 'Lysa-Arryn'), ('Robert-Baratheon', 'Meryn-Trant'), ('Robert-Baratheon', 'Mordane'), ('Robert-Baratheon', 'Myrcella-Baratheon'), ('Robert-Baratheon', 'Petyr-Baelish'), ('Robert-Baratheon', 'Pycelle'), ('Robert-Baratheon', 'Raymun-Darry'), ('Robert-Baratheon', 'Renly-Baratheon'), ('Robert-Baratheon', 'Rhaegar-Targaryen'), ('Robert-Baratheon', 'Robb-Stark'), ('Robert-Baratheon', 'Sandor-Clegane'), ('Robert-Baratheon', 'Sansa-Stark'), ('Robert-Baratheon', 'Stannis-Baratheon'), ('Robert-Baratheon', 'Tommen-Baratheon'), ('Robert-Baratheon', 'Tyrion-Lannister'), ('Robert-Baratheon', 'Varys'), ('Robert-Baratheon', 'Vayon-Poole'), ('Robert-Baratheon', 'Viserys-Targaryen'), ('Aggo', 'Drogo'), ('Aggo', 'Jhogo'), ('Aggo', 'Jorah-Mormont'), ('Aggo', 'Quaro'), ('Aggo', 'Rakharo'), ('Drogo', 'Cohollo'), ('Drogo', 'Doreah'), ('Drogo', 'Haggo'), ('Drogo', 'Illyrio-Mopatis'), ('Drogo', 'Irri'), ('Drogo', 'Jhiqui'), ('Drogo', 'Jhogo'), ('Drogo', 'Jommo'), ('Drogo', 'Jorah-Mormont'), ('Drogo', 'Mirri-Maz-Duur'), ('Drogo', 'Ogo'), ('Drogo', 'Qotho'), ('Drogo', 'Quaro'), ('Drogo', 'Rakharo'), ('Drogo', 'Rhaego'), ('Drogo', 'Viserys-Targaryen'), ('Jhogo', 'Irri'), ('Jhogo', 'Jorah-Mormont'), ('Jhogo', 'Mirri-Maz-Duur'), ('Jorah-Mormont', 'Doreah'), ('Jorah-Mormont', 'Illyrio-Mopatis'), ('Jorah-Mormont', 'Irri'), ('Jorah-Mormont', 'Jhiqui'), ('Jorah-Mormont', 'Mirri-Maz-Duur'), ('Jorah-Mormont', 'Qotho'), ('Jorah-Mormont', 'Rhaegar-Targaryen'), ('Jorah-Mormont', 'Viserys-Targaryen'), ('Quaro', 'Qotho'), ('Quaro', 'Rakharo'), ('Rakharo', 'Haggo'), ('Albett', 'Halder'), ('Albett', 'Rast'), ('Halder', 'Grenn'), ('Halder', 'Pypar'), ('Halder', 'Rast'), ('Halder', 'Todder'), ('Rast', 'Pypar'), ('Grenn', 'Pypar'), ('Grenn', 'Todder'), ('Pypar', 'Todder'), ('Tyrion-Lannister', 'Benjen-Stark'), ('Tyrion-Lannister', 'Bran-Stark'), ('Tyrion-Lannister', 'Bronn'), ('Tyrion-Lannister', 'Brynden-Tully'), ('Tyrion-Lannister', 'Catelyn-Stark'), ('Tyrion-Lannister', 'Cersei-Lannister'), ('Tyrion-Lannister', 'Chella'), ('Tyrion-Lannister', 'Chiggen'), ('Tyrion-Lannister', 'Conn'), ('Tyrion-Lannister', 'Gregor-Clegane'), ('Tyrion-Lannister', 'Gunthor-son-of-Gurn'), ('Tyrion-Lannister', 'Joffrey-Baratheon'), ('Tyrion-Lannister', 'Jyck'), ('Tyrion-Lannister', 'Kevan-Lannister'), ('Tyrion-Lannister', 'Kurleket'), ('Tyrion-Lannister', 'Leo-Lefford'), ('Tyrion-Lannister', 'Luwin'), ('Tyrion-Lannister', 'Lysa-Arryn'), ('Tyrion-Lannister', 'Marillion'), ('Tyrion-Lannister', 'Mord'), ('Tyrion-Lannister', 'Morrec'), ('Tyrion-Lannister', 'Petyr-Baelish'), ('Tyrion-Lannister', 'Renly-Baratheon'), ('Tyrion-Lannister', 'Rickon-Stark'), ('Tyrion-Lannister', 'Robb-Stark'), ('Tyrion-Lannister', 'Robert-Arryn'), ('Tyrion-Lannister', 'Rodrik-Cassel'), ('Tyrion-Lannister', 'Sandor-Clegane'), ('Tyrion-Lannister', 'Sansa-Stark'), ('Tyrion-Lannister', 'Shae'), ('Tyrion-Lannister', 'Shagga'), ('Tyrion-Lannister', 'Theon-Greyjoy'), ('Tyrion-Lannister', 'Timett'), ('Tyrion-Lannister', 'Tommen-Baratheon'), ('Tyrion-Lannister', 'Vardis-Egen'), ('Tyrion-Lannister', 'Varys'), ('Tyrion-Lannister', 'Willis-Wode'), ('Tyrion-Lannister', 'Yoren'), ('Alyn', 'Harwin'), ('Alyn', 'Jory-Cassel'), ('Alyn', 'Tomard'), ('Harwin', 'Hullen'), ('Harwin', 'Jory-Cassel'), ('Jory-Cassel', 'Arya-Stark'), ('Jory-Cassel', 'Bran-Stark'), ('Jory-Cassel', 'Cersei-Lannister'), ('Jory-Cassel', 'Heward'), ('Jory-Cassel', 'Hullen'), ('Jory-Cassel', 'Mordane'), ('Jory-Cassel', 'Petyr-Baelish'), ('Jory-Cassel', 'Robb-Stark'), ('Jory-Cassel', 'Rodrik-Cassel'), ('Jory-Cassel', 'Sansa-Stark'), ('Jory-Cassel', 'Stannis-Baratheon'), ('Jory-Cassel', 'Theon-Greyjoy'), ('Jory-Cassel', 'Tomard'), ('Jory-Cassel', 'Vayon-Poole'), ('Jory-Cassel', 'Wyl-(guard)'), ('Tomard', 'Arya-Stark'), ('Tomard', 'Cayn'), ('Tomard', 'Petyr-Baelish'), ('Tomard', 'Sansa-Stark'), ('Arya-Stark', 'Benjen-Stark'), ('Arya-Stark', 'Bran-Stark'), ('Arya-Stark', 'Catelyn-Stark'), ('Arya-Stark', 'Cersei-Lannister'), ('Arya-Stark', 'Desmond'), ('Arya-Stark', 'Ilyn-Payne'), ('Arya-Stark', 'Jeyne-Poole'), ('Arya-Stark', 'Joffrey-Baratheon'), ('Arya-Stark', 'Meryn-Trant'), ('Arya-Stark', 'Mordane'), ('Arya-Stark', 'Mycah'), ('Arya-Stark', 'Myrcella-Baratheon'), ('Arya-Stark', 'Petyr-Baelish'), ('Arya-Stark', 'Rickon-Stark'), ('Arya-Stark', 'Robb-Stark'), ('Arya-Stark', 'Rodrik-Cassel'), ('Arya-Stark', 'Sandor-Clegane'), ('Arya-Stark', 'Sansa-Stark'), ('Arya-Stark', 'Syrio-Forel'), ('Arya-Stark', 'Tommen-Baratheon'), ('Arya-Stark', 'Vayon-Poole'), ('Arya-Stark', 'Yoren'), ('Benjen-Stark', 'Bran-Stark'), ('Benjen-Stark', 'Cersei-Lannister'), ('Benjen-Stark', 'Jaremy-Rykker'), ('Benjen-Stark', 'Luwin'), ('Benjen-Stark', 'Mance-Rayder'), ('Benjen-Stark', 'Robb-Stark'), ('Benjen-Stark', 'Theon-Greyjoy'), ('Benjen-Stark', 'Waymar-Royce'), ('Benjen-Stark', 'Yoren'), ('Bran-Stark', 'Catelyn-Stark'), ('Bran-Stark', 'Cersei-Lannister'), ('Bran-Stark', 'Hali'), ('Bran-Stark', 'Hallis-Mollen'), ('Bran-Stark', 'Hodor'), ('Bran-Stark', 'Hullen'), ('Bran-Stark', 'Joffrey-Baratheon'), ('Bran-Stark', 'Joseth'), ('Bran-Stark', 'Luwin'), ('Bran-Stark', 'Nan'), ('Bran-Stark', 'Osha'), ('Bran-Stark', 'Petyr-Baelish'), ('Bran-Stark', 'Renly-Baratheon'), ('Bran-Stark', 'Rickard-Karstark'), ('Bran-Stark', 'Rickard-Stark'), ('Bran-Stark', 'Rickon-Stark'), ('Bran-Stark', 'Robb-Stark'), ('Bran-Stark', 'Rodrik-Cassel'), ('Bran-Stark', 'Sansa-Stark'), ('Bran-Stark', 'Stiv'), ('Bran-Stark', 'Theon-Greyjoy'), ('Bran-Stark', 'Tommen-Baratheon'), ('Bran-Stark', 'Yoren'), ('Catelyn-Stark', 'Bronn'), ('Catelyn-Stark', 'Brynden-Tully'), ('Catelyn-Stark', 'Cersei-Lannister'), ('Catelyn-Stark', 'Colemon'), ('Catelyn-Stark', 'Donnel-Waynwood'), ('Catelyn-Stark', 'Edmure-Tully'), ('Catelyn-Stark', 'Eon-Hunter'), ('Catelyn-Stark', 'Hallis-Mollen'), ('Catelyn-Stark', 'Hoster-Tully'), ('Catelyn-Stark', 'Joffrey-Baratheon'), ('Catelyn-Stark', 'Jon-Umber-(Greatjon)'), ('Catelyn-Stark', 'Luwin'), ('Catelyn-Stark', 'Lysa-Arryn'), ('Catelyn-Stark', 'Marillion'), ('Catelyn-Stark', 'Masha-Heddle'), ('Catelyn-Stark', 'Moreo-Tumitis'), ('Catelyn-Stark', 'Mya-Stone'), ('Catelyn-Stark', 'Mychel-Redfort'), ('Catelyn-Stark', 'Nestor-Royce'), ('Catelyn-Stark', 'Petyr-Baelish'), ('Catelyn-Stark', 'Rickard-Karstark'), ('Catelyn-Stark', 'Rickon-Stark'), ('Catelyn-Stark', 'Robb-Stark'), ('Catelyn-Stark', 'Robert-Arryn'), ('Catelyn-Stark', 'Rodrik-Cassel'), ('Catelyn-Stark', 'Sansa-Stark'), ('Catelyn-Stark', 'Stevron-Frey'), ('Catelyn-Stark', 'Theon-Greyjoy'), ('Catelyn-Stark', 'Tytos-Blackwood'), ('Catelyn-Stark', 'Vardis-Egen'), ('Catelyn-Stark', 'Varys'), ('Catelyn-Stark', 'Walder-Frey'), ('Catelyn-Stark', 'Wendel-Manderly'), ('Catelyn-Stark', 'Willis-Wode'), ('Cersei-Lannister', 'Arys-Oakheart'), ('Cersei-Lannister', 'Barristan-Selmy'), ('Cersei-Lannister', 'Boros-Blount'), ('Cersei-Lannister', 'Ilyn-Payne'), ('Cersei-Lannister', 'Janos-Slynt'), ('Cersei-Lannister', 'Joffrey-Baratheon'), ('Cersei-Lannister', 'Meryn-Trant'), ('Cersei-Lannister', 'Mordane'), ('Cersei-Lannister', 'Myrcella-Baratheon'), ('Cersei-Lannister', 'Petyr-Baelish'), ('Cersei-Lannister', 'Pycelle'), ('Cersei-Lannister', 'Renly-Baratheon'), ('Cersei-Lannister', 'Sandor-Clegane'), ('Cersei-Lannister', 'Sansa-Stark'), ('Cersei-Lannister', 'Stannis-Baratheon'), ('Cersei-Lannister', 'Tommen-Baratheon'), ('Cersei-Lannister', 'Varys'), ('Cersei-Lannister', 'Vayon-Poole'), ('Ilyn-Payne', 'Jeyne-Poole'), ('Ilyn-Payne', 'Joffrey-Baratheon'), ('Ilyn-Payne', 'Loras-Tyrell'), ('Ilyn-Payne', 'Sansa-Stark'), ('Ilyn-Payne', 'Varys'), ('Jeyne-Poole', 'Loras-Tyrell'), ('Jeyne-Poole', 'Mordane'), ('Jeyne-Poole', 'Sansa-Stark'), ('Joffrey-Baratheon', 'Barristan-Selmy'), ('Joffrey-Baratheon', 'Boros-Blount'), ('Joffrey-Baratheon', 'High-Septon-(fat_one)'), ('Joffrey-Baratheon', 'Janos-Slynt'), ('Joffrey-Baratheon', 'Loras-Tyrell'), ('Joffrey-Baratheon', 'Meryn-Trant'), ('Joffrey-Baratheon', 'Mordane'), ('Joffrey-Baratheon', 'Mycah'), ('Joffrey-Baratheon', 'Myrcella-Baratheon'), ('Joffrey-Baratheon', 'Petyr-Baelish'), ('Joffrey-Baratheon', 'Pycelle'), ('Joffrey-Baratheon', 'Renly-Baratheon'), ('Joffrey-Baratheon', 'Robb-Stark'), ('Joffrey-Baratheon', 'Rodrik-Cassel'), ('Joffrey-Baratheon', 'Sandor-Clegane'), ('Joffrey-Baratheon', 'Sansa-Stark'), ('Joffrey-Baratheon', 'Stannis-Baratheon'), ('Joffrey-Baratheon', 'Tommen-Baratheon'), ('Joffrey-Baratheon', 'Varys'), ('Meryn-Trant', 'Barristan-Selmy'), ('Meryn-Trant', 'Boros-Blount'), ('Meryn-Trant', 'Sandor-Clegane'), ('Meryn-Trant', 'Sansa-Stark'), ('Meryn-Trant', 'Syrio-Forel'), ('Mordane', 'Myrcella-Baratheon'), ('Mordane', 'Petyr-Baelish'), ('Mordane', 'Sansa-Stark'), ('Mycah', 'Sandor-Clegane'), ('Mycah', 'Sansa-Stark'), ('Myrcella-Baratheon', 'Sansa-Stark'), ('Myrcella-Baratheon', 'Tommen-Baratheon'), ('Petyr-Baelish', 'Barristan-Selmy'), ('Petyr-Baelish', 'Edmure-Tully'), ('Petyr-Baelish', 'Gregor-Clegane'), ('Petyr-Baelish', 'Janos-Slynt'), ('Petyr-Baelish', 'Loras-Tyrell'), ('Petyr-Baelish', 'Lysa-Arryn'), ('Petyr-Baelish', 'Pycelle'), ('Petyr-Baelish', 'Renly-Baratheon'), ('Petyr-Baelish', 'Rodrik-Cassel'), ('Petyr-Baelish', 'Sandor-Clegane'), ('Petyr-Baelish', 'Sansa-Stark'), ('Petyr-Baelish', 'Varys'), ('Rickon-Stark', 'Luwin'), ('Rickon-Stark', 'Robb-Stark'), ('Rickon-Stark', 'Sansa-Stark'), ('Robb-Stark', 'Brynden-Tully'), ('Robb-Stark', 'Edmure-Tully'), ('Robb-Stark', 'Galbart-Glover'), ('Robb-Stark', 'Hallis-Mollen'), ('Robb-Stark', 'Hodor'), ('Robb-Stark', 'Hullen'), ('Robb-Stark', 'Jon-Umber-(Greatjon)'), ('Robb-Stark', 'Luwin'), ('Robb-Stark', 'Nan'), ('Robb-Stark', 'Osha'), ('Robb-Stark', 'Renly-Baratheon'), ('Robb-Stark', 'Rickard-Karstark'), ('Robb-Stark', 'Rodrik-Cassel'), ('Robb-Stark', 'Roose-Bolton'), ('Robb-Stark', 'Sansa-Stark'), ('Robb-Stark', 'Stiv'), ('Robb-Stark', 'Theon-Greyjoy'), ('Robb-Stark', 'Torrhen-Karstark'), ('Robb-Stark', 'Walder-Frey'), ('Robb-Stark', 'Wendel-Manderly'), ('Robb-Stark', 'Yoren'), ('Rodrik-Cassel', 'Bronn'), ('Rodrik-Cassel', 'Hullen'), ('Rodrik-Cassel', 'Loras-Tyrell'), ('Rodrik-Cassel', 'Luwin'), ('Rodrik-Cassel', 'Marillion'), ('Rodrik-Cassel', 'Theon-Greyjoy'), ('Rodrik-Cassel', 'Willis-Wode'), ('Sandor-Clegane', 'Balon-Swann'), ('Sandor-Clegane', 'Barristan-Selmy'), ('Sandor-Clegane', 'Gregor-Clegane'), ('Sandor-Clegane', 'Loras-Tyrell'), ('Sandor-Clegane', 'Renly-Baratheon'), ('Sandor-Clegane', 'Sansa-Stark'), ('Sansa-Stark', 'Barristan-Selmy'), ('Sansa-Stark', 'Beric-Dondarrion'), ('Sansa-Stark', 'Boros-Blount'), ('Sansa-Stark', 'Gregor-Clegane'), ('Sansa-Stark', 'Janos-Slynt'), ('Sansa-Stark', 'Loras-Tyrell'), ('Sansa-Stark', 'Lyanna-Stark'), ('Sansa-Stark', 'Maegor-I-Targaryen'), ('Sansa-Stark', 'Pycelle'), ('Sansa-Stark', 'Renly-Baratheon'), ('Sansa-Stark', 'Rhaegar-Targaryen'), ('Sansa-Stark', 'Stannis-Baratheon'), ('Sansa-Stark', 'Varys'), ('Tommen-Baratheon', 'Luwin'), ('Balon-Swann', 'Renly-Baratheon'), ('Renly-Baratheon', 'Barristan-Selmy'), ('Renly-Baratheon', 'Cayn'), ('Renly-Baratheon', 'Loras-Tyrell'), ('Renly-Baratheon', 'Pycelle'), ('Renly-Baratheon', 'Stannis-Baratheon'), ('Renly-Baratheon', 'Varys'), ('Barristan-Selmy', 'Boros-Blount'), ('Barristan-Selmy', 'Pycelle'), ('Barristan-Selmy', 'Varys'), ('Pycelle', 'Gregor-Clegane'), ('Pycelle', 'Janos-Slynt'), ('Pycelle', 'Stannis-Baratheon'), ('Pycelle', 'Varys'), ('Varys', 'Stannis-Baratheon'), ('Jaremy-Rykker', 'Jafer-Flowers'), ('Luwin', 'Hallis-Mollen'), ('Luwin', 'Hodor'), ('Luwin', 'Hullen'), ('Luwin', 'Joseth'), ('Luwin', 'Nan'), ('Luwin', 'Osha'), ('Luwin', 'Rickard-Karstark'), ('Luwin', 'Theon-Greyjoy'), ('Theon-Greyjoy', 'Brynden-Tully'), ('Theon-Greyjoy', 'Hallis-Mollen'), ('Theon-Greyjoy', 'Jon-Umber-(Greatjon)'), ('Theon-Greyjoy', 'Walder-Frey'), ('Waymar-Royce', 'Gared'), ('Waymar-Royce', 'Will-(prologue)'), ('Beric-Dondarrion', 'Gregor-Clegane'), ('Beric-Dondarrion', 'Loras-Tyrell'), ('Beric-Dondarrion', 'Thoros-of-Myr'), ('Gregor-Clegane', 'Loras-Tyrell'), ('Gregor-Clegane', 'Marq-Piper'), ('Loras-Tyrell', 'Mace-Tyrell'), ('Hodor', 'Nan'), ('Rickard-Karstark', 'Galbart-Glover'), ('Rickard-Karstark', 'Jon-Umber-(Greatjon)'), ('Rickard-Karstark', 'Maege-Mormont'), ('Rickard-Karstark', 'Roose-Bolton'), ('Bronn', 'Chiggen'), ('Bronn', 'Marillion'), ('Bronn', 'Shae'), ('Bronn', 'Shagga'), ('Bronn', 'Vardis-Egen'), ('Bronn', 'Willis-Wode'), ('Chiggen', 'Willis-Wode'), ('Marillion', 'Willis-Wode'), ('Shagga', 'Conn'), ('Shagga', 'Dolf'), ('Shagga', 'Timett'), ('Shagga', 'Ulf-son-of-Umar'), ('Vardis-Egen', 'Colemon'), ('Vardis-Egen', 'Eon-Hunter'), ('Vardis-Egen', 'Lysa-Arryn'), ('Brynden-Tully', 'Edmure-Tully'), ('Brynden-Tully', 'Hoster-Tully'), ('Brynden-Tully', 'Lysa-Arryn'), ('Brynden-Tully', 'Nestor-Royce'), ('Brynden-Tully', 'Walder-Frey'), ('Edmure-Tully', 'Hoster-Tully'), ('Edmure-Tully', 'Karyl-Vance'), ('Edmure-Tully', 'Lysa-Arryn'), ('Edmure-Tully', 'Marq-Piper'), ('Edmure-Tully', 'Tytos-Blackwood'), ('Hoster-Tully', 'Lysa-Arryn'), ('Lysa-Arryn', 'Eon-Hunter'), ('Lysa-Arryn', 'Lyn-Corbray'), ('Lysa-Arryn', 'Robert-Arryn'), ('Lysa-Arryn', 'Stannis-Baratheon'), ('Walder-Frey', 'Danwell-Frey'), ('Walder-Frey', 'Stevron-Frey'), ('Jon-Umber-(Greatjon)', 'Galbart-Glover'), ('Jon-Umber-(Greatjon)', 'Maege-Mormont'), ('Jon-Umber-(Greatjon)', 'Roose-Bolton'), ('Tytos-Blackwood', 'Jonos-Bracken'), ('Clement-Piper', 'Karyl-Vance'), ('Karyl-Vance', 'Marq-Piper'), ('Cohollo', 'Haggo'), ('Cohollo', 'Qotho'), ('Haggo', 'Mirri-Maz-Duur'), ('Haggo', 'Qotho'), ('Qotho', 'Mirri-Maz-Duur'), ('Conn', 'Coratt'), ('Doreah', 'Irri'), ('Doreah', 'Jhiqui'), ('Doreah', 'Viserys-Targaryen'), ('Illyrio-Mopatis', 'Irri'), ('Illyrio-Mopatis', 'Viserys-Targaryen'), ('Irri', 'Jhiqui'), ('Irri', 'Viserys-Targaryen'), ('Rhaegar-Targaryen', 'Viserys-Targaryen'), ('Danwell-Frey', 'Hosteen-Frey'), ('Danwell-Frey', 'Jared-Frey'), ('Hosteen-Frey', 'Jared-Frey'), ('Daryn-Hornwood', 'Torrhen-Karstark'), ('Jommo', 'Ogo'), ('Ogo', 'Fogo'), ('Galbart-Glover', 'Roose-Bolton'), ('Wyl-(guard)', 'Heward'), ('Gared', 'Will-(prologue)'), ('Jyck', 'Morrec'), ('Mace-Tyrell', 'Paxter-Redwyne')])"
      ]
     },
     "execution_count": 3,
     "metadata": {},
     "output_type": "execute_result"
    }
   ],
   "source": [
    "# see all of the edges\n",
    "g1.edges()\n"
   ]
  },
  {
   "cell_type": "code",
   "execution_count": 4,
   "metadata": {},
   "outputs": [
    {
     "data": {
      "text/plain": [
       "['Alliser-Thorne',\n",
       " 'Benjen-Stark',\n",
       " 'Bran-Stark',\n",
       " 'Bronn',\n",
       " 'Brynden-Tully',\n",
       " 'Catelyn-Stark',\n",
       " 'Cersei-Lannister',\n",
       " 'Chella',\n",
       " 'Chiggen',\n",
       " 'Conn',\n",
       " 'Eddard-Stark',\n",
       " 'Gregor-Clegane',\n",
       " 'Gunthor-son-of-Gurn',\n",
       " 'Jaime-Lannister',\n",
       " 'Jeor-Mormont',\n",
       " 'Joffrey-Baratheon',\n",
       " 'Jon-Arryn',\n",
       " 'Jon-Snow',\n",
       " 'Jyck',\n",
       " 'Kevan-Lannister',\n",
       " 'Kurleket',\n",
       " 'Leo-Lefford',\n",
       " 'Luwin',\n",
       " 'Lysa-Arryn',\n",
       " 'Marillion',\n",
       " 'Mord',\n",
       " 'Morrec',\n",
       " 'Petyr-Baelish',\n",
       " 'Renly-Baratheon',\n",
       " 'Rickon-Stark',\n",
       " 'Robb-Stark',\n",
       " 'Robert-Arryn',\n",
       " 'Robert-Baratheon',\n",
       " 'Rodrik-Cassel',\n",
       " 'Sandor-Clegane',\n",
       " 'Sansa-Stark',\n",
       " 'Shae',\n",
       " 'Shagga',\n",
       " 'Theon-Greyjoy',\n",
       " 'Timett',\n",
       " 'Tommen-Baratheon',\n",
       " 'Tywin-Lannister',\n",
       " 'Vardis-Egen',\n",
       " 'Varys',\n",
       " 'Willis-Wode',\n",
       " 'Yoren']"
      ]
     },
     "execution_count": 4,
     "metadata": {},
     "output_type": "execute_result"
    }
   ],
   "source": [
    "# find neighbors of Tyrion Lannister\n",
    "[x for x in g1.neighbors('Tyrion-Lannister')]\n"
   ]
  },
  {
   "cell_type": "code",
   "execution_count": 6,
   "metadata": {},
   "outputs": [
    {
     "data": {
      "text/plain": [
       "AtlasView({'Addam-Marbrand': {'weight': 3, 'book': 1}, 'Aerys-II-Targaryen': {'weight': 5, 'book': 1}, 'Barristan-Selmy': {'weight': 4, 'book': 1}, 'Brynden-Tully': {'weight': 7, 'book': 1}, 'Catelyn-Stark': {'weight': 9, 'book': 1}, 'Cersei-Lannister': {'weight': 16, 'book': 1}, 'Eddard-Stark': {'weight': 27, 'book': 1}, 'Edmure-Tully': {'weight': 4, 'book': 1}, 'Galbart-Glover': {'weight': 3, 'book': 1}, 'Gregor-Clegane': {'weight': 3, 'book': 1}, 'Harys-Swyft': {'weight': 3, 'book': 1}, 'Joffrey-Baratheon': {'weight': 12, 'book': 1}, 'Jon-Arryn': {'weight': 5, 'book': 1}, 'Jory-Cassel': {'weight': 4, 'book': 1}, 'Kevan-Lannister': {'weight': 4, 'book': 1}, 'Loras-Tyrell': {'weight': 3, 'book': 1}, 'Lysa-Arryn': {'weight': 6, 'book': 1}, 'Petyr-Baelish': {'weight': 7, 'book': 1}, 'Renly-Baratheon': {'weight': 4, 'book': 1}, 'Rickard-Karstark': {'weight': 3, 'book': 1}, 'Robb-Stark': {'weight': 9, 'book': 1}, 'Robert-Baratheon': {'weight': 24, 'book': 1}, 'Rodrik-Cassel': {'weight': 3, 'book': 1}, 'Sandor-Clegane': {'weight': 12, 'book': 1}, 'Sansa-Stark': {'weight': 3, 'book': 1}, 'Tyrion-Lannister': {'weight': 36, 'book': 1}, 'Tywin-Lannister': {'weight': 16, 'book': 1}, 'Varys': {'weight': 3, 'book': 1}, 'Wyl-(guard)': {'weight': 3, 'book': 1}})"
      ]
     },
     "execution_count": 6,
     "metadata": {},
     "output_type": "execute_result"
    }
   ],
   "source": [
    "g1['Jaime-Lannister']"
   ]
  },
  {
   "cell_type": "code",
   "execution_count": 7,
   "metadata": {},
   "outputs": [
    {
     "data": {
      "text/plain": [
       "{'Addam-Marbrand': 0.010752688172043012,\n",
       " 'Jaime-Lannister': 0.15591397849462366,\n",
       " 'Tywin-Lannister': 0.11827956989247312,\n",
       " 'Aegon-I-Targaryen': 0.010752688172043012,\n",
       " 'Daenerys-Targaryen': 0.11290322580645162,\n",
       " 'Eddard-Stark': 0.3548387096774194,\n",
       " 'Aemon-Targaryen-(Maester-Aemon)': 0.03763440860215054,\n",
       " 'Alliser-Thorne': 0.05376344086021506,\n",
       " 'Bowen-Marsh': 0.02688172043010753,\n",
       " 'Chett': 0.016129032258064516,\n",
       " 'Clydas': 0.005376344086021506,\n",
       " 'Jeor-Mormont': 0.06989247311827958,\n",
       " 'Jon-Snow': 0.19892473118279572,\n",
       " 'Samwell-Tarly': 0.06451612903225806,\n",
       " 'Aerys-II-Targaryen': 0.03225806451612903,\n",
       " 'Brandon-Stark': 0.03225806451612903,\n",
       " 'Gerold-Hightower': 0.02688172043010753,\n",
       " 'Jon-Arryn': 0.08064516129032259,\n",
       " 'Robert-Baratheon': 0.2688172043010753,\n",
       " 'Aggo': 0.03225806451612903,\n",
       " 'Drogo': 0.10215053763440861,\n",
       " 'Jhogo': 0.03225806451612903,\n",
       " 'Jorah-Mormont': 0.06989247311827958,\n",
       " 'Quaro': 0.02688172043010753,\n",
       " 'Rakharo': 0.02688172043010753,\n",
       " 'Albett': 0.016129032258064516,\n",
       " 'Halder': 0.043010752688172046,\n",
       " 'Rast': 0.03225806451612903,\n",
       " 'Grenn': 0.03763440860215054,\n",
       " 'Pypar': 0.03763440860215054,\n",
       " 'Tyrion-Lannister': 0.24731182795698928,\n",
       " 'Alyn': 0.02688172043010753,\n",
       " 'Harwin': 0.021505376344086023,\n",
       " 'Jory-Cassel': 0.11290322580645162,\n",
       " 'Tomard': 0.03763440860215054,\n",
       " 'Arthur-Dayne': 0.005376344086021506,\n",
       " 'Arya-Stark': 0.14516129032258066,\n",
       " 'Benjen-Stark': 0.07526881720430108,\n",
       " 'Bran-Stark': 0.17204301075268819,\n",
       " 'Catelyn-Stark': 0.23118279569892475,\n",
       " 'Cersei-Lannister': 0.16129032258064518,\n",
       " 'Desmond': 0.010752688172043012,\n",
       " 'Ilyn-Payne': 0.048387096774193554,\n",
       " 'Jeyne-Poole': 0.03225806451612903,\n",
       " 'Joffrey-Baratheon': 0.16129032258064518,\n",
       " 'Meryn-Trant': 0.048387096774193554,\n",
       " 'Mordane': 0.05913978494623656,\n",
       " 'Mycah': 0.02688172043010753,\n",
       " 'Myrcella-Baratheon': 0.03763440860215054,\n",
       " 'Petyr-Baelish': 0.13978494623655915,\n",
       " 'Rickon-Stark': 0.048387096774193554,\n",
       " 'Robb-Stark': 0.18817204301075272,\n",
       " 'Rodrik-Cassel': 0.09677419354838711,\n",
       " 'Sandor-Clegane': 0.08602150537634409,\n",
       " 'Sansa-Stark': 0.18817204301075272,\n",
       " 'Syrio-Forel': 0.016129032258064516,\n",
       " 'Tommen-Baratheon': 0.043010752688172046,\n",
       " 'Vayon-Poole': 0.02688172043010753,\n",
       " 'Yoren': 0.03763440860215054,\n",
       " 'Arys-Oakheart': 0.005376344086021506,\n",
       " 'Balon-Greyjoy': 0.010752688172043012,\n",
       " 'Balon-Swann': 0.010752688172043012,\n",
       " 'Renly-Baratheon': 0.09677419354838711,\n",
       " 'Barristan-Selmy': 0.07526881720430108,\n",
       " 'Boros-Blount': 0.02688172043010753,\n",
       " 'Pycelle': 0.07526881720430108,\n",
       " 'Varys': 0.0913978494623656,\n",
       " 'Jaremy-Rykker': 0.021505376344086023,\n",
       " 'Luwin': 0.09677419354838711,\n",
       " 'Mance-Rayder': 0.005376344086021506,\n",
       " 'Theon-Greyjoy': 0.08064516129032259,\n",
       " 'Waymar-Royce': 0.016129032258064516,\n",
       " 'Beric-Dondarrion': 0.03225806451612903,\n",
       " 'Gregor-Clegane': 0.06451612903225806,\n",
       " 'Loras-Tyrell': 0.07526881720430108,\n",
       " 'Thoros-of-Myr': 0.005376344086021506,\n",
       " 'Hali': 0.005376344086021506,\n",
       " 'Hallis-Mollen': 0.02688172043010753,\n",
       " 'Hodor': 0.021505376344086023,\n",
       " 'Hullen': 0.03225806451612903,\n",
       " 'Joseth': 0.010752688172043012,\n",
       " 'Nan': 0.021505376344086023,\n",
       " 'Osha': 0.016129032258064516,\n",
       " 'Rickard-Karstark': 0.05376344086021506,\n",
       " 'Rickard-Stark': 0.010752688172043012,\n",
       " 'Stiv': 0.010752688172043012,\n",
       " 'Lyanna-Stark': 0.021505376344086023,\n",
       " 'Bronn': 0.05376344086021506,\n",
       " 'Chiggen': 0.016129032258064516,\n",
       " 'Marillion': 0.02688172043010753,\n",
       " 'Shae': 0.010752688172043012,\n",
       " 'Shagga': 0.03225806451612903,\n",
       " 'Vardis-Egen': 0.03225806451612903,\n",
       " 'Willis-Wode': 0.03225806451612903,\n",
       " 'Brynden-Tully': 0.05913978494623656,\n",
       " 'Edmure-Tully': 0.05913978494623656,\n",
       " 'Hoster-Tully': 0.02688172043010753,\n",
       " 'Lysa-Arryn': 0.08064516129032259,\n",
       " 'Nestor-Royce': 0.010752688172043012,\n",
       " 'Walder-Frey': 0.03763440860215054,\n",
       " 'Colemon': 0.010752688172043012,\n",
       " 'Donnel-Waynwood': 0.005376344086021506,\n",
       " 'Eon-Hunter': 0.016129032258064516,\n",
       " 'Jon-Umber-(Greatjon)': 0.043010752688172046,\n",
       " 'Masha-Heddle': 0.005376344086021506,\n",
       " 'Moreo-Tumitis': 0.005376344086021506,\n",
       " 'Mya-Stone': 0.005376344086021506,\n",
       " 'Mychel-Redfort': 0.005376344086021506,\n",
       " 'Robert-Arryn': 0.016129032258064516,\n",
       " 'Stevron-Frey': 0.010752688172043012,\n",
       " 'Tytos-Blackwood': 0.016129032258064516,\n",
       " 'Wendel-Manderly': 0.010752688172043012,\n",
       " 'Cayn': 0.016129032258064516,\n",
       " 'Janos-Slynt': 0.03763440860215054,\n",
       " 'Stannis-Baratheon': 0.06451612903225806,\n",
       " 'Chella': 0.005376344086021506,\n",
       " 'Clement-Piper': 0.005376344086021506,\n",
       " 'Karyl-Vance': 0.016129032258064516,\n",
       " 'Cohollo': 0.021505376344086023,\n",
       " 'Haggo': 0.03225806451612903,\n",
       " 'Qotho': 0.03763440860215054,\n",
       " 'Conn': 0.016129032258064516,\n",
       " 'Coratt': 0.005376344086021506,\n",
       " 'Doreah': 0.03225806451612903,\n",
       " 'Eroeh': 0.005376344086021506,\n",
       " 'Illyrio-Mopatis': 0.03225806451612903,\n",
       " 'Irri': 0.043010752688172046,\n",
       " 'Jhiqui': 0.02688172043010753,\n",
       " 'Mirri-Maz-Duur': 0.03225806451612903,\n",
       " 'Rhaegar-Targaryen': 0.03763440860215054,\n",
       " 'Viserys-Targaryen': 0.043010752688172046,\n",
       " 'Danwell-Frey': 0.016129032258064516,\n",
       " 'Hosteen-Frey': 0.010752688172043012,\n",
       " 'Jared-Frey': 0.010752688172043012,\n",
       " 'Dareon': 0.005376344086021506,\n",
       " 'Daryn-Hornwood': 0.010752688172043012,\n",
       " 'Torrhen-Karstark': 0.016129032258064516,\n",
       " 'Dolf': 0.005376344086021506,\n",
       " 'Donal-Noye': 0.005376344086021506,\n",
       " 'Jommo': 0.010752688172043012,\n",
       " 'Ogo': 0.016129032258064516,\n",
       " 'Rhaego': 0.005376344086021506,\n",
       " 'Dywen': 0.005376344086021506,\n",
       " 'Galbart-Glover': 0.03225806451612903,\n",
       " 'Gendry': 0.005376344086021506,\n",
       " 'High-Septon-(fat_one)': 0.010752688172043012,\n",
       " 'Howland-Reed': 0.005376344086021506,\n",
       " 'Jacks': 0.005376344086021506,\n",
       " 'Joss': 0.005376344086021506,\n",
       " 'Marq-Piper': 0.02688172043010753,\n",
       " 'Porther': 0.005376344086021506,\n",
       " 'Raymun-Darry': 0.010752688172043012,\n",
       " 'Tobho-Mott': 0.005376344086021506,\n",
       " 'Tregar': 0.005376344086021506,\n",
       " 'Varly': 0.005376344086021506,\n",
       " 'Wyl-(guard)': 0.021505376344086023,\n",
       " 'Wylla': 0.005376344086021506,\n",
       " 'Fogo': 0.005376344086021506,\n",
       " 'Roose-Bolton': 0.02688172043010753,\n",
       " 'Gared': 0.016129032258064516,\n",
       " 'Will-(prologue)': 0.010752688172043012,\n",
       " 'Oswell-Whent': 0.005376344086021506,\n",
       " 'Todder': 0.021505376344086023,\n",
       " 'Gunthor-son-of-Gurn': 0.005376344086021506,\n",
       " 'Harys-Swyft': 0.005376344086021506,\n",
       " 'Heward': 0.010752688172043012,\n",
       " 'Hobb': 0.005376344086021506,\n",
       " 'Hugh': 0.005376344086021506,\n",
       " 'Jafer-Flowers': 0.005376344086021506,\n",
       " 'Kevan-Lannister': 0.016129032258064516,\n",
       " 'Matthar': 0.005376344086021506,\n",
       " 'Othor': 0.005376344086021506,\n",
       " 'Maege-Mormont': 0.010752688172043012,\n",
       " 'Jonos-Bracken': 0.005376344086021506,\n",
       " 'Jyck': 0.010752688172043012,\n",
       " 'Morrec': 0.010752688172043012,\n",
       " 'Kurleket': 0.005376344086021506,\n",
       " 'Lancel-Lannister': 0.005376344086021506,\n",
       " 'Leo-Lefford': 0.005376344086021506,\n",
       " 'Mace-Tyrell': 0.010752688172043012,\n",
       " 'Lyn-Corbray': 0.005376344086021506,\n",
       " 'Paxter-Redwyne': 0.005376344086021506,\n",
       " 'Maegor-I-Targaryen': 0.005376344086021506,\n",
       " 'Mord': 0.005376344086021506,\n",
       " 'Randyll-Tarly': 0.005376344086021506,\n",
       " 'Timett': 0.010752688172043012,\n",
       " 'Ulf-son-of-Umar': 0.005376344086021506}"
      ]
     },
     "execution_count": 7,
     "metadata": {},
     "output_type": "execute_result"
    }
   ],
   "source": [
    "# degree centrality\n",
    "nx.degree_centrality(g1)"
   ]
  },
  {
   "cell_type": "code",
   "execution_count": 8,
   "metadata": {},
   "outputs": [
    {
     "data": {
      "text/plain": [
       "{'Addam-Marbrand': 0.0,\n",
       " 'Jaime-Lannister': 0.0320095542681723,\n",
       " 'Tywin-Lannister': 0.026190475931508066,\n",
       " 'Aegon-I-Targaryen': 0.0,\n",
       " 'Daenerys-Targaryen': 0.08627015537511595,\n",
       " 'Eddard-Stark': 0.2696038913836117,\n",
       " 'Aemon-Targaryen-(Maester-Aemon)': 0.010844715683425361,\n",
       " 'Alliser-Thorne': 0.005026701469957172,\n",
       " 'Bowen-Marsh': 0.0,\n",
       " 'Chett': 0.0,\n",
       " 'Clydas': 0.0,\n",
       " 'Jeor-Mormont': 0.028345621007255038,\n",
       " 'Jon-Snow': 0.17158135899829566,\n",
       " 'Samwell-Tarly': 0.014449634885820021,\n",
       " 'Aerys-II-Targaryen': 0.00048173749786653005,\n",
       " 'Brandon-Stark': 0.002080261918971597,\n",
       " 'Gerold-Hightower': 0.02144725370531822,\n",
       " 'Jon-Arryn': 0.012525043642810938,\n",
       " 'Robert-Baratheon': 0.21403028397371796,\n",
       " 'Aggo': 7.265329845975008e-05,\n",
       " 'Drogo': 0.06481224290874964,\n",
       " 'Jhogo': 4.359197907585004e-05,\n",
       " 'Jorah-Mormont': 0.012611106728154204,\n",
       " 'Quaro': 2.906131938390003e-05,\n",
       " 'Rakharo': 3.390487261455003e-05,\n",
       " 'Albett': 0.0,\n",
       " 'Halder': 0.0002102102102102102,\n",
       " 'Rast': 7.749685169040008e-05,\n",
       " 'Grenn': 0.0002024605250411702,\n",
       " 'Pypar': 7.459071975201007e-05,\n",
       " 'Tyrion-Lannister': 0.1902124972697492,\n",
       " 'Alyn': 0.0003145710264731398,\n",
       " 'Harwin': 0.0003166711322941555,\n",
       " 'Jory-Cassel': 0.01752453849363612,\n",
       " 'Tomard': 0.0002966978204169855,\n",
       " 'Arthur-Dayne': 0.0,\n",
       " 'Arya-Stark': 0.017495289470929955,\n",
       " 'Benjen-Stark': 0.03293306050027417,\n",
       " 'Bran-Stark': 0.05579958811784442,\n",
       " 'Catelyn-Stark': 0.1513952715347627,\n",
       " 'Cersei-Lannister': 0.026434677939526103,\n",
       " 'Desmond': 0.0,\n",
       " 'Ilyn-Payne': 0.0003199575146182485,\n",
       " 'Jeyne-Poole': 6.109796432377078e-05,\n",
       " 'Joffrey-Baratheon': 0.018949350296839806,\n",
       " 'Meryn-Trant': 0.0006984119660127081,\n",
       " 'Mordane': 0.0010561655570225142,\n",
       " 'Mycah': 0.0,\n",
       " 'Myrcella-Baratheon': 2.8230995972931453e-05,\n",
       " 'Petyr-Baelish': 0.009436743202985242,\n",
       " 'Rickon-Stark': 8.984632696126533e-05,\n",
       " 'Robb-Stark': 0.07298399629664767,\n",
       " 'Rodrik-Cassel': 0.00963397409313393,\n",
       " 'Sandor-Clegane': 0.006237666841098885,\n",
       " 'Sansa-Stark': 0.03714483664326785,\n",
       " 'Syrio-Forel': 0.00012300558547174553,\n",
       " 'Tommen-Baratheon': 0.000554548184780281,\n",
       " 'Vayon-Poole': 0.0,\n",
       " 'Yoren': 0.00021138387522088702,\n",
       " 'Arys-Oakheart': 0.0,\n",
       " 'Balon-Greyjoy': 0.0,\n",
       " 'Balon-Swann': 0.0,\n",
       " 'Renly-Baratheon': 0.009635188708026638,\n",
       " 'Barristan-Selmy': 0.0012358894598099792,\n",
       " 'Boros-Blount': 0.0,\n",
       " 'Pycelle': 0.0003210706351837933,\n",
       " 'Varys': 0.010794552272183802,\n",
       " 'Jaremy-Rykker': 0.01075268817204301,\n",
       " 'Luwin': 0.013182650228125651,\n",
       " 'Mance-Rayder': 0.0,\n",
       " 'Theon-Greyjoy': 0.00980833131274694,\n",
       " 'Waymar-Royce': 0.006708358729333187,\n",
       " 'Beric-Dondarrion': 0.01075268817204301,\n",
       " 'Gregor-Clegane': 0.002923862955280991,\n",
       " 'Loras-Tyrell': 0.022409577164998796,\n",
       " 'Thoros-of-Myr': 0.0,\n",
       " 'Hali': 0.0,\n",
       " 'Hallis-Mollen': 0.0,\n",
       " 'Hodor': 0.0,\n",
       " 'Hullen': 0.0004513970364915859,\n",
       " 'Joseth': 0.0,\n",
       " 'Nan': 0.0,\n",
       " 'Osha': 0.0,\n",
       " 'Rickard-Karstark': 0.009473682089536549,\n",
       " 'Rickard-Stark': 8.86701693153306e-05,\n",
       " 'Stiv': 0.0,\n",
       " 'Lyanna-Stark': 3.321293643874289e-05,\n",
       " 'Bronn': 0.004124576359910305,\n",
       " 'Chiggen': 0.0,\n",
       " 'Marillion': 0.0,\n",
       " 'Shae': 0.0,\n",
       " 'Shagga': 0.02159256030223772,\n",
       " 'Vardis-Egen': 0.0011877067734453138,\n",
       " 'Willis-Wode': 0.00038763506505441997,\n",
       " 'Brynden-Tully': 0.00383234320543726,\n",
       " 'Edmure-Tully': 0.01963307983379491,\n",
       " 'Hoster-Tully': 0.0003909562718491462,\n",
       " 'Lysa-Arryn': 0.01821323157123013,\n",
       " 'Nestor-Royce': 0.0,\n",
       " 'Walder-Frey': 0.032338618467650716,\n",
       " 'Colemon': 0.0,\n",
       " 'Donnel-Waynwood': 0.0,\n",
       " 'Eon-Hunter': 0.0,\n",
       " 'Jon-Umber-(Greatjon)': 0.0033242714657788115,\n",
       " 'Masha-Heddle': 0.0,\n",
       " 'Moreo-Tumitis': 0.0,\n",
       " 'Mya-Stone': 0.0,\n",
       " 'Mychel-Redfort': 0.0,\n",
       " 'Robert-Arryn': 0.0,\n",
       " 'Stevron-Frey': 0.0,\n",
       " 'Tytos-Blackwood': 0.01075268817204301,\n",
       " 'Wendel-Manderly': 0.0,\n",
       " 'Cayn': 2.179598953792502e-05,\n",
       " 'Janos-Slynt': 0.0,\n",
       " 'Stannis-Baratheon': 0.0004430380168891369,\n",
       " 'Chella': 0.0,\n",
       " 'Clement-Piper': 0.0,\n",
       " 'Karyl-Vance': 0.01075268817204301,\n",
       " 'Cohollo': 0.0,\n",
       " 'Haggo': 6.780974522910006e-05,\n",
       " 'Qotho': 0.00011624527753560009,\n",
       " 'Conn': 0.01075268817204301,\n",
       " 'Coratt': 0.0,\n",
       " 'Doreah': 1.1624527753560013e-05,\n",
       " 'Eroeh': 0.0,\n",
       " 'Illyrio-Mopatis': 0.0011992863048539452,\n",
       " 'Irri': 9.590235396687009e-05,\n",
       " 'Jhiqui': 0.0,\n",
       " 'Mirri-Maz-Duur': 4.8435532306500046e-05,\n",
       " 'Rhaegar-Targaryen': 0.0028204821920682827,\n",
       " 'Viserys-Targaryen': 0.002857503691485831,\n",
       " 'Danwell-Frey': 0.02138913106655042,\n",
       " 'Hosteen-Frey': 0.0,\n",
       " 'Jared-Frey': 0.0,\n",
       " 'Dareon': 0.0,\n",
       " 'Daryn-Hornwood': 0.0,\n",
       " 'Torrhen-Karstark': 0.00027229994971930455,\n",
       " 'Dolf': 0.0,\n",
       " 'Donal-Noye': 0.0,\n",
       " 'Jommo': 0.0,\n",
       " 'Ogo': 0.01075268817204301,\n",
       " 'Rhaego': 0.0,\n",
       " 'Dywen': 0.0,\n",
       " 'Galbart-Glover': 0.0008706693487442282,\n",
       " 'Gendry': 0.0,\n",
       " 'High-Septon-(fat_one)': 0.0,\n",
       " 'Howland-Reed': 0.0,\n",
       " 'Jacks': 0.0,\n",
       " 'Joss': 0.0,\n",
       " 'Marq-Piper': 0.0062369436762998,\n",
       " 'Porther': 0.0,\n",
       " 'Raymun-Darry': 0.0,\n",
       " 'Tobho-Mott': 0.0,\n",
       " 'Tregar': 0.0,\n",
       " 'Varly': 0.0,\n",
       " 'Wyl-(guard)': 0.0016301901690895994,\n",
       " 'Wylla': 0.0,\n",
       " 'Fogo': 0.0,\n",
       " 'Roose-Bolton': 2.4944299137847526e-05,\n",
       " 'Gared': 0.004328212613689769,\n",
       " 'Will-(prologue)': 0.0,\n",
       " 'Oswell-Whent': 0.0,\n",
       " 'Todder': 0.0,\n",
       " 'Gunthor-son-of-Gurn': 0.0,\n",
       " 'Harys-Swyft': 0.0,\n",
       " 'Heward': 0.0,\n",
       " 'Hobb': 0.0,\n",
       " 'Hugh': 0.0,\n",
       " 'Jafer-Flowers': 0.0,\n",
       " 'Kevan-Lannister': 0.0,\n",
       " 'Matthar': 0.0,\n",
       " 'Othor': 0.0,\n",
       " 'Maege-Mormont': 0.0,\n",
       " 'Jonos-Bracken': 0.0,\n",
       " 'Jyck': 0.0,\n",
       " 'Morrec': 0.0,\n",
       " 'Kurleket': 0.0,\n",
       " 'Lancel-Lannister': 0.0,\n",
       " 'Leo-Lefford': 0.0,\n",
       " 'Mace-Tyrell': 0.01075268817204301,\n",
       " 'Lyn-Corbray': 0.0,\n",
       " 'Paxter-Redwyne': 0.0,\n",
       " 'Maegor-I-Targaryen': 0.0,\n",
       " 'Mord': 0.0,\n",
       " 'Randyll-Tarly': 0.0,\n",
       " 'Timett': 0.0,\n",
       " 'Ulf-son-of-Umar': 0.0}"
      ]
     },
     "execution_count": 8,
     "metadata": {},
     "output_type": "execute_result"
    }
   ],
   "source": [
    "# betweenness centrality (weighted and unweighted)\n",
    "nx.betweenness_centrality(g1)"
   ]
  },
  {
   "cell_type": "markdown",
   "metadata": {},
   "source": [
    "# Common Applications of Networks\n",
    "\n",
    "1. Community Detection (Clustering)\n",
    "2. Recommendation Engines"
   ]
  },
  {
   "cell_type": "markdown",
   "metadata": {},
   "source": [
    "## Community Detection\n",
    "### Cliques\n",
    "<img src =\"./resources/clique_mean_girls.jpg\">\n",
    "\n",
    "\n",
    "## Not this ^^^\n",
    "\n",
    "---\n",
    "\n",
    "#### Clique: a subset of vertices in an undirected graph, such that every pair of vertices are adjacent to one another\n",
    "* Maximal Clique: a clique that, if an additional vertex was added, would no longer be a clique\n",
    "* Maximum Clique: the largest clique (and by definition a maximal clique)"
   ]
  },
  {
   "cell_type": "markdown",
   "metadata": {},
   "source": [
    "How many maximal cliques are there in the diagram below? What is the maximum clique?"
   ]
  },
  {
   "cell_type": "markdown",
   "metadata": {},
   "source": [
    "<img src = \"./resources/too_many_cliques.png\">\n",
    "\n",
    "How could we create a simple recommendation system from a clique?"
   ]
  },
  {
   "cell_type": "markdown",
   "metadata": {},
   "source": [
    "\n",
    "### Clustering Techniques\n",
    "\n",
    "If we want to find nodes that are clustered together, take a look at common techniques \n",
    "\n",
    "#### k-clique community clustering algorithm\n",
    "\n"
   ]
  },
  {
   "cell_type": "markdown",
   "metadata": {},
   "source": [
    "<img src = \"./resources/k_clique_clustering.png\">"
   ]
  },
  {
   "cell_type": "markdown",
   "metadata": {},
   "source": [
    "How many clusters are in this picture here?"
   ]
  },
  {
   "cell_type": "markdown",
   "metadata": {},
   "source": [
    "###  Girvan-Newman clustering algorithm\n",
    "   1. The betweenness of all existing edges in the network is calculated first.\n",
    "   2. The edge with the highest betweenness is removed.\n",
    "   3. The betweenness of all edges affected by the removal is recalculated.\n",
    "   4. Steps 2 and 3 are repeated until no edges remain.\n",
    "    \n",
    "    \n",
    "#### What does this remind you of?\n"
   ]
  },
  {
   "cell_type": "markdown",
   "metadata": {},
   "source": [
    "<img src =\"./resources/gn.jpg\">\n",
    "\n",
    "#### Let's see which works better with the GOT network:"
   ]
  },
  {
   "cell_type": "code",
   "execution_count": 9,
   "metadata": {},
   "outputs": [
    {
     "data": {
      "text/plain": [
       "{0: frozenset({'Addam-Marbrand',\n",
       "            'Aegon-I-Targaryen',\n",
       "            'Aemon-Targaryen-(Maester-Aemon)',\n",
       "            'Aerys-II-Targaryen',\n",
       "            'Aggo',\n",
       "            'Albett',\n",
       "            'Alliser-Thorne',\n",
       "            'Alyn',\n",
       "            'Arya-Stark',\n",
       "            'Balon-Greyjoy',\n",
       "            'Balon-Swann',\n",
       "            'Barristan-Selmy',\n",
       "            'Benjen-Stark',\n",
       "            'Beric-Dondarrion',\n",
       "            'Boros-Blount',\n",
       "            'Bowen-Marsh',\n",
       "            'Bran-Stark',\n",
       "            'Brandon-Stark',\n",
       "            'Bronn',\n",
       "            'Brynden-Tully',\n",
       "            'Catelyn-Stark',\n",
       "            'Cayn',\n",
       "            'Cersei-Lannister',\n",
       "            'Chett',\n",
       "            'Chiggen',\n",
       "            'Cohollo',\n",
       "            'Colemon',\n",
       "            'Conn',\n",
       "            'Daenerys-Targaryen',\n",
       "            'Daryn-Hornwood',\n",
       "            'Desmond',\n",
       "            'Doreah',\n",
       "            'Drogo',\n",
       "            'Eddard-Stark',\n",
       "            'Edmure-Tully',\n",
       "            'Eon-Hunter',\n",
       "            'Galbart-Glover',\n",
       "            'Gerold-Hightower',\n",
       "            'Gregor-Clegane',\n",
       "            'Grenn',\n",
       "            'Haggo',\n",
       "            'Halder',\n",
       "            'Hallis-Mollen',\n",
       "            'Harwin',\n",
       "            'Heward',\n",
       "            'High-Septon-(fat_one)',\n",
       "            'Hodor',\n",
       "            'Hoster-Tully',\n",
       "            'Hullen',\n",
       "            'Illyrio-Mopatis',\n",
       "            'Ilyn-Payne',\n",
       "            'Irri',\n",
       "            'Jaime-Lannister',\n",
       "            'Janos-Slynt',\n",
       "            'Jaremy-Rykker',\n",
       "            'Jeor-Mormont',\n",
       "            'Jeyne-Poole',\n",
       "            'Jhiqui',\n",
       "            'Jhogo',\n",
       "            'Joffrey-Baratheon',\n",
       "            'Jon-Arryn',\n",
       "            'Jon-Snow',\n",
       "            'Jon-Umber-(Greatjon)',\n",
       "            'Jorah-Mormont',\n",
       "            'Jory-Cassel',\n",
       "            'Joseth',\n",
       "            'Karyl-Vance',\n",
       "            'Kevan-Lannister',\n",
       "            'Loras-Tyrell',\n",
       "            'Luwin',\n",
       "            'Lyanna-Stark',\n",
       "            'Lysa-Arryn',\n",
       "            'Maege-Mormont',\n",
       "            'Marillion',\n",
       "            'Marq-Piper',\n",
       "            'Meryn-Trant',\n",
       "            'Mirri-Maz-Duur',\n",
       "            'Mordane',\n",
       "            'Mycah',\n",
       "            'Myrcella-Baratheon',\n",
       "            'Nan',\n",
       "            'Nestor-Royce',\n",
       "            'Osha',\n",
       "            'Petyr-Baelish',\n",
       "            'Pycelle',\n",
       "            'Pypar',\n",
       "            'Qotho',\n",
       "            'Quaro',\n",
       "            'Rakharo',\n",
       "            'Rast',\n",
       "            'Raymun-Darry',\n",
       "            'Renly-Baratheon',\n",
       "            'Rhaegar-Targaryen',\n",
       "            'Rickard-Karstark',\n",
       "            'Rickon-Stark',\n",
       "            'Robb-Stark',\n",
       "            'Robert-Arryn',\n",
       "            'Robert-Baratheon',\n",
       "            'Rodrik-Cassel',\n",
       "            'Roose-Bolton',\n",
       "            'Samwell-Tarly',\n",
       "            'Sandor-Clegane',\n",
       "            'Sansa-Stark',\n",
       "            'Shae',\n",
       "            'Shagga',\n",
       "            'Stannis-Baratheon',\n",
       "            'Stevron-Frey',\n",
       "            'Stiv',\n",
       "            'Syrio-Forel',\n",
       "            'Theon-Greyjoy',\n",
       "            'Timett',\n",
       "            'Todder',\n",
       "            'Tomard',\n",
       "            'Tommen-Baratheon',\n",
       "            'Torrhen-Karstark',\n",
       "            'Tyrion-Lannister',\n",
       "            'Tytos-Blackwood',\n",
       "            'Tywin-Lannister',\n",
       "            'Vardis-Egen',\n",
       "            'Varys',\n",
       "            'Vayon-Poole',\n",
       "            'Viserys-Targaryen',\n",
       "            'Walder-Frey',\n",
       "            'Wendel-Manderly',\n",
       "            'Willis-Wode',\n",
       "            'Wyl-(guard)',\n",
       "            'Yoren'}),\n",
       " 1: frozenset({'Gared', 'Waymar-Royce', 'Will-(prologue)'}),\n",
       " 2: frozenset({'Jyck', 'Morrec', 'Tyrion-Lannister'}),\n",
       " 3: frozenset({'Drogo', 'Jommo', 'Ogo'}),\n",
       " 4: frozenset({'Danwell-Frey', 'Hosteen-Frey', 'Jared-Frey'})}"
      ]
     },
     "execution_count": 9,
     "metadata": {},
     "output_type": "execute_result"
    }
   ],
   "source": [
    "### Code Examples from GOT\n",
    "from networkx.algorithms.community import k_clique_communities\n",
    "k_clique = k_clique_communities(g1,3)\n",
    "dict(enumerate(k_clique))"
   ]
  },
  {
   "cell_type": "code",
   "execution_count": 10,
   "metadata": {},
   "outputs": [
    {
     "data": {
      "text/plain": [
       "{0: ['Addam-Marbrand',\n",
       "  'Aemon-Targaryen-(Maester-Aemon)',\n",
       "  'Aerys-II-Targaryen',\n",
       "  'Albett',\n",
       "  'Alliser-Thorne',\n",
       "  'Alyn',\n",
       "  'Arthur-Dayne',\n",
       "  'Arya-Stark',\n",
       "  'Arys-Oakheart',\n",
       "  'Balon-Greyjoy',\n",
       "  'Balon-Swann',\n",
       "  'Barristan-Selmy',\n",
       "  'Benjen-Stark',\n",
       "  'Beric-Dondarrion',\n",
       "  'Boros-Blount',\n",
       "  'Bowen-Marsh',\n",
       "  'Bran-Stark',\n",
       "  'Brandon-Stark',\n",
       "  'Bronn',\n",
       "  'Brynden-Tully',\n",
       "  'Catelyn-Stark',\n",
       "  'Cayn',\n",
       "  'Cersei-Lannister',\n",
       "  'Chella',\n",
       "  'Chett',\n",
       "  'Chiggen',\n",
       "  'Clement-Piper',\n",
       "  'Clydas',\n",
       "  'Colemon',\n",
       "  'Conn',\n",
       "  'Coratt',\n",
       "  'Danwell-Frey',\n",
       "  'Dareon',\n",
       "  'Daryn-Hornwood',\n",
       "  'Desmond',\n",
       "  'Dolf',\n",
       "  'Donal-Noye',\n",
       "  'Donnel-Waynwood',\n",
       "  'Dywen',\n",
       "  'Eddard-Stark',\n",
       "  'Edmure-Tully',\n",
       "  'Eon-Hunter',\n",
       "  'Galbart-Glover',\n",
       "  'Gared',\n",
       "  'Gendry',\n",
       "  'Gerold-Hightower',\n",
       "  'Gregor-Clegane',\n",
       "  'Grenn',\n",
       "  'Gunthor-son-of-Gurn',\n",
       "  'Halder',\n",
       "  'Hali',\n",
       "  'Hallis-Mollen',\n",
       "  'Harwin',\n",
       "  'Harys-Swyft',\n",
       "  'Heward',\n",
       "  'High-Septon-(fat_one)',\n",
       "  'Hobb',\n",
       "  'Hodor',\n",
       "  'Hosteen-Frey',\n",
       "  'Hoster-Tully',\n",
       "  'Howland-Reed',\n",
       "  'Hugh',\n",
       "  'Hullen',\n",
       "  'Ilyn-Payne',\n",
       "  'Jacks',\n",
       "  'Jafer-Flowers',\n",
       "  'Jaime-Lannister',\n",
       "  'Janos-Slynt',\n",
       "  'Jared-Frey',\n",
       "  'Jaremy-Rykker',\n",
       "  'Jeor-Mormont',\n",
       "  'Jeyne-Poole',\n",
       "  'Joffrey-Baratheon',\n",
       "  'Jon-Arryn',\n",
       "  'Jon-Snow',\n",
       "  'Jon-Umber-(Greatjon)',\n",
       "  'Jonos-Bracken',\n",
       "  'Jory-Cassel',\n",
       "  'Joseth',\n",
       "  'Joss',\n",
       "  'Jyck',\n",
       "  'Karyl-Vance',\n",
       "  'Kevan-Lannister',\n",
       "  'Kurleket',\n",
       "  'Lancel-Lannister',\n",
       "  'Leo-Lefford',\n",
       "  'Loras-Tyrell',\n",
       "  'Luwin',\n",
       "  'Lyanna-Stark',\n",
       "  'Lyn-Corbray',\n",
       "  'Lysa-Arryn',\n",
       "  'Mace-Tyrell',\n",
       "  'Maege-Mormont',\n",
       "  'Maegor-I-Targaryen',\n",
       "  'Mance-Rayder',\n",
       "  'Marillion',\n",
       "  'Marq-Piper',\n",
       "  'Masha-Heddle',\n",
       "  'Matthar',\n",
       "  'Meryn-Trant',\n",
       "  'Mord',\n",
       "  'Mordane',\n",
       "  'Moreo-Tumitis',\n",
       "  'Morrec',\n",
       "  'Mya-Stone',\n",
       "  'Mycah',\n",
       "  'Mychel-Redfort',\n",
       "  'Myrcella-Baratheon',\n",
       "  'Nan',\n",
       "  'Nestor-Royce',\n",
       "  'Osha',\n",
       "  'Oswell-Whent',\n",
       "  'Othor',\n",
       "  'Paxter-Redwyne',\n",
       "  'Petyr-Baelish',\n",
       "  'Porther',\n",
       "  'Pycelle',\n",
       "  'Pypar',\n",
       "  'Randyll-Tarly',\n",
       "  'Rast',\n",
       "  'Raymun-Darry',\n",
       "  'Renly-Baratheon',\n",
       "  'Rhaegar-Targaryen',\n",
       "  'Rickard-Karstark',\n",
       "  'Rickard-Stark',\n",
       "  'Rickon-Stark',\n",
       "  'Robb-Stark',\n",
       "  'Robert-Arryn',\n",
       "  'Robert-Baratheon',\n",
       "  'Rodrik-Cassel',\n",
       "  'Roose-Bolton',\n",
       "  'Samwell-Tarly',\n",
       "  'Sandor-Clegane',\n",
       "  'Sansa-Stark',\n",
       "  'Shae',\n",
       "  'Shagga',\n",
       "  'Stannis-Baratheon',\n",
       "  'Stevron-Frey',\n",
       "  'Stiv',\n",
       "  'Syrio-Forel',\n",
       "  'Theon-Greyjoy',\n",
       "  'Thoros-of-Myr',\n",
       "  'Timett',\n",
       "  'Tobho-Mott',\n",
       "  'Todder',\n",
       "  'Tomard',\n",
       "  'Tommen-Baratheon',\n",
       "  'Torrhen-Karstark',\n",
       "  'Tregar',\n",
       "  'Tyrion-Lannister',\n",
       "  'Tytos-Blackwood',\n",
       "  'Tywin-Lannister',\n",
       "  'Ulf-son-of-Umar',\n",
       "  'Vardis-Egen',\n",
       "  'Varly',\n",
       "  'Varys',\n",
       "  'Vayon-Poole',\n",
       "  'Walder-Frey',\n",
       "  'Waymar-Royce',\n",
       "  'Wendel-Manderly',\n",
       "  'Will-(prologue)',\n",
       "  'Willis-Wode',\n",
       "  'Wyl-(guard)',\n",
       "  'Wylla',\n",
       "  'Yoren'],\n",
       " 1: ['Aegon-I-Targaryen',\n",
       "  'Aggo',\n",
       "  'Cohollo',\n",
       "  'Daenerys-Targaryen',\n",
       "  'Doreah',\n",
       "  'Drogo',\n",
       "  'Eroeh',\n",
       "  'Fogo',\n",
       "  'Haggo',\n",
       "  'Illyrio-Mopatis',\n",
       "  'Irri',\n",
       "  'Jhiqui',\n",
       "  'Jhogo',\n",
       "  'Jommo',\n",
       "  'Jorah-Mormont',\n",
       "  'Mirri-Maz-Duur',\n",
       "  'Ogo',\n",
       "  'Qotho',\n",
       "  'Quaro',\n",
       "  'Rakharo',\n",
       "  'Rhaego',\n",
       "  'Viserys-Targaryen']}"
      ]
     },
     "execution_count": 10,
     "metadata": {},
     "output_type": "execute_result"
    }
   ],
   "source": [
    "from networkx.algorithms.community import girvan_newman\n",
    "community = girvan_newman(g1)\n",
    "comm_iter1 = tuple(sorted(c) for c in next(community))\n",
    "dict(enumerate(comm_iter1))\n"
   ]
  },
  {
   "cell_type": "markdown",
   "metadata": {},
   "source": [
    "Evaluating network clustering algorithms (https://journals.plos.org/plosone/article/file?id=10.1371/journal.pone.0159161&type=printable)"
   ]
  },
  {
   "cell_type": "markdown",
   "metadata": {},
   "source": [
    "## Recommendations\n",
    "\n",
    "####  Ego Network: A subset of a graph composed of a central node (ego) and all of the nodes the ego is connected to (alters)  \n",
    "\n",
    "A simple recommendation system is: given an ego node, recommend items that are contained with its ego network\n",
    "\n",
    "<img src = \"./resources/egonet3.jpg\">\n",
    "This could yield a lot of results! How might we create more precise recommendations?\n",
    "\n",
    "http://www.steveborgatti.com/papers/egobet.pdf"
   ]
  },
  {
   "cell_type": "code",
   "execution_count": 11,
   "metadata": {},
   "outputs": [
    {
     "ename": "FileNotFoundError",
     "evalue": "[Errno 2] No such file or directory: './resources/books_meta.txt'",
     "output_type": "error",
     "traceback": [
      "\u001b[0;31m---------------------------------------------------------------------------\u001b[0m",
      "\u001b[0;31mFileNotFoundError\u001b[0m                         Traceback (most recent call last)",
      "\u001b[0;32m<ipython-input-11-ffa892c6cec6>\u001b[0m in \u001b[0;36m<module>\u001b[0;34m\u001b[0m\n\u001b[1;32m      1\u001b[0m fhr = open('./resources/books_meta.txt', 'r',\n\u001b[0;32m----> 2\u001b[0;31m            encoding='utf-8', errors='ignore')\n\u001b[0m\u001b[1;32m      3\u001b[0m \u001b[0mbooks_meta_dict\u001b[0m \u001b[0;34m=\u001b[0m \u001b[0;34m{\u001b[0m\u001b[0;34m}\u001b[0m\u001b[0;34m\u001b[0m\u001b[0;34m\u001b[0m\u001b[0m\n\u001b[1;32m      4\u001b[0m \u001b[0mfhr\u001b[0m\u001b[0;34m.\u001b[0m\u001b[0mreadline\u001b[0m\u001b[0;34m(\u001b[0m\u001b[0;34m)\u001b[0m\u001b[0;34m\u001b[0m\u001b[0;34m\u001b[0m\u001b[0m\n\u001b[1;32m      5\u001b[0m \u001b[0;34m\u001b[0m\u001b[0m\n",
      "\u001b[0;31mFileNotFoundError\u001b[0m: [Errno 2] No such file or directory: './resources/books_meta.txt'"
     ]
    }
   ],
   "source": [
    "fhr = open('./resources/books_meta.txt', 'r',\n",
    "           encoding='utf-8', errors='ignore')\n",
    "books_meta_dict = {}\n",
    "fhr.readline()\n",
    "\n",
    "# Parse data from each ASIN entry\n",
    "for record in fhr:\n",
    "\n",
    "    # Split the record attributes on TAB\n",
    "    attr = record.split('\\t')\n",
    "\n",
    "    # Create a meta dictionary\n",
    "    meta = {}\n",
    "\n",
    "    # Read the attributes into key = ASIN , value= meta - where meta is a dictionary of attributes (except ASIN)\n",
    "    meta['Id'] = attr[0].strip()\n",
    "    ASIN = attr[1].strip()\n",
    "    meta['Title'] = attr[2].strip()\n",
    "    meta['Categories'] = attr[3].strip()\n",
    "    meta['Group'] = attr[4].strip()\n",
    "\n",
    "    # Convert numeric data to integers and floats accordingly\n",
    "    meta['SalesRank'] = int(attr[5].strip())\n",
    "    meta['TotalReviews'] = int(attr[6].strip())\n",
    "    meta['AvgRating'] = float(attr[7].strip())\n",
    "    meta['DegreeCentrality'] = int(attr[8].strip())\n",
    "    meta['ClusteringCoeff'] = float(attr[9].strip())\n",
    "\n",
    "    # Write metadata as value with key ASIN\n",
    "    books_meta_dict[ASIN] = meta\n",
    "\n",
    "# Close the file reader\n",
    "fhr.close()\n",
    "len(books_meta_dict)"
   ]
  },
  {
   "cell_type": "code",
   "execution_count": 12,
   "metadata": {},
   "outputs": [
    {
     "name": "stdout",
     "output_type": "stream",
     "text": [
      "Name: \n",
      "Type: Graph\n",
      "Number of nodes: 270347\n",
      "Number of edges: 741124\n",
      "Average degree:   5.4828\n"
     ]
    }
   ],
   "source": [
    "file = open(\"./resources/books_data.edgelist\", 'rb')\n",
    "books_copurchase = nx.read_weighted_edgelist(file)\n",
    "file.close()\n",
    "print(nx.info(books_copurchase))"
   ]
  },
  {
   "cell_type": "code",
   "execution_count": 13,
   "metadata": {},
   "outputs": [
    {
     "name": "stdout",
     "output_type": "stream",
     "text": [
      "Your Purchased Book\n",
      "-----------------\n"
     ]
    },
    {
     "ename": "NameError",
     "evalue": "name 'books_meta_dict' is not defined",
     "output_type": "error",
     "traceback": [
      "\u001b[0;31m---------------------------------------------------------------------------\u001b[0m",
      "\u001b[0;31mNameError\u001b[0m                                 Traceback (most recent call last)",
      "\u001b[0;32m<ipython-input-13-4a9a0598704f>\u001b[0m in \u001b[0;36m<module>\u001b[0;34m\u001b[0m\n\u001b[1;32m      5\u001b[0m \u001b[0;31m# Print out the features associates with the book\u001b[0m\u001b[0;34m\u001b[0m\u001b[0;34m\u001b[0m\u001b[0;34m\u001b[0m\u001b[0m\n\u001b[1;32m      6\u001b[0m \u001b[0;34m\u001b[0m\u001b[0m\n\u001b[0;32m----> 7\u001b[0;31m \u001b[0mprint\u001b[0m\u001b[0;34m(\u001b[0m\u001b[0;34m\"\\nTitle = \"\u001b[0m\u001b[0;34m,\u001b[0m \u001b[0mbooks_meta_dict\u001b[0m\u001b[0;34m[\u001b[0m\u001b[0masin\u001b[0m\u001b[0;34m]\u001b[0m\u001b[0;34m[\u001b[0m\u001b[0;34m'Title'\u001b[0m\u001b[0;34m]\u001b[0m\u001b[0;34m)\u001b[0m\u001b[0;34m\u001b[0m\u001b[0;34m\u001b[0m\u001b[0m\n\u001b[0m\u001b[1;32m      8\u001b[0m \u001b[0mprint\u001b[0m\u001b[0;34m(\u001b[0m\u001b[0;34m\"ASIN = \"\u001b[0m\u001b[0;34m,\u001b[0m \u001b[0masin\u001b[0m\u001b[0;34m)\u001b[0m\u001b[0;34m\u001b[0m\u001b[0;34m\u001b[0m\u001b[0m\n\u001b[1;32m      9\u001b[0m \u001b[0mprint\u001b[0m\u001b[0;34m(\u001b[0m\u001b[0;34m\"SalesRank = \"\u001b[0m\u001b[0;34m,\u001b[0m \u001b[0mbooks_meta_dict\u001b[0m\u001b[0;34m[\u001b[0m\u001b[0masin\u001b[0m\u001b[0;34m]\u001b[0m\u001b[0;34m[\u001b[0m\u001b[0;34m'SalesRank'\u001b[0m\u001b[0;34m]\u001b[0m\u001b[0;34m)\u001b[0m\u001b[0;34m\u001b[0m\u001b[0;34m\u001b[0m\u001b[0m\n",
      "\u001b[0;31mNameError\u001b[0m: name 'books_meta_dict' is not defined"
     ]
    }
   ],
   "source": [
    "print(\"Your Purchased Book\")\n",
    "print(\"-----------------\")\n",
    "asin = '0873376129'\n",
    "\n",
    "# Print out the features associates with the book\n",
    "\n",
    "print(\"\\nTitle = \", books_meta_dict[asin]['Title'])\n",
    "print(\"ASIN = \", asin)\n",
    "print(\"SalesRank = \", books_meta_dict[asin]['SalesRank'])\n",
    "print(\"TotalReviews = \", books_meta_dict[asin]['TotalReviews'])\n",
    "print(\"AvgRating = \", books_meta_dict[asin]['AvgRating'])\n",
    "print(\"DegreeCentrality = \", books_meta_dict[asin]['DegreeCentrality'])\n",
    "print(\"ClusteringCoeff = \", books_meta_dict[asin]['ClusteringCoeff'])"
   ]
  },
  {
   "cell_type": "code",
   "execution_count": null,
   "metadata": {},
   "outputs": [],
   "source": [
    "ego = nx.ego_graph(books_copurchase, asin, radius=1)\n",
    "print(f\"Ego Network for {books_meta_dict[asin]['Title']}\",\n",
    "      f\"Nodes = {ego.number_of_nodes()}\",\n",
    "      f\"Edges = {ego.number_of_edges()}\",\n",
    "      sep='\\n')"
   ]
  },
  {
   "cell_type": "code",
   "execution_count": null,
   "metadata": {},
   "outputs": [],
   "source": [
    "# Draw the ego network\n",
    "nx.draw(ego, with_labels=True)"
   ]
  },
  {
   "cell_type": "code",
   "execution_count": null,
   "metadata": {},
   "outputs": [],
   "source": [
    "# Create empty graph instance `trimmed_ego_net` using the `nx.Graph()`to represent the trimmed network\n",
    "threshold = 0.5\n",
    "trimmed_ego = nx.Graph()\n",
    "\n",
    "# Iterate through the network, comparing each weight with threshold\n",
    "for node1, node2, edge in ego.edges(data=True):\n",
    "    if edge['weight'] >= threshold:\n",
    "        trimmed_ego.add_edge(node1, node2,\n",
    "                             weight=edge.values())\n",
    "\n",
    "# Print the trimmed statistics\n",
    "print('Trimmed Ego Network for:', books_meta_dict[asin]['Title'],\n",
    "      \"\\n____________________\\n\",\n",
    "      \"\\nThreshold=\", threshold,\n",
    "      \"\\nNodes =\", trimmed_ego.number_of_nodes(),\n",
    "      \"\\nEdges =\", trimmed_ego.number_of_edges())\n",
    "\n",
    "# Show the Altars available in the trimmed network\n",
    "print(\"\\nASINs in the trimmed network: \\n\", list(trimmed_ego))"
   ]
  },
  {
   "cell_type": "code",
   "execution_count": null,
   "metadata": {},
   "outputs": [],
   "source": [
    "lst_neighbors = list(trimmed_ego)\n",
    "print(\"Purchased Book\")\n",
    "print(\"--------------\\n\")\n",
    "print(\"Title: \", books_meta_dict[asin]['Title'])\n",
    "\n",
    "\n",
    "print(\"\\nCustomers who bought this book, also bought:\")\n",
    "print(\"-------------------------------------------\")\n",
    "for nb_asin in lst_neighbors[1:]:\n",
    "    print(\"\\nAsin: \", nb_asin)\n",
    "    print(\"Book Title: \", books_meta_dict[nb_asin][\"Title\"])\n",
    "    print(\"Average Rating:\", books_meta_dict[nb_asin][\"AvgRating\"])\n",
    "    print(\"Number of Reviews: \", books_meta_dict[nb_asin][\"TotalReviews\"])"
   ]
  },
  {
   "cell_type": "markdown",
   "metadata": {},
   "source": [
    "## Recap of terms"
   ]
  },
  {
   "cell_type": "markdown",
   "metadata": {},
   "source": [
    "\n",
    "<img src =\"./resources/social_network.jpg\">"
   ]
  },
  {
   "cell_type": "markdown",
   "metadata": {},
   "source": [
    "## Additional Resources\n",
    "\n",
    "Awesome projects related to graph theory/networks (http://snap.stanford.edu/class/cs224w-2017/projects.html)  \n",
    "Paper on recommender systems (http://citeseerx.ist.psu.edu/viewdoc/download?doi=10.1.1.480.5927&rep=rep1&type=pdf)   \n",
    "Another paper on recommender system (http://www.cs.cmu.edu/~jure/pubs/viral-tweb.pdf)  \n",
    "More on clustering networks (http://pages.di.unipi.it/marino/cluster18.pdf)"
   ]
  },
  {
   "cell_type": "markdown",
   "metadata": {},
   "source": [
    "# More NetworkX Practice"
   ]
  },
  {
   "cell_type": "markdown",
   "metadata": {},
   "source": [
    "## Graph Properties"
   ]
  },
  {
   "cell_type": "code",
   "execution_count": 14,
   "metadata": {},
   "outputs": [],
   "source": [
    "G = nx.lollipop_graph(4, 6)"
   ]
  },
  {
   "cell_type": "code",
   "execution_count": 15,
   "metadata": {},
   "outputs": [],
   "source": [
    "pathlengths = []"
   ]
  },
  {
   "cell_type": "code",
   "execution_count": 16,
   "metadata": {},
   "outputs": [
    {
     "name": "stdout",
     "output_type": "stream",
     "text": [
      "0 {0: 0, 1: 1, 2: 1, 3: 1, 4: 2, 5: 3, 6: 4, 7: 5, 8: 6, 9: 7}\n",
      "1 {1: 0, 0: 1, 2: 1, 3: 1, 4: 2, 5: 3, 6: 4, 7: 5, 8: 6, 9: 7}\n",
      "2 {2: 0, 0: 1, 1: 1, 3: 1, 4: 2, 5: 3, 6: 4, 7: 5, 8: 6, 9: 7}\n",
      "3 {3: 0, 0: 1, 1: 1, 2: 1, 4: 1, 5: 2, 6: 3, 7: 4, 8: 5, 9: 6}\n",
      "4 {4: 0, 5: 1, 3: 1, 6: 2, 0: 2, 1: 2, 2: 2, 7: 3, 8: 4, 9: 5}\n",
      "5 {5: 0, 4: 1, 6: 1, 3: 2, 7: 2, 0: 3, 1: 3, 2: 3, 8: 3, 9: 4}\n",
      "6 {6: 0, 5: 1, 7: 1, 4: 2, 8: 2, 3: 3, 9: 3, 0: 4, 1: 4, 2: 4}\n",
      "7 {7: 0, 6: 1, 8: 1, 5: 2, 9: 2, 4: 3, 3: 4, 0: 5, 1: 5, 2: 5}\n",
      "8 {8: 0, 7: 1, 9: 1, 6: 2, 5: 3, 4: 4, 3: 5, 0: 6, 1: 6, 2: 6}\n",
      "9 {9: 0, 8: 1, 7: 2, 6: 3, 5: 4, 4: 5, 3: 6, 0: 7, 1: 7, 2: 7}\n"
     ]
    }
   ],
   "source": [
    "# This prints the source node and the dictionary of shortest lengths to various nodes\n",
    "for v in G.nodes():\n",
    "    spl = nx.single_source_shortest_path_length(G, v)\n",
    "    print(f'{v} {spl}')\n",
    "    for p in spl.values():\n",
    "        pathlengths.append(p)"
   ]
  },
  {
   "cell_type": "code",
   "execution_count": 17,
   "metadata": {},
   "outputs": [
    {
     "name": "stdout",
     "output_type": "stream",
     "text": [
      "average shortest path length 2.86\n"
     ]
    }
   ],
   "source": [
    "print(f\"average shortest path length {sum(pathlengths)/len(pathlengths)}\")"
   ]
  },
  {
   "cell_type": "code",
   "execution_count": 18,
   "metadata": {},
   "outputs": [
    {
     "name": "stdout",
     "output_type": "stream",
     "text": [
      "length #paths\n",
      "0 10\n",
      "1 24\n",
      "2 16\n",
      "3 14\n",
      "4 12\n",
      "5 10\n",
      "6 8\n",
      "7 6\n"
     ]
    }
   ],
   "source": [
    "# histogram of path lengths\n",
    "dist = {}\n",
    "for p in pathlengths:\n",
    "    if p in dist:\n",
    "        dist[p] += 1\n",
    "    else:\n",
    "        dist[p] = 1\n",
    "print(\"length #paths\")\n",
    "verts = dist.keys()\n",
    "for d in sorted(verts):\n",
    "    print(f'{d} {dist[d]}')"
   ]
  },
  {
   "cell_type": "code",
   "execution_count": 19,
   "metadata": {},
   "outputs": [
    {
     "name": "stdout",
     "output_type": "stream",
     "text": [
      "radius: 4\n",
      "diameter: 7\n",
      "eccentricity: {0: 7, 1: 7, 2: 7, 3: 6, 4: 5, 5: 4, 6: 4, 7: 5, 8: 6, 9: 7}\n",
      "center: [5, 6]\n",
      "periphery: [0, 1, 2, 9]\n",
      "density: 0.26666666666666666\n"
     ]
    }
   ],
   "source": [
    "print(f\"radius: {nx.radius(G)}\")\n",
    "print(f\"diameter: {nx.diameter(G)}\")\n",
    "print(f\"eccentricity: {nx.eccentricity(G)}\")\n",
    "print(f\"center: {nx.center(G)}\")\n",
    "print(f\"periphery: {nx.periphery(G)}\")\n",
    "print(f\"density: {nx.density(G)}\")"
   ]
  },
  {
   "cell_type": "markdown",
   "metadata": {},
   "source": [
    "## Path Graphing"
   ]
  },
  {
   "cell_type": "code",
   "execution_count": 20,
   "metadata": {},
   "outputs": [],
   "source": [
    "g1 = nx.path_graph(8)"
   ]
  },
  {
   "cell_type": "code",
   "execution_count": 21,
   "metadata": {},
   "outputs": [
    {
     "name": "stderr",
     "output_type": "stream",
     "text": [
      "/opt/anaconda3/envs/learn-env/lib/python3.6/site-packages/networkx/drawing/nx_pylab.py:579: MatplotlibDeprecationWarning: \n",
      "The iterable function was deprecated in Matplotlib 3.1 and will be removed in 3.3. Use np.iterable instead.\n",
      "  if not cb.iterable(width):\n"
     ]
    },
    {
     "data": {
      "image/png": "[encoded data removed]",
      "text/plain": [
       "<Figure size 432x288 with 1 Axes>"
      ]
     },
     "metadata": {},
     "output_type": "display_data"
    }
   ],
   "source": [
    "nx.draw(g1)"
   ]
  },
  {
   "cell_type": "markdown",
   "metadata": {},
   "source": [
    "## Four Implementations of the Same Graph"
   ]
  },
  {
   "cell_type": "code",
   "execution_count": 26,
   "metadata": {},
   "outputs": [
    {
     "data": {
      "text/plain": [
       "<networkx.classes.graph.Graph at 0xa197e99b0>"
      ]
     },
     "execution_count": 26,
     "metadata": {},
     "output_type": "execute_result"
    }
   ],
   "source": [
    "g5 = nx.grid_2d_graph(4, 4)  # 4x4 grid\n",
    "g5"
   ]
  },
  {
   "cell_type": "code",
   "execution_count": 27,
   "metadata": {},
   "outputs": [
    {
     "data": {
      "text/plain": [
       "{(0, 0): array([0.97728478, 0.50452072]),\n",
       " (0, 1): array([0.50886648, 0.68544013]),\n",
       " (0, 2): array([-0.03247693,  0.86517331]),\n",
       " (0, 3): array([-0.51647901,  0.99770616]),\n",
       " (1, 0): array([0.85347378, 0.01590099]),\n",
       " (1, 1): array([0.3640214 , 0.18863741]),\n",
       " (1, 2): array([-0.19295602,  0.37250225]),\n",
       " (1, 3): array([-0.68845926,  0.52798447]),\n",
       " (2, 0): array([ 0.68729175, -0.5287842 ]),\n",
       " (2, 1): array([ 0.1922059 , -0.37319179]),\n",
       " (2, 2): array([-0.36348439, -0.18529818]),\n",
       " (2, 3): array([-0.85423786, -0.01639686]),\n",
       " (3, 0): array([ 0.5157803, -1.       ]),\n",
       " (3, 1): array([ 0.03265452, -0.86449102]),\n",
       " (3, 2): array([-0.50784702, -0.68506363]),\n",
       " (3, 3): array([-0.97563842, -0.50463977])}"
      ]
     },
     "execution_count": 27,
     "metadata": {},
     "output_type": "execute_result"
    }
   ],
   "source": [
    "pos = nx.spring_layout(g5, iterations=100)\n",
    "pos"
   ]
  },
  {
   "cell_type": "code",
   "execution_count": 24,
   "metadata": {},
   "outputs": [
    {
     "data": {
      "image/png": "[encoded data removed]",
      "text/plain": [
       "<Figure size 432x288 with 1 Axes>"
      ]
     },
     "metadata": {},
     "output_type": "display_data"
    }
   ],
   "source": [
    "nx.draw(g5, pos, font_size=8)"
   ]
  },
  {
   "cell_type": "code",
   "execution_count": 28,
   "metadata": {},
   "outputs": [
    {
     "data": {
      "image/png": "[encoded data removed]",
      "text/plain": [
       "<Figure size 432x288 with 1 Axes>"
      ]
     },
     "metadata": {},
     "output_type": "display_data"
    }
   ],
   "source": [
    "nx.draw(g5, pos, node_color='k', node_size=250, with_labels=False)"
   ]
  },
  {
   "cell_type": "code",
   "execution_count": 29,
   "metadata": {},
   "outputs": [
    {
     "data": {
      "image/png": "[encoded data removed]",
      "text/plain": [
       "<Figure size 432x288 with 1 Axes>"
      ]
     },
     "metadata": {},
     "output_type": "display_data"
    }
   ],
   "source": [
    "nx.draw(g5, pos, node_color='g', node_size=250, with_labels=False, width=6)"
   ]
  },
  {
   "cell_type": "code",
   "execution_count": 30,
   "metadata": {},
   "outputs": [
    {
     "name": "stderr",
     "output_type": "stream",
     "text": [
      "/opt/anaconda3/envs/learn-env/lib/python3.6/site-packages/networkx/drawing/nx_pylab.py:676: MatplotlibDeprecationWarning: \n",
      "The iterable function was deprecated in Matplotlib 3.1 and will be removed in 3.3. Use np.iterable instead.\n",
      "  if cb.iterable(node_size):  # many node sizes\n"
     ]
    },
    {
     "data": {
      "image/png": "[encoded data removed]",
      "text/plain": [
       "<Figure size 432x288 with 1 Axes>"
      ]
     },
     "metadata": {},
     "output_type": "display_data"
    }
   ],
   "source": [
    "h5 = g5.to_directed()\n",
    "nx.draw(h5, pos, node_color='b', node_size=250, with_labels=False)"
   ]
  },
  {
   "cell_type": "markdown",
   "metadata": {},
   "source": [
    "## Degrees"
   ]
  },
  {
   "cell_type": "code",
   "execution_count": 31,
   "metadata": {},
   "outputs": [],
   "source": [
    "G = nx.gnp_random_graph(100, 0.02)"
   ]
  },
  {
   "cell_type": "code",
   "execution_count": 32,
   "metadata": {},
   "outputs": [],
   "source": [
    "degree_sequence = sorted((d for n, d in G.degree()), reverse=True)"
   ]
  },
  {
   "cell_type": "code",
   "execution_count": 33,
   "metadata": {},
   "outputs": [],
   "source": [
    "dmax = max(degree_sequence)"
   ]
  },
  {
   "cell_type": "code",
   "execution_count": 34,
   "metadata": {},
   "outputs": [],
   "source": [
    "gcc = sorted(nx.connected_component_subgraphs(G), key=len, reverse=True)[0]"
   ]
  },
  {
   "cell_type": "code",
   "execution_count": 35,
   "metadata": {},
   "outputs": [],
   "source": [
    "pos = nx.spring_layout(gcc)"
   ]
  },
  {
   "cell_type": "code",
   "execution_count": 36,
   "metadata": {},
   "outputs": [
    {
     "data": {
      "text/plain": [
       "<matplotlib.collections.PathCollection at 0xa1b181668>"
      ]
     },
     "execution_count": 36,
     "metadata": {},
     "output_type": "execute_result"
    },
    {
     "data": {
      "image/png": "[encoded data removed]",
      "text/plain": [
       "<Figure size 432x288 with 1 Axes>"
      ]
     },
     "metadata": {},
     "output_type": "display_data"
    }
   ],
   "source": [
    "nx.draw_networkx_nodes(gcc, pos, node_size=20)"
   ]
  },
  {
   "cell_type": "code",
   "execution_count": 37,
   "metadata": {},
   "outputs": [
    {
     "data": {
      "text/plain": [
       "<matplotlib.collections.LineCollection at 0xa1b289128>"
      ]
     },
     "execution_count": 37,
     "metadata": {},
     "output_type": "execute_result"
    },
    {
     "data": {
      "image/png": "[encoded data removed]",
      "text/plain": [
       "<Figure size 432x288 with 1 Axes>"
      ]
     },
     "metadata": {
      "needs_background": "light"
     },
     "output_type": "display_data"
    }
   ],
   "source": [
    "nx.draw_networkx_edges(gcc, pos, alpha=0.4)"
   ]
  },
  {
   "cell_type": "code",
   "execution_count": 38,
   "metadata": {},
   "outputs": [
    {
     "data": {
      "text/plain": [
       "<matplotlib.collections.LineCollection at 0xa1b321cf8>"
      ]
     },
     "execution_count": 38,
     "metadata": {},
     "output_type": "execute_result"
    },
    {
     "data": {
      "image/png": "[encoded data removed]",
      "text/plain": [
       "<Figure size 432x288 with 1 Axes>"
      ]
     },
     "metadata": {},
     "output_type": "display_data"
    }
   ],
   "source": [
    "nx.draw_networkx_nodes(gcc, pos, node_size=20)\n",
    "nx.draw_networkx_edges(gcc, pos, alpha=0.4)"
   ]
  },
  {
   "cell_type": "code",
   "execution_count": 39,
   "metadata": {},
   "outputs": [
    {
     "data": {
      "image/png": "[encoded data removed]",
      "text/plain": [
       "<Figure size 432x288 with 2 Axes>"
      ]
     },
     "metadata": {
      "needs_background": "light"
     },
     "output_type": "display_data"
    }
   ],
   "source": [
    "plt.loglog(degree_sequence,'b-',marker='o')\n",
    "plt.title(\"Degree rank plot\")\n",
    "plt.ylabel(\"degree\")\n",
    "plt.xlabel(\"rank\")\n",
    "plt.axes([0.45,0.45,0.45,0.45])\n",
    "plt.axis('off')\n",
    "plt.show()"
   ]
  },
  {
   "cell_type": "markdown",
   "metadata": {},
   "source": [
    "## Edge Colormap"
   ]
  },
  {
   "cell_type": "code",
   "execution_count": 40,
   "metadata": {},
   "outputs": [],
   "source": [
    "g2 = nx.star_graph(20)"
   ]
  },
  {
   "cell_type": "code",
   "execution_count": 41,
   "metadata": {},
   "outputs": [],
   "source": [
    "pos = nx.spring_layout(g2)"
   ]
  },
  {
   "cell_type": "code",
   "execution_count": 42,
   "metadata": {},
   "outputs": [
    {
     "name": "stderr",
     "output_type": "stream",
     "text": [
      "/opt/anaconda3/envs/learn-env/lib/python3.6/site-packages/networkx/drawing/nx_pylab.py:585: MatplotlibDeprecationWarning: \n",
      "The iterable function was deprecated in Matplotlib 3.1 and will be removed in 3.3. Use np.iterable instead.\n",
      "  and cb.iterable(edge_color) \\\n",
      "/opt/anaconda3/envs/learn-env/lib/python3.6/site-packages/networkx/drawing/nx_pylab.py:595: MatplotlibDeprecationWarning: \n",
      "The iterable function was deprecated in Matplotlib 3.1 and will be removed in 3.3. Use np.iterable instead.\n",
      "  for c in edge_color]):\n"
     ]
    },
    {
     "data": {
      "image/png": "[encoded data removed]",
      "text/plain": [
       "<Figure size 432x288 with 1 Axes>"
      ]
     },
     "metadata": {},
     "output_type": "display_data"
    }
   ],
   "source": [
    "nx.draw_networkx(g2, pos, node_color='#A0CBE2',\n",
    "                 edge_color=range(20), width=4,\n",
    "                 edge_cmap=plt.cm.Blues, with_labels=False)"
   ]
  },
  {
   "cell_type": "markdown",
   "metadata": {},
   "source": [
    "## Ego Graph"
   ]
  },
  {
   "cell_type": "code",
   "execution_count": 43,
   "metadata": {},
   "outputs": [
    {
     "data": {
      "text/plain": [
       "<matplotlib.collections.PathCollection at 0xa35278978>"
      ]
     },
     "execution_count": 43,
     "metadata": {},
     "output_type": "execute_result"
    },
    {
     "data": {
      "image/png": "[encoded data removed]",
      "text/plain": [
       "<Figure size 432x288 with 1 Axes>"
      ]
     },
     "metadata": {},
     "output_type": "display_data"
    }
   ],
   "source": [
    "g3 = nx.generators.barabasi_albert_graph(1000, 2)\n",
    "\n",
    "node_and_degree = dict(g3.degree())\n",
    "\n",
    "largest_hub, degree = sorted(node_and_degree.items(), key=itemgetter(1))[-1]\n",
    "\n",
    "hub_ego = nx.ego_graph(g3, largest_hub)\n",
    "\n",
    "pos = nx.spring_layout(hub_ego)\n",
    "\n",
    "nx.draw(hub_ego, pos, node_color='b', node_size=50, with_labels=False)\n",
    "nx.draw_networkx_nodes(hub_ego, pos, nodelist=[largest_hub],\n",
    "                       node_size=300, node_color='r')"
   ]
  },
  {
   "cell_type": "markdown",
   "metadata": {},
   "source": [
    "## GML Example: Football Teams"
   ]
  },
  {
   "cell_type": "markdown",
   "metadata": {},
   "source": [
    "First, we download a ZIP file containing information about United States college football teams and extract the two text files contained within."
   ]
  },
  {
   "cell_type": "code",
   "execution_count": 44,
   "metadata": {
    "scrolled": false
   },
   "outputs": [],
   "source": [
    "import io\n",
    "import zipfile\n",
    "\n",
    "import networkx\n",
    "import requests\n",
    "\n",
    "url = \"http://www-personal.umich.edu/~mejn/netdata/football.zip\"\n",
    "response = requests.get(url)\n",
    "content = io.BytesIO(response.content)\n",
    "with zipfile.ZipFile(content) as zf:  # zipfile object\n",
    "    txt = zf.read('football.txt').decode()  # read info file\n",
    "    gml = zf.read('football.gml').decode()  # read gml data\n",
    "    # throw away bogus first line with # from mejn files\n",
    "    gml = gml.split('\\n')[1:]"
   ]
  },
  {
   "cell_type": "markdown",
   "metadata": {},
   "source": [
    "Then we parse the graph information from the GML file, convert that to a NetworkX graph object, then print the degree of each node in the graph, which represents the number of games played by each team."
   ]
  },
  {
   "cell_type": "code",
   "execution_count": 45,
   "metadata": {
    "scrolled": true
   },
   "outputs": [
    {
     "name": "stdout",
     "output_type": "stream",
     "text": [
      "The file football.gml contains the network of American football games\n",
      "between Division IA colleges during regular season Fall 2000, as compiled\n",
      "by M. Girvan and M. Newman.  The nodes have values that indicate to which\n",
      "conferences they belong.  The values are as follows:\n",
      "\n",
      "  0 = Atlantic Coast\n",
      "  1 = Big East\n",
      "  2 = Big Ten\n",
      "  3 = Big Twelve\n",
      "  4 = Conference USA\n",
      "  5 = Independents\n",
      "  6 = Mid-American\n",
      "  7 = Mountain West\n",
      "  8 = Pacific Ten\n",
      "  9 = Southeastern\n",
      " 10 = Sun Belt\n",
      " 11 = Western Athletic\n",
      "\n",
      "If you make use of these data, please cite M. Girvan and M. E. J. Newman,\n",
      "Community structure in social and biological networks,\n",
      "Proc. Natl. Acad. Sci. USA 99, 7821-7826 (2002).\n",
      "\n",
      "Correction: Two edges were erroneously duplicated in this data set, and\n",
      "have been removed (21 SEP 2014)\n",
      "\n",
      "BrighamYoung 12\n",
      "FloridaState 12\n",
      "Iowa 12\n",
      "KansasState 12\n",
      "NewMexico 11\n",
      "TexasTech 12\n",
      "PennState 12\n",
      "SouthernCalifornia 12\n",
      "ArizonaState 11\n",
      "SanDiegoState 11\n",
      "Baylor 10\n",
      "NorthTexas 10\n",
      "NorthernIllinois 10\n",
      "Northwestern 11\n",
      "WesternMichigan 10\n",
      "Wisconsin 12\n",
      "Wyoming 11\n",
      "Auburn 11\n",
      "Akron 11\n",
      "VirginiaTech 11\n",
      "Alabama 11\n",
      "UCLA 11\n",
      "Arizona 11\n",
      "Utah 11\n",
      "ArkansasState 10\n",
      "NorthCarolinaState 11\n",
      "BallState 10\n",
      "Florida 11\n",
      "BoiseState 9\n",
      "BostonCollege 11\n",
      "WestVirginia 11\n",
      "BowlingGreenState 11\n",
      "Michigan 11\n",
      "Virginia 10\n",
      "Buffalo 11\n",
      "Syracuse 11\n",
      "CentralFlorida 8\n",
      "GeorgiaTech 11\n",
      "CentralMichigan 11\n",
      "Purdue 11\n",
      "Colorado 11\n",
      "ColoradoState 10\n",
      "Connecticut 7\n",
      "EasternMichigan 11\n",
      "EastCarolina 11\n",
      "Duke 11\n",
      "FresnoState 11\n",
      "OhioState 11\n",
      "Houston 11\n",
      "Rice 11\n",
      "Idaho 9\n",
      "Washington 11\n",
      "Kansas 10\n",
      "SouthernMethodist 12\n",
      "Kent 10\n",
      "Pittsburgh 11\n",
      "Kentucky 10\n",
      "Louisville 10\n",
      "LouisianaTech 10\n",
      "LouisianaMonroe 8\n",
      "Minnesota 11\n",
      "MiamiOhio 11\n",
      "Vanderbilt 11\n",
      "MiddleTennesseeState 9\n",
      "Illinois 11\n",
      "MississippiState 11\n",
      "Memphis 11\n",
      "Nevada 12\n",
      "Oregon 11\n",
      "NewMexicoState 11\n",
      "SouthCarolina 11\n",
      "Ohio 10\n",
      "IowaState 11\n",
      "SanJoseState 11\n",
      "Nebraska 11\n",
      "SouthernMississippi 10\n",
      "Tennessee 11\n",
      "Stanford 11\n",
      "WashingtonState 11\n",
      "Temple 11\n",
      "Navy 11\n",
      "TexasA&M 11\n",
      "NotreDame 11\n",
      "TexasElPaso 11\n",
      "Oklahoma 11\n",
      "Toledo 9\n",
      "Tulane 11\n",
      "Mississippi 11\n",
      "Tulsa 12\n",
      "NorthCarolina 11\n",
      "UtahState 9\n",
      "Army 11\n",
      "Cincinnati 11\n",
      "AirForce 10\n",
      "Rutgers 10\n",
      "Georgia 10\n",
      "LouisianaState 10\n",
      "LouisianaLafayette 8\n",
      "Texas 11\n",
      "Marshall 10\n",
      "MichiganState 11\n",
      "MiamiFlorida 10\n",
      "Missouri 10\n",
      "Clemson 10\n",
      "NevadaLasVegas 12\n",
      "WakeForest 10\n",
      "Indiana 11\n",
      "OklahomaState 10\n",
      "OregonState 10\n",
      "Maryland 11\n",
      "TexasChristian 11\n",
      "California 11\n",
      "AlabamaBirmingham 10\n",
      "Arkansas 10\n",
      "Hawaii 11\n"
     ]
    }
   ],
   "source": [
    "import networkx as nx\n",
    "\n",
    "fb = nx.parse_gml(gml) # parse gml data\n",
    "\n",
    "print(txt)\n",
    "# print degree for each team - number of games\n",
    "for n, d in fb.degree():\n",
    "    print(f'{n} {d}')"
   ]
  },
  {
   "cell_type": "code",
   "execution_count": null,
   "metadata": {},
   "outputs": [],
   "source": [
    "pos = nx.spring_layout(fb, iterations=100)"
   ]
  },
  {
   "cell_type": "code",
   "execution_count": null,
   "metadata": {},
   "outputs": [],
   "source": [
    "nx.draw(fb, pos, font_size=8)"
   ]
  },
  {
   "cell_type": "code",
   "execution_count": null,
   "metadata": {},
   "outputs": [],
   "source": []
  }
 ],
 "metadata": {
  "kernelspec": {
   "display_name": "Python 3",
   "language": "python",
   "name": "python3"
  },
  "language_info": {
   "codemirror_mode": {
    "name": "ipython",
    "version": 3
   },
   "file_extension": ".py",
   "mimetype": "text/x-python",
   "name": "python",
   "nbconvert_exporter": "python",
   "pygments_lexer": "ipython3",
   "version": "3.6.9"
  }
 },
 "nbformat": 4,
 "nbformat_minor": 2
}
