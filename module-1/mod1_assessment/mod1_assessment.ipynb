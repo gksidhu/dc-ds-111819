{
 "cells": [
  {
   "cell_type": "markdown",
   "metadata": {},
   "source": [
    "# Mod 1 Assessment"
   ]
  },
  {
   "cell_type": "markdown",
   "metadata": {},
   "source": [
    "### Congratulations on making it to your first assessment! Just a few reminders before you continue:\n",
    "- This should only take an hour, so be sure to manage your time effectively.\n",
    "- Read the instructions carefully for specified variable names."
   ]
  },
  {
   "cell_type": "markdown",
   "metadata": {},
   "source": [
    "If there is any confusion on a question, please ask for clarification from an instructor. </br>Though we can't give you the answer, we can help clear up any misunderstandings and get you back on track."
   ]
  },
  {
   "cell_type": "markdown",
   "metadata": {},
   "source": [
    "### Import all the necessary libraries/packages with the appropriate alias."
   ]
  },
  {
   "cell_type": "code",
   "execution_count": 1,
   "metadata": {},
   "outputs": [],
   "source": [
    "import matplotlib as plt\n",
    "import numpy as np\n",
    "import pandas as pd\n",
    "import seaborn as sns\n",
    "\n",
    "%matplotlib inline"
   ]
  },
  {
   "cell_type": "markdown",
   "metadata": {},
   "source": [
    "## Section 1: Loops & Dictionaries (10 minutes)\n",
    "Create a nested dictionary of recipes, with keys at the top level and dictionaries as their associated values.\n",
    "\n",
    "1. Create an empty dictionary named **`recipes`**.\n",
    "1. Add three dishes as the **keys** of your dictionary (e.g. 'meat pie')\n",
    "1. For each key, the **value** should be another dictionary consisting of `ingredient: amount` pairs. (eg `'sugar': 'two cups'`) Each dish should have three ingredients.\n",
    "1. Write a function called **`shopping_list`** to process the recipe dictionary. This function should loop through the recipes and return a single list of all ingredients needed across all recipes."
   ]
  },
  {
   "cell_type": "code",
   "execution_count": 2,
   "metadata": {},
   "outputs": [],
   "source": [
    "recipes = {'daal':{'lentils': 'half cup', 'water':'three cups', 'garam masala':'one tablespoon'}, \n",
    "           'jeera rice':{'rice': 'half cup', 'water':'one cup', 'cumin seeds':'one teaspoon'}, \n",
    "           'yogurt':{'milk':'two cups', 'culture':'one tablespoon', 'water':'as needed'}}"
   ]
  },
  {
   "cell_type": "code",
   "execution_count": 37,
   "metadata": {},
   "outputs": [],
   "source": [
    "def shopping_list(recipe_dict):\n",
    "    shopping_list = []\n",
    "    for i in recipe_dict.values(): \n",
    "        shopping_list.append(i)\n",
    "\n",
    "shopping_list(recipes)"
   ]
  },
  {
   "cell_type": "markdown",
   "metadata": {},
   "source": [
    "## Section 2: Data cleaning (15 Minutes)\n",
    "Read data from `./data/weatherAUS.csv` and assign it to a variable named **`weather_df`**.\n",
    "1. Add a `day`, `month`, and `year` column (three new columns) using the values from the `Date` column\n",
    "1. Assign the variable **`incomplete_columns`** to a list of column names with missing values\n",
    "1. Drop all columns except `day`, `month`, `year`, `Rainfall`, and `Sunshine`\n",
    "1. Drop rows with missing values for `Rainfall`\n",
    "1. Assign the variable **`mean_sunshine`** to the mean value of `Sunshine` in `weather_df`\n",
    "1. Fill all `Sunshine` NaNs with the value of `mean_sunshine`"
   ]
  },
  {
   "cell_type": "code",
   "execution_count": 4,
   "metadata": {},
   "outputs": [
    {
     "data": {
      "text/html": [
       "<div>\n",
       "<style scoped>\n",
       "    .dataframe tbody tr th:only-of-type {\n",
       "        vertical-align: middle;\n",
       "    }\n",
       "\n",
       "    .dataframe tbody tr th {\n",
       "        vertical-align: top;\n",
       "    }\n",
       "\n",
       "    .dataframe thead th {\n",
       "        text-align: right;\n",
       "    }\n",
       "</style>\n",
       "<table border=\"1\" class=\"dataframe\">\n",
       "  <thead>\n",
       "    <tr style=\"text-align: right;\">\n",
       "      <th></th>\n",
       "      <th>Date</th>\n",
       "      <th>Location</th>\n",
       "      <th>MinTemp</th>\n",
       "      <th>MaxTemp</th>\n",
       "      <th>Rainfall</th>\n",
       "      <th>Evaporation</th>\n",
       "      <th>Sunshine</th>\n",
       "      <th>WindGustDir</th>\n",
       "      <th>WindGustSpeed</th>\n",
       "      <th>WindDir9am</th>\n",
       "      <th>...</th>\n",
       "      <th>Cloud9am</th>\n",
       "      <th>Cloud3pm</th>\n",
       "      <th>Temp9am</th>\n",
       "      <th>Temp3pm</th>\n",
       "      <th>RainToday</th>\n",
       "      <th>RISK_MM</th>\n",
       "      <th>RainTomorrow</th>\n",
       "      <th>day</th>\n",
       "      <th>month</th>\n",
       "      <th>year</th>\n",
       "    </tr>\n",
       "  </thead>\n",
       "  <tbody>\n",
       "    <tr>\n",
       "      <th>0</th>\n",
       "      <td>2008-12-01</td>\n",
       "      <td>Albury</td>\n",
       "      <td>13.4</td>\n",
       "      <td>22.9</td>\n",
       "      <td>0.6</td>\n",
       "      <td>NaN</td>\n",
       "      <td>NaN</td>\n",
       "      <td>W</td>\n",
       "      <td>44.0</td>\n",
       "      <td>W</td>\n",
       "      <td>...</td>\n",
       "      <td>8.0</td>\n",
       "      <td>NaN</td>\n",
       "      <td>16.9</td>\n",
       "      <td>21.8</td>\n",
       "      <td>No</td>\n",
       "      <td>0.0</td>\n",
       "      <td>No</td>\n",
       "      <td>1</td>\n",
       "      <td>12</td>\n",
       "      <td>2008</td>\n",
       "    </tr>\n",
       "    <tr>\n",
       "      <th>1</th>\n",
       "      <td>2008-12-02</td>\n",
       "      <td>Albury</td>\n",
       "      <td>7.4</td>\n",
       "      <td>25.1</td>\n",
       "      <td>0.0</td>\n",
       "      <td>NaN</td>\n",
       "      <td>NaN</td>\n",
       "      <td>WNW</td>\n",
       "      <td>44.0</td>\n",
       "      <td>NNW</td>\n",
       "      <td>...</td>\n",
       "      <td>NaN</td>\n",
       "      <td>NaN</td>\n",
       "      <td>17.2</td>\n",
       "      <td>24.3</td>\n",
       "      <td>No</td>\n",
       "      <td>0.0</td>\n",
       "      <td>No</td>\n",
       "      <td>2</td>\n",
       "      <td>12</td>\n",
       "      <td>2008</td>\n",
       "    </tr>\n",
       "    <tr>\n",
       "      <th>2</th>\n",
       "      <td>2008-12-03</td>\n",
       "      <td>Albury</td>\n",
       "      <td>12.9</td>\n",
       "      <td>25.7</td>\n",
       "      <td>0.0</td>\n",
       "      <td>NaN</td>\n",
       "      <td>NaN</td>\n",
       "      <td>WSW</td>\n",
       "      <td>46.0</td>\n",
       "      <td>W</td>\n",
       "      <td>...</td>\n",
       "      <td>NaN</td>\n",
       "      <td>2.0</td>\n",
       "      <td>21.0</td>\n",
       "      <td>23.2</td>\n",
       "      <td>No</td>\n",
       "      <td>0.0</td>\n",
       "      <td>No</td>\n",
       "      <td>3</td>\n",
       "      <td>12</td>\n",
       "      <td>2008</td>\n",
       "    </tr>\n",
       "    <tr>\n",
       "      <th>3</th>\n",
       "      <td>2008-12-04</td>\n",
       "      <td>Albury</td>\n",
       "      <td>9.2</td>\n",
       "      <td>28.0</td>\n",
       "      <td>0.0</td>\n",
       "      <td>NaN</td>\n",
       "      <td>NaN</td>\n",
       "      <td>NE</td>\n",
       "      <td>24.0</td>\n",
       "      <td>SE</td>\n",
       "      <td>...</td>\n",
       "      <td>NaN</td>\n",
       "      <td>NaN</td>\n",
       "      <td>18.1</td>\n",
       "      <td>26.5</td>\n",
       "      <td>No</td>\n",
       "      <td>1.0</td>\n",
       "      <td>No</td>\n",
       "      <td>4</td>\n",
       "      <td>12</td>\n",
       "      <td>2008</td>\n",
       "    </tr>\n",
       "    <tr>\n",
       "      <th>4</th>\n",
       "      <td>2008-12-05</td>\n",
       "      <td>Albury</td>\n",
       "      <td>17.5</td>\n",
       "      <td>32.3</td>\n",
       "      <td>1.0</td>\n",
       "      <td>NaN</td>\n",
       "      <td>NaN</td>\n",
       "      <td>W</td>\n",
       "      <td>41.0</td>\n",
       "      <td>ENE</td>\n",
       "      <td>...</td>\n",
       "      <td>7.0</td>\n",
       "      <td>8.0</td>\n",
       "      <td>17.8</td>\n",
       "      <td>29.7</td>\n",
       "      <td>No</td>\n",
       "      <td>0.2</td>\n",
       "      <td>No</td>\n",
       "      <td>5</td>\n",
       "      <td>12</td>\n",
       "      <td>2008</td>\n",
       "    </tr>\n",
       "  </tbody>\n",
       "</table>\n",
       "<p>5 rows × 27 columns</p>\n",
       "</div>"
      ],
      "text/plain": [
       "         Date Location  MinTemp  MaxTemp  Rainfall  Evaporation  Sunshine  \\\n",
       "0  2008-12-01   Albury     13.4     22.9       0.6          NaN       NaN   \n",
       "1  2008-12-02   Albury      7.4     25.1       0.0          NaN       NaN   \n",
       "2  2008-12-03   Albury     12.9     25.7       0.0          NaN       NaN   \n",
       "3  2008-12-04   Albury      9.2     28.0       0.0          NaN       NaN   \n",
       "4  2008-12-05   Albury     17.5     32.3       1.0          NaN       NaN   \n",
       "\n",
       "  WindGustDir  WindGustSpeed WindDir9am  ... Cloud9am  Cloud3pm  Temp9am  \\\n",
       "0           W           44.0          W  ...      8.0       NaN     16.9   \n",
       "1         WNW           44.0        NNW  ...      NaN       NaN     17.2   \n",
       "2         WSW           46.0          W  ...      NaN       2.0     21.0   \n",
       "3          NE           24.0         SE  ...      NaN       NaN     18.1   \n",
       "4           W           41.0        ENE  ...      7.0       8.0     17.8   \n",
       "\n",
       "   Temp3pm  RainToday  RISK_MM  RainTomorrow  day  month  year  \n",
       "0     21.8         No      0.0            No    1     12  2008  \n",
       "1     24.3         No      0.0            No    2     12  2008  \n",
       "2     23.2         No      0.0            No    3     12  2008  \n",
       "3     26.5         No      1.0            No    4     12  2008  \n",
       "4     29.7         No      0.2            No    5     12  2008  \n",
       "\n",
       "[5 rows x 27 columns]"
      ]
     },
     "execution_count": 4,
     "metadata": {},
     "output_type": "execute_result"
    }
   ],
   "source": [
    "weather_df = pd.read_csv('data/weatherAUS.csv')\n",
    "weather_df.Date\n",
    "pd.to_datetime(weather_df['Date'])\n",
    "weather_df['day'] = pd.DatetimeIndex(weather_df['Date']).day\n",
    "weather_df['month'] = pd.DatetimeIndex(weather_df['Date']).month\n",
    "weather_df['year'] = pd.DatetimeIndex(weather_df['Date']).year\n",
    "weather_df.head()"
   ]
  },
  {
   "cell_type": "code",
   "execution_count": 5,
   "metadata": {},
   "outputs": [
    {
     "data": {
      "text/plain": [
       "Index(['MinTemp', 'MaxTemp', 'Rainfall', 'Evaporation', 'Sunshine',\n",
       "       'WindGustDir', 'WindGustSpeed', 'WindDir9am', 'WindDir3pm',\n",
       "       'WindSpeed9am', 'WindSpeed3pm', 'Humidity9am', 'Humidity3pm',\n",
       "       'Pressure9am', 'Pressure3pm', 'Cloud9am', 'Cloud3pm', 'Temp9am',\n",
       "       'Temp3pm', 'RainToday', 'RISK_MM', 'RainTomorrow'],\n",
       "      dtype='object')"
      ]
     },
     "execution_count": 5,
     "metadata": {},
     "output_type": "execute_result"
    }
   ],
   "source": [
    "incomplete_columns = weather_df.columns[weather_df.isnull().any()]\n",
    "incomplete_columns"
   ]
  },
  {
   "cell_type": "code",
   "execution_count": 12,
   "metadata": {},
   "outputs": [
    {
     "ename": "SyntaxError",
     "evalue": "invalid syntax (<ipython-input-12-c687650f5666>, line 8)",
     "output_type": "error",
     "traceback": [
      "\u001b[0;36m  File \u001b[0;32m\"<ipython-input-12-c687650f5666>\"\u001b[0;36m, line \u001b[0;32m8\u001b[0m\n\u001b[0;31m    weather_df.dropna(subset=['Rainfall']).info()\u001b[0m\n\u001b[0m             ^\u001b[0m\n\u001b[0;31mSyntaxError\u001b[0m\u001b[0;31m:\u001b[0m invalid syntax\n"
     ]
    }
   ],
   "source": [
    "# Drop all columns except day, month, year, Rainfall, and Sunshine\n",
    "weather_df.columns\n",
    "weather_df.drop(columns=['Date', 'Location', 'MinTemp', 'MaxTemp', 'Evaporation','WindGustDir','WindGustSpeed', \n",
    "                         'WindDir9am', 'WindDir3pm','WindSpeed9am', 'WindSpeed3pm', 'Humidity9am', 'Humidity3pm',\n",
    "                         'Pressure9am', 'Pressure3pm', 'Cloud9am','Cloud3pm','Temp9am','Temp3pm', 'RainToday',\n",
    "                         'RISK_MM', 'RainTomorrow']\n",
    "# Drop rows with missing values for Rainfall\n",
    "weather_df.dropna(subset=['Rainfall']).info()"
   ]
  },
  {
   "cell_type": "code",
   "execution_count": 11,
   "metadata": {},
   "outputs": [
    {
     "data": {
      "text/plain": [
       "0         7.628668\n",
       "1         7.628668\n",
       "2         7.628668\n",
       "3         7.628668\n",
       "4         7.628668\n",
       "            ...   \n",
       "164639    7.628668\n",
       "164640    7.628668\n",
       "164641    7.628668\n",
       "164642    7.628668\n",
       "164643    7.628668\n",
       "Name: Sunshine, Length: 164644, dtype: float64"
      ]
     },
     "execution_count": 11,
     "metadata": {},
     "output_type": "execute_result"
    }
   ],
   "source": [
    "mean_sunshine = weather_df['Sunshine'].mean()\n",
    "mean_sunshine\n",
    "# Fill all Sunshine NaNs with the value of mean_sunshine\n",
    "weather_df.Sunshine.fillna(value = mean_sunshine)"
   ]
  },
  {
   "cell_type": "markdown",
   "metadata": {},
   "source": [
    "## Section 3: Visualization (15 Minutes)\n",
    "\n",
    "As best you can, recreate this bar chart created in Google Sheets using Python.  You may use Matplotlib, Seaborn, or any other graphing library you came across.\n",
    "\n",
    "<img src=\"./data/chart.jpg\" alt=\"chart to recreate\" width=\"500\"/>"
   ]
  },
  {
   "cell_type": "code",
   "execution_count": 29,
   "metadata": {},
   "outputs": [
    {
     "data": {
      "text/plain": [
       "Text(0.5, 1.0, 'Count by Category')"
      ]
     },
     "execution_count": 29,
     "metadata": {},
     "output_type": "execute_result"
    },
    {
     "data": {
      "image/png": "[encoded data removed]",
      "text/plain": [
       "<Figure size 432x288 with 1 Axes>"
      ]
     },
     "metadata": {},
     "output_type": "display_data"
    }
   ],
   "source": [
    "d = {'Category': ['A', 'B', 'C', 'D', 'E'], 'Count': [54, 23, 99, 37, 3]}\n",
    "df = pd.DataFrame(data=d)\n",
    "df\n",
    "sns.set(style=\"whitegrid\")\n",
    "sns.barplot(x=\"Count\", y=\"Category\", data=df, color=\"red\").set_title('Count by Category')"
   ]
  },
  {
   "cell_type": "markdown",
   "metadata": {},
   "source": [
    "## Section 4: Github (5 Minutes)\n",
    "\n",
    "Follow the instructions at https://github.com/enkeboll/dcds-111819-gifs, and make sure to check your email to confirm your collaborator status!"
   ]
  },
  {
   "cell_type": "markdown",
   "metadata": {},
   "source": [
    "When finished, submit your assessment as `mod1_assessment.ipynb` (do not change the name, please!) at [this Google form](https://docs.google.com/forms/d/e/1FAIpQLSe65CBEptywZH048tq7caQL_9CvMs1k0C8EPY80FxvWESBdIg/viewform?usp=sf_link)"
   ]
  }
 ],
 "metadata": {
  "file_extension": ".py",
  "kernelspec": {
   "display_name": "Python 3",
   "language": "python",
   "name": "python3"
  },
  "language_info": {
   "codemirror_mode": {
    "name": "ipython",
    "version": 3
   },
   "file_extension": ".py",
   "mimetype": "text/x-python",
   "name": "python",
   "nbconvert_exporter": "python",
   "pygments_lexer": "ipython3",
   "version": "3.6.9"
  },
  "mimetype": "text/x-python",
  "name": "python",
  "npconvert_exporter": "python",
  "pygments_lexer": "ipython3",
  "version": 3
 },
 "nbformat": 4,
 "nbformat_minor": 4
}
