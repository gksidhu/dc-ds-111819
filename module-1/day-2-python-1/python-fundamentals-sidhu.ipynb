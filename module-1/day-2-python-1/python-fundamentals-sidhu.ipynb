{
 "cells": [
  {
   "cell_type": "markdown",
   "metadata": {},
   "source": [
    "# ![python logo](https://www.python.org/static/community_logos/python-logo-master-v3-TM.png)\n",
    "\n",
    "\n",
    "\n",
    "# Python has a lot of great [documentation](https://www.python.org/about/gettingstarted/)\n",
    "\n",
    "\n",
    "Today as a first step we want you to be able to:\n",
    "- Make use of assigning variables\n",
    "- Classify and explain integers, float, strings, boolean, list, dictionary, and tuple\n",
    "- Identify the comparators and boolean operators\n",
    "- Make use of a `list`: indexing, ranges, appending\n",
    "- Make use of a `dict`: identifying, creating, navigating\n",
    "- Apply a for loop to lists and dictionaries\n",
    "\n",
    "\n",
    "### To do all that, we are going to code up versions of a bento box:\n",
    "\n",
    "<img src=\"https://images.pexels.com/photos/884596/pexels-photo-884596.jpeg?auto=compress&cs=tinysrgb&dpr=2&h=750&w=1260\" width=550 />\n",
    "\n",
    "\n",
    "### Bento boxes can have multiple ingredients and choices\n",
    "\n",
    "We want to write a script that can combine everyone's bento order into one data collection and print each item for the restaurant. \n",
    "\n",
    "#### Variable assignment \n",
    "\n",
    "Let's start with our first bento oder:\n",
    "\n",
    "```python\n",
    "main = \"rice\"\n",
    "protein = \"salmon\"\n",
    "ozofprotein = 4.5\n",
    "number_of_sides = 3\n",
    "side1 = 'seaweed'\n",
    "side2 = 'tempura'\n",
    "side2 =  'turnip pickle'\n",
    "greatbento = True\n",
    "```"
   ]
  },
  {
   "cell_type": "code",
   "execution_count": 4,
   "metadata": {},
   "outputs": [],
   "source": [
    "main = \"rice\"\n",
    "protein = \"salmon\"\n",
    "ozofprotein = 4.5\n",
    "number_of_sides = 3\n",
    "side1 = 'seaweed'\n",
    "side2 = 'tempura'\n",
    "side2 =  'turnip pickle'\n",
    "greatbento = True\n",
    "# no output because this is just variable assignment\n",
    "# shift + enter to advance, ctrl + enter to stay in cell"
   ]
  },
  {
   "cell_type": "markdown",
   "metadata": {},
   "source": [
    "Now, if we wanted to change our protein to ginger chicken, how would we do that?"
   ]
  },
  {
   "cell_type": "code",
   "execution_count": 5,
   "metadata": {},
   "outputs": [],
   "source": [
    "protein = \"ginger chicken\""
   ]
  },
  {
   "cell_type": "markdown",
   "metadata": {},
   "source": [
    "We can reassign variable values easily.\n",
    "\n",
    "Now, we assigned those variables one at a time. We also can assign multiple values at once:\n",
    "\n",
    "`side1, side2, side3 = \"carrots\", \"kimchi\", \"mushrooms\"`\n",
    "\n",
    "Update your side order to match your preference. \n",
    "\n",
    "Then use `print()` to confirm the variable change"
   ]
  },
  {
   "cell_type": "code",
   "execution_count": 6,
   "metadata": {},
   "outputs": [],
   "source": [
    "side1, side2, side3 = \"carrots\", \"kimchi\", \"mushrooms\"\n",
    "# 'a' creates new cell above, 'b' creates new cell below\n",
    "# 'dd' deletes cell, 'x' cuts cells, 'v' pastes cell back in, 'c' copies cell\n",
    "# 'h' provides keyboard shortcuts\n",
    "# esc exits write mode\n",
    "# number of items on both sides must be equal, otherwise error"
   ]
  },
  {
   "cell_type": "code",
   "execution_count": 7,
   "metadata": {},
   "outputs": [
    {
     "data": {
      "text/plain": [
       "('carrots', 'kimchi', 'mushrooms')"
      ]
     },
     "execution_count": 7,
     "metadata": {},
     "output_type": "execute_result"
    }
   ],
   "source": [
    "side1, side2, side3\n",
    "# parentheses indicate a new tupple or LIST except a tupple cannot be edited"
   ]
  },
  {
   "cell_type": "code",
   "execution_count": 8,
   "metadata": {},
   "outputs": [
    {
     "data": {
      "text/plain": [
       "'mushrooms'"
      ]
     },
     "execution_count": 8,
     "metadata": {},
     "output_type": "execute_result"
    }
   ],
   "source": [
    "side1\n",
    "side2\n",
    "side3"
   ]
  },
  {
   "cell_type": "code",
   "execution_count": 9,
   "metadata": {},
   "outputs": [
    {
     "name": "stdout",
     "output_type": "stream",
     "text": [
      "carrots kimchi mushrooms\n"
     ]
    }
   ],
   "source": [
    "print(side1, side2, side3)\n",
    "# print returns elements without quotes"
   ]
  },
  {
   "cell_type": "markdown",
   "metadata": {},
   "source": [
    "#### Variable Types\n",
    "\n",
    "Each variable in our bento box has a `type`. \n",
    "\n",
    "```\n",
    "type(side1)\n",
    "str\n",
    "```\n",
    "Run `type()` on the remaining variables to explore the type options."
   ]
  },
  {
   "cell_type": "code",
   "execution_count": 10,
   "metadata": {},
   "outputs": [
    {
     "data": {
      "text/plain": [
       "bool"
      ]
     },
     "execution_count": 10,
     "metadata": {},
     "output_type": "execute_result"
    }
   ],
   "source": [
    "type(greatbento)\n",
    "# use tab to autocomplete because variables already identified; only for things python knows"
   ]
  },
  {
   "cell_type": "markdown",
   "metadata": {},
   "source": [
    "#### Conditionals\n",
    "\n",
    "Now what if you have food allergies, or want to be able to evaluate a variable before changing it?\n",
    "\n",
    "Well you're in luck, cause we have if statements and conditionals and control flow operators.\n",
    "\n",
    "\n",
    "\n",
    "Control flow operators are:\n",
    "```\n",
    "==\n",
    "!=\n",
    ">\n",
    "<\n",
    "<=\n",
    ">=\n",
    "```\n",
    "\n",
    "\n",
    "Decision Making is like this:\n",
    "```python\n",
    "if protein == 'salmon':\n",
    "    print(\"I love salmon!\")\n",
    "```\n",
    "\n",
    "![how conditional works](images/decision_making.jpg)\n",
    "\n",
    "\n",
    "Will I like this bento box?\n",
    "```python\n",
    "if main == 'rice':\n",
    "    print(\"no carbs, please!\")\n",
    "elif ozofprotein >= 2.5:\n",
    "    print(\"too much!\")\n",
    "else:\n",
    "    print(\"I have no problems with this order\")\n",
    "```\n",
    "\n",
    "\n",
    "The [tools](https://docs.python.org/3/tutorial/controlflow.html)  used in conditionals are `if`, `elif`, and `else`\n",
    "\n",
    "Update the above code example, but rather than `print` set `greatbento` equal to `True` or `False` depending on the values of the bento box ingredients."
   ]
  },
  {
   "cell_type": "code",
   "execution_count": 11,
   "metadata": {},
   "outputs": [],
   "source": [
    "if protein == 'salmon':\n",
    "    print(\"I love salmon!\")"
   ]
  },
  {
   "cell_type": "code",
   "execution_count": 13,
   "metadata": {},
   "outputs": [
    {
     "name": "stdout",
     "output_type": "stream",
     "text": [
      "no carbs, please!\n"
     ]
    }
   ],
   "source": [
    "if main == 'rice':\n",
    "    print(\"no carbs, please!\")\n",
    "elif ozofprotein >= 2.5: #greater tan or equal to; != means not equal to\n",
    "    print(\"too much!\")\n",
    "else:\n",
    "    print(\"I have no problems with this order\")\n",
    "# will only print one; change elif to new if to print both truths\n",
    "# can have as many elifs as you want however no built in case statement\n",
    "# else is for if nothing else is true\n",
    "# pass means do nothing, eg: else: pass\n",
    "# can do nested if statements - use tabs appropriately\n",
    "# tab in jupyter = set of four spaces but does not matter, just be consistent\n",
    "# shift + tab removes indent"
   ]
  },
  {
   "cell_type": "markdown",
   "metadata": {},
   "source": [
    "# Using Lists: Indexing, ranges, appending"
   ]
  },
  {
   "cell_type": "markdown",
   "metadata": {},
   "source": [
    "#### Lists\n",
    "\n",
    "Writing out all those ingredients individually is a pain, let's put them in a list!\n",
    "\n",
    "![dog-to-do-list](https://media.giphy.com/media/xTiTnuhyBF54B852nK/giphy.gif)\n",
    "\n",
    "\n",
    "```python\n",
    "bento_box_list = [\"rice\", \"chicken teriyaki\", \"tempura\", \"soy sauce\", \"ginger\", \"seaweed\"]\n",
    "bento_box_list[2]\n",
    "\n",
    "# Output: tempura\n",
    "\n",
    "numbers[0:2]\n",
    "\n",
    "# Output: [\"rice\", \"chicken teriyaki\"]\n",
    "```\n",
    "To append to a list:\n",
    "\n",
    "```python\n",
    "bento_box_list = [\"rice\", \"chicken teriyaki\", \"tempura\", \"soy sauce\", \"ginger\", \"seaweed\"]\n",
    "bento_box_list.append(\"wasabi\")\n",
    "print(bento_box_list)\n",
    "\n",
    "# Output: [\"rice\", \"chicken teriyaki\", \"tempura\", \"soy sauce\", \"ginger\", \"seaweed\", \"wasabi\"]\n",
    "```\n",
    "\n",
    "Now, let's put our order in a readable format using `join`\n",
    "\n",
    "\n",
    "```python\n",
    "print(\"I'd like my bento box to contain: \" + \n",
    "      \",\".join(bento_box_list[:-1] + \n",
    "      \", and \" + bento_box_list[-1])\n",
    "```\n",
    "\n",
    "Make a list of your bento box ingredients!  Have it print out in a legible sentence!"
   ]
  },
  {
   "cell_type": "code",
   "execution_count": 14,
   "metadata": {},
   "outputs": [
    {
     "data": {
      "text/plain": [
       "'tempura'"
      ]
     },
     "execution_count": 14,
     "metadata": {},
     "output_type": "execute_result"
    }
   ],
   "source": [
    "bento_box_list = [\"rice\", \"chicken teriyaki\", \"tempura\", \"soy sauce\", \"ginger\", \"seaweed\"]\n",
    "bento_box_list[2]"
   ]
  },
  {
   "cell_type": "code",
   "execution_count": 15,
   "metadata": {},
   "outputs": [
    {
     "data": {
      "text/plain": [
       "['rice',\n",
       " 'chicken teriyaki',\n",
       " 'tempura',\n",
       " 'soy sauce',\n",
       " 'ginger',\n",
       " 'seaweed',\n",
       " 'sake']"
      ]
     },
     "execution_count": 15,
     "metadata": {},
     "output_type": "execute_result"
    }
   ],
   "source": [
    "bento_box_list.append(\"sake\")\n",
    "bento_box_list"
   ]
  },
  {
   "cell_type": "code",
   "execution_count": 17,
   "metadata": {},
   "outputs": [
    {
     "data": {
      "text/plain": [
       "['asparagus',\n",
       " 'asparagus',\n",
       " 'rice',\n",
       " 'chicken teriyaki',\n",
       " 'tempura',\n",
       " 'soy sauce',\n",
       " 'ginger',\n",
       " 'seaweed',\n",
       " 'sake']"
      ]
     },
     "execution_count": 17,
     "metadata": {},
     "output_type": "execute_result"
    }
   ],
   "source": [
    "bento_box_list.insert(0,\"asparagus\")\n",
    "bento_box_list"
   ]
  },
  {
   "cell_type": "code",
   "execution_count": 19,
   "metadata": {},
   "outputs": [
    {
     "data": {
      "text/plain": [
       "['asparagus',\n",
       " 'rice',\n",
       " 'chicken teriyaki',\n",
       " 'tempura',\n",
       " 'soy sauce',\n",
       " 'ginger',\n",
       " 'seaweed',\n",
       " 'sake']"
      ]
     },
     "execution_count": 19,
     "metadata": {},
     "output_type": "execute_result"
    }
   ],
   "source": [
    "bento_box_list.pop(0)\n",
    "bento_box_list"
   ]
  },
  {
   "cell_type": "code",
   "execution_count": 20,
   "metadata": {},
   "outputs": [
    {
     "data": {
      "text/plain": [
       "['asparagus',\n",
       " 'rice',\n",
       " 'chicken teriyaki',\n",
       " 'tempura',\n",
       " 'soy sauce',\n",
       " 'ginger',\n",
       " 'seaweed',\n",
       " 'sake',\n",
       " 'fried egg']"
      ]
     },
     "execution_count": 20,
     "metadata": {},
     "output_type": "execute_result"
    }
   ],
   "source": [
    "bento_box_list + [\"fried egg\"]\n",
    "# operators are shortcuts for other functions, e.g. + represents .__add__ (two underscores)\n",
    "# class comment that + has longer run time than append --- plus creates new list each time\n",
    "# + is ephemeral -- no assignment or change to original list; += is append!\n",
    "# concatenate merges strings -- not lists!"
   ]
  },
  {
   "cell_type": "markdown",
   "metadata": {},
   "source": [
    "#### Dictionaries\n",
    "\n",
    "<img src=\"https://images.pexels.com/photos/270233/pexels-photo-270233.jpeg?auto=compress&cs=tinysrgb&dpr=2&w=500\" width=550 >\n",
    "\n",
    "No, not that kind! \n",
    "\n",
    "With your list above, someone would need to tell you that \"rice\" is the main and \"chicken\" is the protein. \n",
    "\n",
    "Dictionaries let you assign **key** and **value** pairs. \n",
    "\n",
    "Rather than using **indexing** you use **keys** to return values.\n",
    "\n",
    "```python\n",
    "bento_box_dict = {'ingredient1': 'rice', 'ingredient2': 'unagi', 'ingredient3': 'miso soup'}\n",
    "```\n",
    "To get an element in the dictionary:\n",
    "```python\n",
    "print(bento_box_dict['ingredient2'])\n",
    "```\n",
    "\n",
    "Update your bento_box_list to be a dictionary. Make sure to run `type()` on your dictionary to confirm it is successful."
   ]
  },
  {
   "cell_type": "code",
   "execution_count": 21,
   "metadata": {},
   "outputs": [
    {
     "name": "stdout",
     "output_type": "stream",
     "text": [
      "unagi\n"
     ]
    }
   ],
   "source": [
    "bento_box_dict = {'ingredient1': 'rice', 'ingredient2': 'unagi', 'ingredient3': 'miso soup'}\n",
    "# 3 keys identified with values\n",
    "# hash table lookup is pre-indexed or pre-sorted keys that enable us to find values quickly\n",
    "print(bento_box_dict['ingredient2'])\n",
    "# cannot use bento_box_dict[0] since dictionaries are not ordered elements; must pass in a key"
   ]
  },
  {
   "cell_type": "code",
   "execution_count": 22,
   "metadata": {},
   "outputs": [
    {
     "data": {
      "text/plain": [
       "{'ingredient1': 'rice',\n",
       " 'ingredient2': 'unagi',\n",
       " 'ingredient3': 'miso soup',\n",
       " 'ingredient4': 'sake'}"
      ]
     },
     "execution_count": 22,
     "metadata": {},
     "output_type": "execute_result"
    }
   ],
   "source": [
    "bento_box_dict['ingredient4']='sake'\n",
    "bento_box_dict"
   ]
  },
  {
   "cell_type": "code",
   "execution_count": 26,
   "metadata": {},
   "outputs": [
    {
     "data": {
      "text/plain": [
       "dict_items([('ingredient1', 'rice'), ('ingredient2', 'unagi'), ('ingredient3', 'miso soup'), ('ingredient4', 'sake')])"
      ]
     },
     "execution_count": 26,
     "metadata": {},
     "output_type": "execute_result"
    }
   ],
   "source": [
    "bento_box_dict.items()\n",
    "# each key value paits is an item"
   ]
  },
  {
   "cell_type": "code",
   "execution_count": 30,
   "metadata": {},
   "outputs": [
    {
     "data": {
      "text/plain": [
       "[]"
      ]
     },
     "execution_count": 30,
     "metadata": {},
     "output_type": "execute_result"
    }
   ],
   "source": [
    "bento_box_dict.get('ingredient5', [])\n",
    "# returns default value, if value of key (in first place) cannot be found"
   ]
  },
  {
   "cell_type": "markdown",
   "metadata": {},
   "source": [
    "Now, to make it even better, you can nest **DICTIONARIES** INSIDE of **LISTS**\n",
    "\n",
    "```python\n",
    "group_lunch = [\n",
    "    {'ingredient1': 'rice', 'ingredient2': 'unagi', 'ingredient3': 'miso soup'},\n",
    "    {'ingredient1': 'seaweed', 'ingredient2': 'tempura', 'ingredient3': 'miso soup'},\n",
    "    {'ingredient1': 'hamburger', 'ingredient2': 'french fries', 'ingredient3': 'milkshake'}\n",
    "]\n",
    "```\n",
    "\n",
    "try calling elements of group lunch and see what you get!"
   ]
  },
  {
   "cell_type": "code",
   "execution_count": 32,
   "metadata": {},
   "outputs": [
    {
     "data": {
      "text/plain": [
       "[{'ingredient1': 'rice', 'ingredient2': 'unagi', 'ingredient3': 'miso soup'},\n",
       " {'ingredient1': 'seaweed',\n",
       "  'ingredient2': 'tempura',\n",
       "  'ingredient3': 'miso soup'},\n",
       " {'ingredient1': 'hamburger',\n",
       "  'ingredient2': 'french fries',\n",
       "  'ingredient3': 'milkshake'}]"
      ]
     },
     "execution_count": 32,
     "metadata": {},
     "output_type": "execute_result"
    }
   ],
   "source": [
    "group_lunch = [\n",
    "    {'ingredient1': 'rice', 'ingredient2': 'unagi', 'ingredient3': 'miso soup'},\n",
    "    {'ingredient1': 'seaweed', 'ingredient2': 'tempura', 'ingredient3': 'miso soup'},\n",
    "    {'ingredient1': 'hamburger', 'ingredient2': 'french fries', 'ingredient3': 'milkshake'}\n",
    "]\n",
    "group_lunch\n",
    "# dictionary nested inside list, can now call elements\n",
    "# white space doesn't matter"
   ]
  },
  {
   "cell_type": "code",
   "execution_count": 33,
   "metadata": {},
   "outputs": [
    {
     "data": {
      "text/plain": [
       "{'ingredient1': 'seaweed',\n",
       " 'ingredient2': 'tempura',\n",
       " 'ingredient3': 'miso soup'}"
      ]
     },
     "execution_count": 33,
     "metadata": {},
     "output_type": "execute_result"
    }
   ],
   "source": [
    "group_lunch[1]"
   ]
  },
  {
   "cell_type": "code",
   "execution_count": 34,
   "metadata": {},
   "outputs": [
    {
     "data": {
      "text/plain": [
       "'seaweed'"
      ]
     },
     "execution_count": 34,
     "metadata": {},
     "output_type": "execute_result"
    }
   ],
   "source": [
    "group_lunch[1]['ingredient1']"
   ]
  },
  {
   "cell_type": "markdown",
   "metadata": {},
   "source": [
    "Talk with your neighbors to get a few different bento box orders into a group order. Please limit each order to 5 ingredients. "
   ]
  },
  {
   "cell_type": "code",
   "execution_count": 39,
   "metadata": {},
   "outputs": [
    {
     "data": {
      "text/plain": [
       "{'ingredient1': 'fried egg', 'ingredient2': 'rice', 'ingredient3': 'kimchi'}"
      ]
     },
     "execution_count": 39,
     "metadata": {},
     "output_type": "execute_result"
    }
   ],
   "source": [
    "bento_box_dict = {'ingredient1' : 'fried egg', 'ingredient2' : 'rice', 'ingredient3' : 'kimchi'}\n",
    "bento_box_dict"
   ]
  },
  {
   "cell_type": "code",
   "execution_count": 46,
   "metadata": {},
   "outputs": [],
   "source": [
    "class_order = [\n",
    "    {'ingredient1': 'fried egg', 'ingredient2': 'rice', 'ingredient3': 'kimchi'},\n",
    "   {'ingredient1': 'bic mac', 'ingredient2': ' 6 piece chicken nuggets', 'ingredient3': 'vanilla shake', 'ingredient4': 'extra bbq sauce'}\n",
    "    ]"
   ]
  },
  {
   "cell_type": "code",
   "execution_count": 48,
   "metadata": {},
   "outputs": [
    {
     "name": "stdout",
     "output_type": "stream",
     "text": [
      "kimchi\n",
      "vanilla shake\n"
     ]
    }
   ],
   "source": [
    "for order in class_order:\n",
    "        print(order['ingredient3'])"
   ]
  },
  {
   "cell_type": "code",
   "execution_count": null,
   "metadata": {},
   "outputs": [],
   "source": [
    "for order in class_order:\n",
    "    if 'ingredient4'"
   ]
  },
  {
   "cell_type": "code",
   "execution_count": 50,
   "metadata": {},
   "outputs": [
    {
     "data": {
      "text/plain": [
       "dict_keys(['ingredient1', 'ingredient2', 'ingredient3'])"
      ]
     },
     "execution_count": 50,
     "metadata": {},
     "output_type": "execute_result"
    }
   ],
   "source": [
    "class_order[0].keys()"
   ]
  },
  {
   "cell_type": "code",
   "execution_count": 35,
   "metadata": {},
   "outputs": [
    {
     "data": {
      "text/plain": [
       "'Nimu\\nEats'"
      ]
     },
     "execution_count": 35,
     "metadata": {},
     "output_type": "execute_result"
    }
   ],
   "source": [
    "\"\"\"Nimu\n",
    "Eats\"\"\"\n",
    "# triple quotes allows for multi-line string\n",
    "# /n is new line character\n",
    "# record is a row or observation of data"
   ]
  },
  {
   "cell_type": "code",
   "execution_count": 36,
   "metadata": {},
   "outputs": [
    {
     "name": "stdout",
     "output_type": "stream",
     "text": [
      "Nimu\n",
      "Eats\n"
     ]
    }
   ],
   "source": [
    "print(\"\"\"Nimu\n",
    "Eats\"\"\")"
   ]
  },
  {
   "cell_type": "markdown",
   "metadata": {},
   "source": [
    "#### For loops\n",
    "\n",
    "Okay, is anyone confused about for-loops? \n",
    "\n",
    "(if so - ask me about laundry)\n",
    "\n",
    "If NOT:\n",
    "\n",
    "```python\n",
    "group_lunch = [\n",
    "    {'ingredient1': 'rice', 'ingredient2': 'unagi', 'ingredient3': 'miso soup'},\n",
    "    {'ingredient1': 'seaweed', 'ingredient2': 'tempura', 'ingredient3': 'miso soup'},\n",
    "    {'ingredient1': 'hamburger', 'ingredient2': 'french fries', 'ingredient3': 'milkshake'}\n",
    "]\n",
    "```\n",
    "\n",
    "write a loop to print first ingredient in everyone's bento order.\n",
    "\n"
   ]
  },
  {
   "cell_type": "code",
   "execution_count": null,
   "metadata": {},
   "outputs": [],
   "source": []
  },
  {
   "cell_type": "markdown",
   "metadata": {},
   "source": [
    "### Integration\n",
    "\n",
    "Write a for loop that will go through and print all the orders as a readable sentences. "
   ]
  },
  {
   "cell_type": "code",
   "execution_count": null,
   "metadata": {},
   "outputs": [],
   "source": []
  },
  {
   "cell_type": "markdown",
   "metadata": {},
   "source": [
    "### Reflection:\n",
    "\n",
    "What's an situation where you could use lists and loops to automate a process?\n"
   ]
  },
  {
   "cell_type": "code",
   "execution_count": null,
   "metadata": {},
   "outputs": [],
   "source": []
  }
 ],
 "metadata": {
  "kernelspec": {
   "display_name": "Python 3",
   "language": "python",
   "name": "python3"
  },
  "language_info": {
   "codemirror_mode": {
    "name": "ipython",
    "version": 3
   },
   "file_extension": ".py",
   "mimetype": "text/x-python",
   "name": "python",
   "nbconvert_exporter": "python",
   "pygments_lexer": "ipython3",
   "version": "3.6.9"
  }
 },
 "nbformat": 4,
 "nbformat_minor": 2
}
